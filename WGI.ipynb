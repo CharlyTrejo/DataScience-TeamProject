{
 "cells": [
  {
   "cell_type": "code",
   "execution_count": 5,
   "metadata": {},
   "outputs": [],
   "source": [
    "import pandas as pd\n",
    "import numpy as np\n",
    "import matplotlib.pyplot as plt\n",
    "import seaborn as sns\n",
    "sns.set()"
   ]
  },
  {
   "attachments": {},
   "cell_type": "markdown",
   "metadata": {},
   "source": [
    "Cargamos el dataset de \"World Governance Indicators\""
   ]
  },
  {
   "cell_type": "code",
   "execution_count": 7,
   "metadata": {},
   "outputs": [],
   "source": [
    "df = pd.read_csv(\"dataset/world governance indicators/WGIData.csv\", usecols=[\"Country Name\", \"Country Code\", \"Indicator Name\", \"Indicator Code\", \"2000\", \"2002\", \"2003\", \"2004\", \"2005\", \"2006\", \"2007\", \"2008\", \"2009\", \"2010\", \"2011\", \"2012\", \"2013\", \"2014\", \"2015\", \"2016\", \"2017\", \"2018\", \"2019\", \"2020\"])"
   ]
  },
  {
   "cell_type": "code",
   "execution_count": 14,
   "metadata": {},
   "outputs": [
    {
     "data": {
      "text/html": [
       "<div>\n",
       "<style scoped>\n",
       "    .dataframe tbody tr th:only-of-type {\n",
       "        vertical-align: middle;\n",
       "    }\n",
       "\n",
       "    .dataframe tbody tr th {\n",
       "        vertical-align: top;\n",
       "    }\n",
       "\n",
       "    .dataframe thead th {\n",
       "        text-align: right;\n",
       "    }\n",
       "</style>\n",
       "<table border=\"1\" class=\"dataframe\">\n",
       "  <thead>\n",
       "    <tr style=\"text-align: right;\">\n",
       "      <th></th>\n",
       "      <th>Country Name</th>\n",
       "      <th>Country Code</th>\n",
       "      <th>Indicator Name</th>\n",
       "      <th>Indicator Code</th>\n",
       "      <th>2000</th>\n",
       "      <th>2002</th>\n",
       "      <th>2003</th>\n",
       "      <th>2004</th>\n",
       "      <th>2005</th>\n",
       "      <th>2006</th>\n",
       "      <th>...</th>\n",
       "      <th>2011</th>\n",
       "      <th>2012</th>\n",
       "      <th>2013</th>\n",
       "      <th>2014</th>\n",
       "      <th>2015</th>\n",
       "      <th>2016</th>\n",
       "      <th>2017</th>\n",
       "      <th>2018</th>\n",
       "      <th>2019</th>\n",
       "      <th>2020</th>\n",
       "    </tr>\n",
       "  </thead>\n",
       "  <tbody>\n",
       "    <tr>\n",
       "      <th>0</th>\n",
       "      <td>Afghanistan</td>\n",
       "      <td>AFG</td>\n",
       "      <td>Control of Corruption: Estimate</td>\n",
       "      <td>CC.EST</td>\n",
       "      <td>-1.271724</td>\n",
       "      <td>-1.251137</td>\n",
       "      <td>-1.344180</td>\n",
       "      <td>-1.350647</td>\n",
       "      <td>-1.447252</td>\n",
       "      <td>-1.446292</td>\n",
       "      <td>...</td>\n",
       "      <td>-1.600471</td>\n",
       "      <td>-1.430373</td>\n",
       "      <td>-1.445908</td>\n",
       "      <td>-1.364743</td>\n",
       "      <td>-1.348587</td>\n",
       "      <td>-1.534049</td>\n",
       "      <td>-1.521726</td>\n",
       "      <td>-1.489772</td>\n",
       "      <td>-1.407710</td>\n",
       "      <td>-1.480538</td>\n",
       "    </tr>\n",
       "    <tr>\n",
       "      <th>1</th>\n",
       "      <td>Afghanistan</td>\n",
       "      <td>AFG</td>\n",
       "      <td>Control of Corruption: Number of Sources</td>\n",
       "      <td>CC.NO.SRC</td>\n",
       "      <td>2.000000</td>\n",
       "      <td>2.000000</td>\n",
       "      <td>3.000000</td>\n",
       "      <td>5.000000</td>\n",
       "      <td>5.000000</td>\n",
       "      <td>7.000000</td>\n",
       "      <td>...</td>\n",
       "      <td>9.000000</td>\n",
       "      <td>10.000000</td>\n",
       "      <td>11.000000</td>\n",
       "      <td>11.000000</td>\n",
       "      <td>11.000000</td>\n",
       "      <td>10.000000</td>\n",
       "      <td>10.000000</td>\n",
       "      <td>10.000000</td>\n",
       "      <td>10.000000</td>\n",
       "      <td>9.000000</td>\n",
       "    </tr>\n",
       "    <tr>\n",
       "      <th>2</th>\n",
       "      <td>Afghanistan</td>\n",
       "      <td>AFG</td>\n",
       "      <td>Control of Corruption: Percentile Rank</td>\n",
       "      <td>CC.PER.RNK</td>\n",
       "      <td>4.787234</td>\n",
       "      <td>4.761905</td>\n",
       "      <td>4.761905</td>\n",
       "      <td>6.403941</td>\n",
       "      <td>1.463415</td>\n",
       "      <td>1.951220</td>\n",
       "      <td>...</td>\n",
       "      <td>0.473934</td>\n",
       "      <td>1.421801</td>\n",
       "      <td>0.947867</td>\n",
       "      <td>5.288462</td>\n",
       "      <td>5.769231</td>\n",
       "      <td>3.846154</td>\n",
       "      <td>3.846154</td>\n",
       "      <td>4.807693</td>\n",
       "      <td>6.250000</td>\n",
       "      <td>4.807693</td>\n",
       "    </tr>\n",
       "    <tr>\n",
       "      <th>3</th>\n",
       "      <td>Afghanistan</td>\n",
       "      <td>AFG</td>\n",
       "      <td>Control of Corruption: Percentile Rank, Lower ...</td>\n",
       "      <td>CC.PER.RNK.LOWER</td>\n",
       "      <td>0.000000</td>\n",
       "      <td>0.000000</td>\n",
       "      <td>0.000000</td>\n",
       "      <td>0.000000</td>\n",
       "      <td>0.000000</td>\n",
       "      <td>0.000000</td>\n",
       "      <td>...</td>\n",
       "      <td>0.000000</td>\n",
       "      <td>0.000000</td>\n",
       "      <td>0.000000</td>\n",
       "      <td>0.000000</td>\n",
       "      <td>0.480769</td>\n",
       "      <td>0.000000</td>\n",
       "      <td>0.000000</td>\n",
       "      <td>0.000000</td>\n",
       "      <td>1.442308</td>\n",
       "      <td>0.000000</td>\n",
       "    </tr>\n",
       "    <tr>\n",
       "      <th>4</th>\n",
       "      <td>Afghanistan</td>\n",
       "      <td>AFG</td>\n",
       "      <td>Control of Corruption: Percentile Rank, Upper ...</td>\n",
       "      <td>CC.PER.RNK.UPPER</td>\n",
       "      <td>30.851065</td>\n",
       "      <td>32.804234</td>\n",
       "      <td>19.047619</td>\n",
       "      <td>15.270936</td>\n",
       "      <td>13.170732</td>\n",
       "      <td>11.707317</td>\n",
       "      <td>...</td>\n",
       "      <td>4.265403</td>\n",
       "      <td>11.848341</td>\n",
       "      <td>9.952606</td>\n",
       "      <td>12.500000</td>\n",
       "      <td>12.019231</td>\n",
       "      <td>9.615385</td>\n",
       "      <td>9.615385</td>\n",
       "      <td>9.615385</td>\n",
       "      <td>11.057693</td>\n",
       "      <td>10.576923</td>\n",
       "    </tr>\n",
       "  </tbody>\n",
       "</table>\n",
       "<p>5 rows × 24 columns</p>\n",
       "</div>"
      ],
      "text/plain": [
       "  Country Name Country Code  \\\n",
       "0  Afghanistan          AFG   \n",
       "1  Afghanistan          AFG   \n",
       "2  Afghanistan          AFG   \n",
       "3  Afghanistan          AFG   \n",
       "4  Afghanistan          AFG   \n",
       "\n",
       "                                      Indicator Name    Indicator Code  \\\n",
       "0                    Control of Corruption: Estimate            CC.EST   \n",
       "1           Control of Corruption: Number of Sources         CC.NO.SRC   \n",
       "2             Control of Corruption: Percentile Rank        CC.PER.RNK   \n",
       "3  Control of Corruption: Percentile Rank, Lower ...  CC.PER.RNK.LOWER   \n",
       "4  Control of Corruption: Percentile Rank, Upper ...  CC.PER.RNK.UPPER   \n",
       "\n",
       "        2000       2002       2003       2004       2005       2006  ...  \\\n",
       "0  -1.271724  -1.251137  -1.344180  -1.350647  -1.447252  -1.446292  ...   \n",
       "1   2.000000   2.000000   3.000000   5.000000   5.000000   7.000000  ...   \n",
       "2   4.787234   4.761905   4.761905   6.403941   1.463415   1.951220  ...   \n",
       "3   0.000000   0.000000   0.000000   0.000000   0.000000   0.000000  ...   \n",
       "4  30.851065  32.804234  19.047619  15.270936  13.170732  11.707317  ...   \n",
       "\n",
       "       2011       2012       2013       2014       2015       2016       2017  \\\n",
       "0 -1.600471  -1.430373  -1.445908  -1.364743  -1.348587  -1.534049  -1.521726   \n",
       "1  9.000000  10.000000  11.000000  11.000000  11.000000  10.000000  10.000000   \n",
       "2  0.473934   1.421801   0.947867   5.288462   5.769231   3.846154   3.846154   \n",
       "3  0.000000   0.000000   0.000000   0.000000   0.480769   0.000000   0.000000   \n",
       "4  4.265403  11.848341   9.952606  12.500000  12.019231   9.615385   9.615385   \n",
       "\n",
       "        2018       2019       2020  \n",
       "0  -1.489772  -1.407710  -1.480538  \n",
       "1  10.000000  10.000000   9.000000  \n",
       "2   4.807693   6.250000   4.807693  \n",
       "3   0.000000   1.442308   0.000000  \n",
       "4   9.615385  11.057693  10.576923  \n",
       "\n",
       "[5 rows x 24 columns]"
      ]
     },
     "execution_count": 14,
     "metadata": {},
     "output_type": "execute_result"
    }
   ],
   "source": [
    "df.head()"
   ]
  },
  {
   "cell_type": "code",
   "execution_count": 9,
   "metadata": {},
   "outputs": [
    {
     "data": {
      "text/plain": [
       "(7704, 24)"
      ]
     },
     "execution_count": 9,
     "metadata": {},
     "output_type": "execute_result"
    }
   ],
   "source": [
    "df.shape"
   ]
  },
  {
   "attachments": {},
   "cell_type": "markdown",
   "metadata": {},
   "source": [
    "Elegimos indicadores que nos interesa analizar"
   ]
  },
  {
   "cell_type": "code",
   "execution_count": 10,
   "metadata": {},
   "outputs": [],
   "source": [
    "indicadores = [\"Control of Corruption: Percentile Rank\",\n",
    "            \"Government Effectiveness: Percentile Rank\",\n",
    "            \"Political Stability and Absence of Violence/Terrorism: Percentile Rank\",\n",
    "            \"Regulatory Quality: Percentile Rank\",\n",
    "            \"Rule of Law: Percentile Rank\",\n",
    "            \"Voice and Accountability: Percentile Rank\"]"
   ]
  },
  {
   "attachments": {},
   "cell_type": "markdown",
   "metadata": {},
   "source": [
    "Filtramos por los indicadores"
   ]
  },
  {
   "cell_type": "code",
   "execution_count": 12,
   "metadata": {},
   "outputs": [],
   "source": [
    "df_filtro = df[df[\"Indicator Name\"].isin(indicadores)]"
   ]
  },
  {
   "attachments": {},
   "cell_type": "markdown",
   "metadata": {},
   "source": [
    "Filas y columnas"
   ]
  },
  {
   "cell_type": "code",
   "execution_count": 13,
   "metadata": {},
   "outputs": [
    {
     "data": {
      "text/plain": [
       "(1284, 24)"
      ]
     },
     "execution_count": 13,
     "metadata": {},
     "output_type": "execute_result"
    }
   ],
   "source": [
    "df_filtro.shape"
   ]
  },
  {
   "attachments": {},
   "cell_type": "markdown",
   "metadata": {},
   "source": [
    "Tipo de dato de columnas"
   ]
  },
  {
   "cell_type": "code",
   "execution_count": 15,
   "metadata": {},
   "outputs": [
    {
     "name": "stdout",
     "output_type": "stream",
     "text": [
      "<class 'pandas.core.frame.DataFrame'>\n",
      "Int64Index: 1284 entries, 2 to 7700\n",
      "Data columns (total 24 columns):\n",
      " #   Column          Non-Null Count  Dtype  \n",
      "---  ------          --------------  -----  \n",
      " 0   Country Name    1284 non-null   object \n",
      " 1   Country Code    1284 non-null   object \n",
      " 2   Indicator Name  1284 non-null   object \n",
      " 3   Indicator Code  1284 non-null   object \n",
      " 4   2000            1152 non-null   float64\n",
      " 5   2002            1156 non-null   float64\n",
      " 6   2003            1166 non-null   float64\n",
      " 7   2004            1233 non-null   float64\n",
      " 8   2005            1242 non-null   float64\n",
      " 9   2006            1244 non-null   float64\n",
      " 10  2007            1248 non-null   float64\n",
      " 11  2008            1248 non-null   float64\n",
      " 12  2009            1266 non-null   float64\n",
      " 13  2010            1267 non-null   float64\n",
      " 14  2011            1276 non-null   float64\n",
      " 15  2012            1276 non-null   float64\n",
      " 16  2013            1276 non-null   float64\n",
      " 17  2014            1251 non-null   float64\n",
      " 18  2015            1251 non-null   float64\n",
      " 19  2016            1251 non-null   float64\n",
      " 20  2017            1251 non-null   float64\n",
      " 21  2018            1257 non-null   float64\n",
      " 22  2019            1257 non-null   float64\n",
      " 23  2020            1257 non-null   float64\n",
      "dtypes: float64(20), object(4)\n",
      "memory usage: 250.8+ KB\n"
     ]
    }
   ],
   "source": [
    "df_filtro.info()"
   ]
  },
  {
   "attachments": {},
   "cell_type": "markdown",
   "metadata": {},
   "source": [
    "Valores nulos"
   ]
  },
  {
   "cell_type": "code",
   "execution_count": 16,
   "metadata": {},
   "outputs": [
    {
     "data": {
      "text/plain": [
       "Country Name        0\n",
       "Country Code        0\n",
       "Indicator Name      0\n",
       "Indicator Code      0\n",
       "2000              132\n",
       "2002              128\n",
       "2003              118\n",
       "2004               51\n",
       "2005               42\n",
       "2006               40\n",
       "2007               36\n",
       "2008               36\n",
       "2009               18\n",
       "2010               17\n",
       "2011                8\n",
       "2012                8\n",
       "2013                8\n",
       "2014               33\n",
       "2015               33\n",
       "2016               33\n",
       "2017               33\n",
       "2018               27\n",
       "2019               27\n",
       "2020               27\n",
       "dtype: int64"
      ]
     },
     "execution_count": 16,
     "metadata": {},
     "output_type": "execute_result"
    }
   ],
   "source": [
    "df_filtro.isna().sum()"
   ]
  },
  {
   "attachments": {},
   "cell_type": "markdown",
   "metadata": {},
   "source": [
    "Valores duplicados"
   ]
  },
  {
   "cell_type": "code",
   "execution_count": 17,
   "metadata": {},
   "outputs": [
    {
     "data": {
      "text/plain": [
       "False    1284\n",
       "dtype: int64"
      ]
     },
     "execution_count": 17,
     "metadata": {},
     "output_type": "execute_result"
    }
   ],
   "source": [
    "df_filtro.duplicated().value_counts()"
   ]
  }
 ],
 "metadata": {
  "kernelspec": {
   "display_name": "Python 3",
   "language": "python",
   "name": "python3"
  },
  "language_info": {
   "codemirror_mode": {
    "name": "ipython",
    "version": 3
   },
   "file_extension": ".py",
   "mimetype": "text/x-python",
   "name": "python",
   "nbconvert_exporter": "python",
   "pygments_lexer": "ipython3",
   "version": "3.10.9"
  },
  "orig_nbformat": 4,
  "vscode": {
   "interpreter": {
    "hash": "42153c4c753c9b011111c714d0476e53a03e7d305dd65353e4e91ed368c332d6"
   }
  }
 },
 "nbformat": 4,
 "nbformat_minor": 2
}
