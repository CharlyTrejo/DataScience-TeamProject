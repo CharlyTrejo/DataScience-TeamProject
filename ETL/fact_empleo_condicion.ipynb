{
 "cells": [
  {
   "cell_type": "code",
   "execution_count": 59,
   "metadata": {},
   "outputs": [],
   "source": [
    "import pandas as pd"
   ]
  },
  {
   "cell_type": "code",
   "execution_count": 60,
   "metadata": {},
   "outputs": [],
   "source": [
    "Porcentaje_empleo_desempleo_participacion= pd.read_csv(r'Etl\\Employment, unemployment, and participation rates by place of birth and sex.csv')"
   ]
  },
  {
   "cell_type": "code",
   "execution_count": 61,
   "metadata": {},
   "outputs": [],
   "source": [
    "Porcentaje_empleo_desempleo_participacion.drop(['BIRTH', 'GENDER', 'RATE', 'YEAR', 'Flag Codes', 'Flags'], axis=1, inplace= True)"
   ]
  },
  {
   "cell_type": "code",
   "execution_count": 62,
   "metadata": {},
   "outputs": [],
   "source": [
    "Porcentaje_empleo_desempleo_participacion.drop(columns=Porcentaje_empleo_desempleo_participacion.columns[6:12],axis=1,inplace= True)"
   ]
  },
  {
   "cell_type": "code",
   "execution_count": 63,
   "metadata": {},
   "outputs": [],
   "source": [
    "Porcentaje_empleo_desempleo_participacion.rename(columns={'COUNTRY':'codigo_pais','Country':'pais',\n",
    "                          'Place of birth':'lugar_de_nacimiento', 'Gender':'genero',\n",
    "                          'Rate': 'referencia_tasas', 'Year': 'anio', 'Value': 'valor'}, inplace=True)"
   ]
  },
  {
   "cell_type": "code",
   "execution_count": 64,
   "metadata": {},
   "outputs": [],
   "source": [
    "Porcentaje_empleo_desempleo_participacion= Porcentaje_empleo_desempleo_participacion[(Porcentaje_empleo_desempleo_participacion['genero']== 'Total')]"
   ]
  },
  {
   "cell_type": "code",
   "execution_count": 65,
   "metadata": {},
   "outputs": [],
   "source": [
    "Porcentaje_empleo_desempleo_participacion.drop(['genero'], axis=1, inplace= True)"
   ]
  },
  {
   "cell_type": "code",
   "execution_count": 66,
   "metadata": {},
   "outputs": [],
   "source": [
    "Porcentaje_empleo_desempleo_participacion_empleados = Porcentaje_empleo_desempleo_participacion[Porcentaje_empleo_desempleo_participacion['referencia_tasas'] == 'Employment rate'].rename(columns={'valor':\"empleados\"}).drop(['referencia_tasas'], axis=1)"
   ]
  },
  {
   "cell_type": "code",
   "execution_count": 67,
   "metadata": {},
   "outputs": [],
   "source": [
    "Porcentaje_empleo_desempleo_participacion_desempleados = Porcentaje_empleo_desempleo_participacion[Porcentaje_empleo_desempleo_participacion['referencia_tasas'] == 'Unemployment rate'].rename(columns={'valor':\"desempleados\"}).drop(['referencia_tasas'], axis=1)"
   ]
  },
  {
   "cell_type": "code",
   "execution_count": 68,
   "metadata": {},
   "outputs": [],
   "source": [
    "Porcentaje_empleo_desempleo_participacion_participacion = Porcentaje_empleo_desempleo_participacion[Porcentaje_empleo_desempleo_participacion['referencia_tasas'] == 'Participation rate'].rename(columns={'valor':\"participacion\"}).drop(['referencia_tasas'], axis=1)"
   ]
  },
  {
   "cell_type": "code",
   "execution_count": null,
   "metadata": {},
   "outputs": [],
   "source": [
    "indices = Porcentaje_empleo_desempleo_participacion[(Porcentaje_empleo_desempleo_participacion[\"codigo_pais\"]==\"OECD\")].index\n",
    "Porcentaje_empleo_desempleo_participacion.drop(indices,inplace=True)"
   ]
  },
  {
   "cell_type": "code",
   "execution_count": null,
   "metadata": {},
   "outputs": [],
   "source": [
    "indices = Porcentaje_empleo_desempleo_participacion_desempleados[(Porcentaje_empleo_desempleo_participacion_desempleados[\"codigo_pais\"]==\"OECD\")].index\n",
    "Porcentaje_empleo_desempleo_participacion_desempleados.drop(indices,inplace=True)"
   ]
  },
  {
   "cell_type": "code",
   "execution_count": null,
   "metadata": {},
   "outputs": [],
   "source": [
    "indices = Porcentaje_empleo_desempleo_participacion_empleados[(Porcentaje_empleo_desempleo_participacion_empleados[\"pais\"]==\"OECD - Total\")].index\n",
    "Porcentaje_empleo_desempleo_participacion_empleados.drop(indices,inplace=True)"
   ]
  },
  {
   "cell_type": "code",
   "execution_count": 69,
   "metadata": {},
   "outputs": [],
   "source": [
    "merge1 = pd.merge(Porcentaje_empleo_desempleo_participacion_empleados, Porcentaje_empleo_desempleo_participacion_desempleados, on=['codigo_pais','pais','anio','lugar_de_nacimiento'], how='outer')"
   ]
  },
  {
   "cell_type": "code",
   "execution_count": 70,
   "metadata": {},
   "outputs": [],
   "source": [
    "merge2 = pd.merge(merge1, Porcentaje_empleo_desempleo_participacion_participacion, on=['codigo_pais','pais','anio','lugar_de_nacimiento'], how='outer')"
   ]
  },
  {
   "cell_type": "code",
   "execution_count": 71,
   "metadata": {},
   "outputs": [],
   "source": [
    "merge2['lugar_de_nacimiento'].replace(to_replace='Foreign-born', value='extranjero', inplace=True)\n",
    "merge2['lugar_de_nacimiento'].replace(to_replace='Native-born', value='nativo', inplace=True)\n"
   ]
  },
  {
   "cell_type": "code",
   "execution_count": 72,
   "metadata": {},
   "outputs": [],
   "source": [
    "participacion= pd.read_csv(r'Etl\\Tasa de participación en la fuerza de trabajo.csv')"
   ]
  },
  {
   "cell_type": "code",
   "execution_count": 73,
   "metadata": {},
   "outputs": [],
   "source": [
    "participacion.drop(['source', 'source.label', 'indicator', 'indicator.label','sex', 'sex.label', 'classif1', 'classif2'], axis=1, inplace= True)"
   ]
  },
  {
   "cell_type": "code",
   "execution_count": 74,
   "metadata": {},
   "outputs": [],
   "source": [
    "participacion.drop(columns=participacion.columns[6:15],axis=1,inplace= True)"
   ]
  },
  {
   "cell_type": "code",
   "execution_count": 75,
   "metadata": {},
   "outputs": [],
   "source": [
    "participacion.rename(columns={'ref_area':'codigo_pais','ref_area.label':'pais',\n",
    "                          'classif1.label':'edad', 'classif2.label':'lugar_de_nacimiento',\n",
    "                          'time': 'anio', 'obs_value': 'tasa_participacion'}, inplace=True)"
   ]
  },
  {
   "cell_type": "code",
   "execution_count": 76,
   "metadata": {},
   "outputs": [],
   "source": [
    "participacion= participacion[(participacion['edad']== 'Edad (Tramos agregados): Total')]"
   ]
  },
  {
   "cell_type": "code",
   "execution_count": 77,
   "metadata": {},
   "outputs": [],
   "source": [
    "participacion.drop(['edad'], axis=1, inplace=True)"
   ]
  },
  {
   "cell_type": "code",
   "execution_count": 78,
   "metadata": {},
   "outputs": [],
   "source": [
    "participacion['lugar_de_nacimiento'].replace(to_replace='Lugar de nacimiento: Nativo-nacido', value='nativo', inplace=True)\n",
    "participacion['lugar_de_nacimiento'].replace(to_replace='Lugar de nacimiento: Nacido en el extranjero', value='extranjero', inplace=True)"
   ]
  },
  {
   "cell_type": "code",
   "execution_count": 81,
   "metadata": {},
   "outputs": [],
   "source": [
    "fact_empleo_condicion = pd.merge(merge2, participacion, on=['codigo_pais','pais','lugar_de_nacimiento','anio'], how='outer')"
   ]
  },
  {
   "cell_type": "code",
   "execution_count": 82,
   "metadata": {},
   "outputs": [
    {
     "data": {
      "text/html": [
       "<div>\n",
       "<style scoped>\n",
       "    .dataframe tbody tr th:only-of-type {\n",
       "        vertical-align: middle;\n",
       "    }\n",
       "\n",
       "    .dataframe tbody tr th {\n",
       "        vertical-align: top;\n",
       "    }\n",
       "\n",
       "    .dataframe thead th {\n",
       "        text-align: right;\n",
       "    }\n",
       "</style>\n",
       "<table border=\"1\" class=\"dataframe\">\n",
       "  <thead>\n",
       "    <tr style=\"text-align: right;\">\n",
       "      <th></th>\n",
       "      <th>codigo_pais</th>\n",
       "      <th>pais</th>\n",
       "      <th>lugar_de_nacimiento</th>\n",
       "      <th>anio</th>\n",
       "      <th>empleados</th>\n",
       "      <th>desempleados</th>\n",
       "      <th>participacion</th>\n",
       "      <th>tasa_participacion</th>\n",
       "    </tr>\n",
       "  </thead>\n",
       "  <tbody>\n",
       "    <tr>\n",
       "      <th>0</th>\n",
       "      <td>AUS</td>\n",
       "      <td>Australia</td>\n",
       "      <td>extranjero</td>\n",
       "      <td>2000</td>\n",
       "      <td>64.4</td>\n",
       "      <td>6.7</td>\n",
       "      <td>69.0</td>\n",
       "      <td>NaN</td>\n",
       "    </tr>\n",
       "    <tr>\n",
       "      <th>1</th>\n",
       "      <td>AUS</td>\n",
       "      <td>Australia</td>\n",
       "      <td>extranjero</td>\n",
       "      <td>2001</td>\n",
       "      <td>64.0</td>\n",
       "      <td>7.3</td>\n",
       "      <td>69.0</td>\n",
       "      <td>NaN</td>\n",
       "    </tr>\n",
       "    <tr>\n",
       "      <th>2</th>\n",
       "      <td>AUS</td>\n",
       "      <td>Australia</td>\n",
       "      <td>extranjero</td>\n",
       "      <td>2002</td>\n",
       "      <td>64.5</td>\n",
       "      <td>6.8</td>\n",
       "      <td>69.2</td>\n",
       "      <td>NaN</td>\n",
       "    </tr>\n",
       "    <tr>\n",
       "      <th>3</th>\n",
       "      <td>AUS</td>\n",
       "      <td>Australia</td>\n",
       "      <td>extranjero</td>\n",
       "      <td>2003</td>\n",
       "      <td>64.9</td>\n",
       "      <td>6.4</td>\n",
       "      <td>69.3</td>\n",
       "      <td>NaN</td>\n",
       "    </tr>\n",
       "    <tr>\n",
       "      <th>4</th>\n",
       "      <td>AUS</td>\n",
       "      <td>Australia</td>\n",
       "      <td>extranjero</td>\n",
       "      <td>2004</td>\n",
       "      <td>66.0</td>\n",
       "      <td>5.5</td>\n",
       "      <td>69.9</td>\n",
       "      <td>NaN</td>\n",
       "    </tr>\n",
       "    <tr>\n",
       "      <th>...</th>\n",
       "      <td>...</td>\n",
       "      <td>...</td>\n",
       "      <td>...</td>\n",
       "      <td>...</td>\n",
       "      <td>...</td>\n",
       "      <td>...</td>\n",
       "      <td>...</td>\n",
       "      <td>...</td>\n",
       "    </tr>\n",
       "    <tr>\n",
       "      <th>3381</th>\n",
       "      <td>ZMB</td>\n",
       "      <td>Zambia</td>\n",
       "      <td>extranjero</td>\n",
       "      <td>2017</td>\n",
       "      <td>NaN</td>\n",
       "      <td>NaN</td>\n",
       "      <td>NaN</td>\n",
       "      <td>47.3</td>\n",
       "    </tr>\n",
       "    <tr>\n",
       "      <th>3382</th>\n",
       "      <td>ZWE</td>\n",
       "      <td>Zimbabwe</td>\n",
       "      <td>nativo</td>\n",
       "      <td>2019</td>\n",
       "      <td>NaN</td>\n",
       "      <td>NaN</td>\n",
       "      <td>NaN</td>\n",
       "      <td>65.9</td>\n",
       "    </tr>\n",
       "    <tr>\n",
       "      <th>3383</th>\n",
       "      <td>ZWE</td>\n",
       "      <td>Zimbabwe</td>\n",
       "      <td>extranjero</td>\n",
       "      <td>2019</td>\n",
       "      <td>NaN</td>\n",
       "      <td>NaN</td>\n",
       "      <td>NaN</td>\n",
       "      <td>53.6</td>\n",
       "    </tr>\n",
       "    <tr>\n",
       "      <th>3384</th>\n",
       "      <td>ZWE</td>\n",
       "      <td>Zimbabwe</td>\n",
       "      <td>nativo</td>\n",
       "      <td>2014</td>\n",
       "      <td>NaN</td>\n",
       "      <td>NaN</td>\n",
       "      <td>NaN</td>\n",
       "      <td>84.7</td>\n",
       "    </tr>\n",
       "    <tr>\n",
       "      <th>3385</th>\n",
       "      <td>ZWE</td>\n",
       "      <td>Zimbabwe</td>\n",
       "      <td>extranjero</td>\n",
       "      <td>2014</td>\n",
       "      <td>NaN</td>\n",
       "      <td>NaN</td>\n",
       "      <td>NaN</td>\n",
       "      <td>73.4</td>\n",
       "    </tr>\n",
       "  </tbody>\n",
       "</table>\n",
       "<p>3386 rows × 8 columns</p>\n",
       "</div>"
      ],
      "text/plain": [
       "     codigo_pais       pais lugar_de_nacimiento  anio  empleados  \\\n",
       "0            AUS  Australia          extranjero  2000       64.4   \n",
       "1            AUS  Australia          extranjero  2001       64.0   \n",
       "2            AUS  Australia          extranjero  2002       64.5   \n",
       "3            AUS  Australia          extranjero  2003       64.9   \n",
       "4            AUS  Australia          extranjero  2004       66.0   \n",
       "...          ...        ...                 ...   ...        ...   \n",
       "3381         ZMB     Zambia          extranjero  2017        NaN   \n",
       "3382         ZWE   Zimbabwe              nativo  2019        NaN   \n",
       "3383         ZWE   Zimbabwe          extranjero  2019        NaN   \n",
       "3384         ZWE   Zimbabwe              nativo  2014        NaN   \n",
       "3385         ZWE   Zimbabwe          extranjero  2014        NaN   \n",
       "\n",
       "      desempleados  participacion  tasa_participacion  \n",
       "0              6.7           69.0                 NaN  \n",
       "1              7.3           69.0                 NaN  \n",
       "2              6.8           69.2                 NaN  \n",
       "3              6.4           69.3                 NaN  \n",
       "4              5.5           69.9                 NaN  \n",
       "...            ...            ...                 ...  \n",
       "3381           NaN            NaN                47.3  \n",
       "3382           NaN            NaN                65.9  \n",
       "3383           NaN            NaN                53.6  \n",
       "3384           NaN            NaN                84.7  \n",
       "3385           NaN            NaN                73.4  \n",
       "\n",
       "[3386 rows x 8 columns]"
      ]
     },
     "execution_count": 82,
     "metadata": {},
     "output_type": "execute_result"
    }
   ],
   "source": [
    "fact_empleo_condicion"
   ]
  }
 ],
 "metadata": {
  "kernelspec": {
   "display_name": "Python 3",
   "language": "python",
   "name": "python3"
  },
  "language_info": {
   "codemirror_mode": {
    "name": "ipython",
    "version": 3
   },
   "file_extension": ".py",
   "mimetype": "text/x-python",
   "name": "python",
   "nbconvert_exporter": "python",
   "pygments_lexer": "ipython3",
   "version": "3.10.7"
  },
  "orig_nbformat": 4,
  "vscode": {
   "interpreter": {
    "hash": "e913b7897ac30ba1cf0615ffc95e0dcac655edcf15ece0252fa093eec079069f"
   }
  }
 },
 "nbformat": 4,
 "nbformat_minor": 2
}
