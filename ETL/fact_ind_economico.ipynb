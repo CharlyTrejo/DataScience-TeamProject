{
 "cells": [
  {
   "cell_type": "code",
   "execution_count": 1,
   "metadata": {},
   "outputs": [],
   "source": [
    "import pandas as pd"
   ]
  },
  {
   "cell_type": "code",
   "execution_count": 3,
   "metadata": {},
   "outputs": [
    {
     "data": {
      "text/html": [
       "<div>\n",
       "<style scoped>\n",
       "    .dataframe tbody tr th:only-of-type {\n",
       "        vertical-align: middle;\n",
       "    }\n",
       "\n",
       "    .dataframe tbody tr th {\n",
       "        vertical-align: top;\n",
       "    }\n",
       "\n",
       "    .dataframe thead th {\n",
       "        text-align: right;\n",
       "    }\n",
       "</style>\n",
       "<table border=\"1\" class=\"dataframe\">\n",
       "  <thead>\n",
       "    <tr style=\"text-align: right;\">\n",
       "      <th></th>\n",
       "      <th>Country Name</th>\n",
       "      <th>Country Code</th>\n",
       "      <th>Indicator Name</th>\n",
       "      <th>Indicator Code</th>\n",
       "      <th>1960</th>\n",
       "      <th>1961</th>\n",
       "      <th>1962</th>\n",
       "      <th>1963</th>\n",
       "      <th>1964</th>\n",
       "      <th>1965</th>\n",
       "      <th>...</th>\n",
       "      <th>2013</th>\n",
       "      <th>2014</th>\n",
       "      <th>2015</th>\n",
       "      <th>2016</th>\n",
       "      <th>2017</th>\n",
       "      <th>2018</th>\n",
       "      <th>2019</th>\n",
       "      <th>2020</th>\n",
       "      <th>2021</th>\n",
       "      <th>Unnamed: 66</th>\n",
       "    </tr>\n",
       "  </thead>\n",
       "  <tbody>\n",
       "    <tr>\n",
       "      <th>0</th>\n",
       "      <td>Aruba</td>\n",
       "      <td>ABW</td>\n",
       "      <td>Crecimiento del PIB per cápita (% anual)</td>\n",
       "      <td>NY.GDP.PCAP.KD.ZG</td>\n",
       "      <td>NaN</td>\n",
       "      <td>NaN</td>\n",
       "      <td>NaN</td>\n",
       "      <td>NaN</td>\n",
       "      <td>NaN</td>\n",
       "      <td>NaN</td>\n",
       "      <td>...</td>\n",
       "      <td>5.635318</td>\n",
       "      <td>-0.709567</td>\n",
       "      <td>2.885166</td>\n",
       "      <td>1.515938</td>\n",
       "      <td>4.917139</td>\n",
       "      <td>4.738331</td>\n",
       "      <td>0.181216</td>\n",
       "      <td>-18.698325</td>\n",
       "      <td>17.22530</td>\n",
       "      <td>NaN</td>\n",
       "    </tr>\n",
       "    <tr>\n",
       "      <th>1</th>\n",
       "      <td>NaN</td>\n",
       "      <td>AFE</td>\n",
       "      <td>Crecimiento del PIB per cápita (% anual)</td>\n",
       "      <td>NY.GDP.PCAP.KD.ZG</td>\n",
       "      <td>NaN</td>\n",
       "      <td>-2.360093</td>\n",
       "      <td>5.112132</td>\n",
       "      <td>2.346033</td>\n",
       "      <td>1.728251</td>\n",
       "      <td>2.418551</td>\n",
       "      <td>...</td>\n",
       "      <td>1.402217</td>\n",
       "      <td>1.182822</td>\n",
       "      <td>0.169095</td>\n",
       "      <td>-0.490755</td>\n",
       "      <td>-0.106816</td>\n",
       "      <td>-0.172927</td>\n",
       "      <td>-0.596607</td>\n",
       "      <td>-5.433164</td>\n",
       "      <td>1.64308</td>\n",
       "      <td>NaN</td>\n",
       "    </tr>\n",
       "  </tbody>\n",
       "</table>\n",
       "<p>2 rows × 67 columns</p>\n",
       "</div>"
      ],
      "text/plain": [
       "  Country Name Country Code                            Indicator Name  \\\n",
       "0        Aruba          ABW  Crecimiento del PIB per cápita (% anual)   \n",
       "1          NaN          AFE  Crecimiento del PIB per cápita (% anual)   \n",
       "\n",
       "      Indicator Code  1960      1961      1962      1963      1964      1965  \\\n",
       "0  NY.GDP.PCAP.KD.ZG   NaN       NaN       NaN       NaN       NaN       NaN   \n",
       "1  NY.GDP.PCAP.KD.ZG   NaN -2.360093  5.112132  2.346033  1.728251  2.418551   \n",
       "\n",
       "   ...      2013      2014      2015      2016      2017      2018      2019  \\\n",
       "0  ...  5.635318 -0.709567  2.885166  1.515938  4.917139  4.738331  0.181216   \n",
       "1  ...  1.402217  1.182822  0.169095 -0.490755 -0.106816 -0.172927 -0.596607   \n",
       "\n",
       "        2020      2021  Unnamed: 66  \n",
       "0 -18.698325  17.22530          NaN  \n",
       "1  -5.433164   1.64308          NaN  \n",
       "\n",
       "[2 rows x 67 columns]"
      ]
     },
     "execution_count": 3,
     "metadata": {},
     "output_type": "execute_result"
    }
   ],
   "source": [
    "PIB= pd.read_csv(r'Etl\\Pib.csv')\n",
    "PIB.head(2)"
   ]
  },
  {
   "cell_type": "code",
   "execution_count": 4,
   "metadata": {},
   "outputs": [],
   "source": [
    "PIB.drop(['Indicator Name', 'Indicator Code', 'Unnamed: 66'], axis=1, inplace= True)"
   ]
  },
  {
   "cell_type": "code",
   "execution_count": 5,
   "metadata": {},
   "outputs": [],
   "source": [
    "PIB.drop(columns=PIB.columns[2:32],axis=1,inplace= True)"
   ]
  },
  {
   "cell_type": "code",
   "execution_count": 6,
   "metadata": {},
   "outputs": [],
   "source": [
    "PIB.drop([1,3], axis=0, inplace=True)"
   ]
  },
  {
   "cell_type": "code",
   "execution_count": 7,
   "metadata": {},
   "outputs": [],
   "source": [
    "PIB.fillna(0, inplace= True)"
   ]
  },
  {
   "cell_type": "code",
   "execution_count": 8,
   "metadata": {},
   "outputs": [],
   "source": [
    "PIB.rename(columns={'Country Name':'pais','Country Code':'codigo_pais'}, inplace=True)"
   ]
  },
  {
   "cell_type": "code",
   "execution_count": 9,
   "metadata": {},
   "outputs": [],
   "source": [
    "pib = PIB.melt(id_vars=['pais','codigo_pais'], var_name='anio', value_name='PIB')"
   ]
  },
  {
   "cell_type": "code",
   "execution_count": 46,
   "metadata": {},
   "outputs": [],
   "source": [
    "pib['anio'] = pib['anio'].astype('int64')"
   ]
  },
  {
   "cell_type": "code",
   "execution_count": 48,
   "metadata": {},
   "outputs": [
    {
     "data": {
      "text/html": [
       "<div>\n",
       "<style scoped>\n",
       "    .dataframe tbody tr th:only-of-type {\n",
       "        vertical-align: middle;\n",
       "    }\n",
       "\n",
       "    .dataframe tbody tr th {\n",
       "        vertical-align: top;\n",
       "    }\n",
       "\n",
       "    .dataframe thead th {\n",
       "        text-align: right;\n",
       "    }\n",
       "</style>\n",
       "<table border=\"1\" class=\"dataframe\">\n",
       "  <thead>\n",
       "    <tr style=\"text-align: right;\">\n",
       "      <th></th>\n",
       "      <th>pais</th>\n",
       "      <th>codigo_pais</th>\n",
       "      <th>anio</th>\n",
       "      <th>PIB</th>\n",
       "    </tr>\n",
       "  </thead>\n",
       "  <tbody>\n",
       "    <tr>\n",
       "      <th>0</th>\n",
       "      <td>Aruba</td>\n",
       "      <td>ABW</td>\n",
       "      <td>1990</td>\n",
       "      <td>2.195805</td>\n",
       "    </tr>\n",
       "    <tr>\n",
       "      <th>1</th>\n",
       "      <td>Afganistán</td>\n",
       "      <td>AFG</td>\n",
       "      <td>1990</td>\n",
       "      <td>0.000000</td>\n",
       "    </tr>\n",
       "    <tr>\n",
       "      <th>2</th>\n",
       "      <td>Angola</td>\n",
       "      <td>AGO</td>\n",
       "      <td>1990</td>\n",
       "      <td>-6.626409</td>\n",
       "    </tr>\n",
       "    <tr>\n",
       "      <th>3</th>\n",
       "      <td>Albania</td>\n",
       "      <td>ALB</td>\n",
       "      <td>1990</td>\n",
       "      <td>-11.187905</td>\n",
       "    </tr>\n",
       "    <tr>\n",
       "      <th>4</th>\n",
       "      <td>Andorra</td>\n",
       "      <td>AND</td>\n",
       "      <td>1990</td>\n",
       "      <td>0.042321</td>\n",
       "    </tr>\n",
       "  </tbody>\n",
       "</table>\n",
       "</div>"
      ],
      "text/plain": [
       "         pais codigo_pais  anio        PIB\n",
       "0       Aruba         ABW  1990   2.195805\n",
       "1  Afganistán         AFG  1990   0.000000\n",
       "2      Angola         AGO  1990  -6.626409\n",
       "3     Albania         ALB  1990 -11.187905\n",
       "4     Andorra         AND  1990   0.042321"
      ]
     },
     "execution_count": 48,
     "metadata": {},
     "output_type": "execute_result"
    }
   ],
   "source": [
    "pib.head()"
   ]
  },
  {
   "cell_type": "code",
   "execution_count": 11,
   "metadata": {},
   "outputs": [
    {
     "data": {
      "text/html": [
       "<div>\n",
       "<style scoped>\n",
       "    .dataframe tbody tr th:only-of-type {\n",
       "        vertical-align: middle;\n",
       "    }\n",
       "\n",
       "    .dataframe tbody tr th {\n",
       "        vertical-align: top;\n",
       "    }\n",
       "\n",
       "    .dataframe thead th {\n",
       "        text-align: right;\n",
       "    }\n",
       "</style>\n",
       "<table border=\"1\" class=\"dataframe\">\n",
       "  <thead>\n",
       "    <tr style=\"text-align: right;\">\n",
       "      <th></th>\n",
       "      <th>ref_area</th>\n",
       "      <th>ref_area.label</th>\n",
       "      <th>source</th>\n",
       "      <th>source.label</th>\n",
       "      <th>indicator</th>\n",
       "      <th>indicator.label</th>\n",
       "      <th>classif1</th>\n",
       "      <th>classif1.label</th>\n",
       "      <th>time</th>\n",
       "      <th>obs_value</th>\n",
       "      <th>obs_status</th>\n",
       "      <th>obs_status.label</th>\n",
       "      <th>note_indicator</th>\n",
       "      <th>note_indicator.label</th>\n",
       "      <th>note_source</th>\n",
       "      <th>note_source.label</th>\n",
       "    </tr>\n",
       "  </thead>\n",
       "  <tbody>\n",
       "    <tr>\n",
       "      <th>0</th>\n",
       "      <td>AFG</td>\n",
       "      <td>Afganistán</td>\n",
       "      <td>FX:3344</td>\n",
       "      <td>ADM - Legislación Laboral</td>\n",
       "      <td>EAR_4MMN_CUR_NB</td>\n",
       "      <td>Salario mínimo nominal mensual bruto</td>\n",
       "      <td>CUR_TYPE_USD</td>\n",
       "      <td>Divisa: Dólar estadounidense</td>\n",
       "      <td>2020</td>\n",
       "      <td>71.60</td>\n",
       "      <td>NaN</td>\n",
       "      <td>NaN</td>\n",
       "      <td>T30:110_I19:6291</td>\n",
       "      <td>Moneda: AFG - Afgani afgano (AFN) | Tipo de sa...</td>\n",
       "      <td>NaN</td>\n",
       "      <td>NaN</td>\n",
       "    </tr>\n",
       "    <tr>\n",
       "      <th>1</th>\n",
       "      <td>AFG</td>\n",
       "      <td>Afganistán</td>\n",
       "      <td>FX:3344</td>\n",
       "      <td>ADM - Legislación Laboral</td>\n",
       "      <td>EAR_4MMN_CUR_NB</td>\n",
       "      <td>Salario mínimo nominal mensual bruto</td>\n",
       "      <td>CUR_TYPE_USD</td>\n",
       "      <td>Divisa: Dólar estadounidense</td>\n",
       "      <td>2019</td>\n",
       "      <td>70.75</td>\n",
       "      <td>NaN</td>\n",
       "      <td>NaN</td>\n",
       "      <td>T30:110_I19:6291</td>\n",
       "      <td>Moneda: AFG - Afgani afgano (AFN) | Tipo de sa...</td>\n",
       "      <td>NaN</td>\n",
       "      <td>NaN</td>\n",
       "    </tr>\n",
       "    <tr>\n",
       "      <th>2</th>\n",
       "      <td>AFG</td>\n",
       "      <td>Afganistán</td>\n",
       "      <td>FX:3344</td>\n",
       "      <td>ADM - Legislación Laboral</td>\n",
       "      <td>EAR_4MMN_CUR_NB</td>\n",
       "      <td>Salario mínimo nominal mensual bruto</td>\n",
       "      <td>CUR_TYPE_USD</td>\n",
       "      <td>Divisa: Dólar estadounidense</td>\n",
       "      <td>2018</td>\n",
       "      <td>76.30</td>\n",
       "      <td>NaN</td>\n",
       "      <td>NaN</td>\n",
       "      <td>T30:110_I19:6291</td>\n",
       "      <td>Moneda: AFG - Afgani afgano (AFN) | Tipo de sa...</td>\n",
       "      <td>NaN</td>\n",
       "      <td>NaN</td>\n",
       "    </tr>\n",
       "    <tr>\n",
       "      <th>3</th>\n",
       "      <td>AFG</td>\n",
       "      <td>Afganistán</td>\n",
       "      <td>FX:3344</td>\n",
       "      <td>ADM - Legislación Laboral</td>\n",
       "      <td>EAR_4MMN_CUR_NB</td>\n",
       "      <td>Salario mínimo nominal mensual bruto</td>\n",
       "      <td>CUR_TYPE_USD</td>\n",
       "      <td>Divisa: Dólar estadounidense</td>\n",
       "      <td>2017</td>\n",
       "      <td>80.85</td>\n",
       "      <td>NaN</td>\n",
       "      <td>NaN</td>\n",
       "      <td>T30:110_I19:6291</td>\n",
       "      <td>Moneda: AFG - Afgani afgano (AFN) | Tipo de sa...</td>\n",
       "      <td>NaN</td>\n",
       "      <td>NaN</td>\n",
       "    </tr>\n",
       "    <tr>\n",
       "      <th>4</th>\n",
       "      <td>AFG</td>\n",
       "      <td>Afganistán</td>\n",
       "      <td>FX:3344</td>\n",
       "      <td>ADM - Legislación Laboral</td>\n",
       "      <td>EAR_4MMN_CUR_NB</td>\n",
       "      <td>Salario mínimo nominal mensual bruto</td>\n",
       "      <td>CUR_TYPE_USD</td>\n",
       "      <td>Divisa: Dólar estadounidense</td>\n",
       "      <td>2016</td>\n",
       "      <td>73.67</td>\n",
       "      <td>NaN</td>\n",
       "      <td>NaN</td>\n",
       "      <td>T30:110_I19:6291</td>\n",
       "      <td>Moneda: AFG - Afgani afgano (AFN) | Tipo de sa...</td>\n",
       "      <td>NaN</td>\n",
       "      <td>NaN</td>\n",
       "    </tr>\n",
       "  </tbody>\n",
       "</table>\n",
       "</div>"
      ],
      "text/plain": [
       "  ref_area ref_area.label   source               source.label  \\\n",
       "0      AFG     Afganistán  FX:3344  ADM - Legislación Laboral   \n",
       "1      AFG     Afganistán  FX:3344  ADM - Legislación Laboral   \n",
       "2      AFG     Afganistán  FX:3344  ADM - Legislación Laboral   \n",
       "3      AFG     Afganistán  FX:3344  ADM - Legislación Laboral   \n",
       "4      AFG     Afganistán  FX:3344  ADM - Legislación Laboral   \n",
       "\n",
       "         indicator                       indicator.label      classif1  \\\n",
       "0  EAR_4MMN_CUR_NB  Salario mínimo nominal mensual bruto  CUR_TYPE_USD   \n",
       "1  EAR_4MMN_CUR_NB  Salario mínimo nominal mensual bruto  CUR_TYPE_USD   \n",
       "2  EAR_4MMN_CUR_NB  Salario mínimo nominal mensual bruto  CUR_TYPE_USD   \n",
       "3  EAR_4MMN_CUR_NB  Salario mínimo nominal mensual bruto  CUR_TYPE_USD   \n",
       "4  EAR_4MMN_CUR_NB  Salario mínimo nominal mensual bruto  CUR_TYPE_USD   \n",
       "\n",
       "                 classif1.label  time  obs_value obs_status obs_status.label  \\\n",
       "0  Divisa: Dólar estadounidense  2020      71.60        NaN              NaN   \n",
       "1  Divisa: Dólar estadounidense  2019      70.75        NaN              NaN   \n",
       "2  Divisa: Dólar estadounidense  2018      76.30        NaN              NaN   \n",
       "3  Divisa: Dólar estadounidense  2017      80.85        NaN              NaN   \n",
       "4  Divisa: Dólar estadounidense  2016      73.67        NaN              NaN   \n",
       "\n",
       "     note_indicator                               note_indicator.label  \\\n",
       "0  T30:110_I19:6291  Moneda: AFG - Afgani afgano (AFN) | Tipo de sa...   \n",
       "1  T30:110_I19:6291  Moneda: AFG - Afgani afgano (AFN) | Tipo de sa...   \n",
       "2  T30:110_I19:6291  Moneda: AFG - Afgani afgano (AFN) | Tipo de sa...   \n",
       "3  T30:110_I19:6291  Moneda: AFG - Afgani afgano (AFN) | Tipo de sa...   \n",
       "4  T30:110_I19:6291  Moneda: AFG - Afgani afgano (AFN) | Tipo de sa...   \n",
       "\n",
       "  note_source note_source.label  \n",
       "0         NaN               NaN  \n",
       "1         NaN               NaN  \n",
       "2         NaN               NaN  \n",
       "3         NaN               NaN  \n",
       "4         NaN               NaN  "
      ]
     },
     "execution_count": 11,
     "metadata": {},
     "output_type": "execute_result"
    }
   ],
   "source": [
    "df_salario_minimo = pd.read_csv(r'migracion_charly\\salario_minimo_mensual_bruto_anual_dolares.csv',sep=',', header=0)\n",
    "df_salario_minimo.head()"
   ]
  },
  {
   "cell_type": "code",
   "execution_count": 12,
   "metadata": {},
   "outputs": [],
   "source": [
    "df_salario_minimo.drop('source', axis=1, inplace=True)\n",
    "df_salario_minimo.drop('source.label', axis=1, inplace=True)\n",
    "df_salario_minimo.drop('indicator', axis=1, inplace=True)\n",
    "df_salario_minimo.drop('indicator.label', axis=1, inplace=True)\n",
    "df_salario_minimo.drop('classif1', axis=1, inplace=True)\n",
    "df_salario_minimo.drop('classif1.label', axis=1, inplace=True)\n",
    "df_salario_minimo.drop('obs_status', axis=1, inplace=True)\n",
    "df_salario_minimo.drop('obs_status.label', axis=1, inplace=True)\n",
    "df_salario_minimo.drop('note_indicator', axis=1, inplace=True)\n",
    "df_salario_minimo.drop('note_indicator.label', axis=1, inplace=True)\n",
    "df_salario_minimo.drop('note_source', axis=1, inplace=True)\n",
    "df_salario_minimo.drop('note_source.label', axis=1, inplace=True)"
   ]
  },
  {
   "cell_type": "code",
   "execution_count": 13,
   "metadata": {},
   "outputs": [],
   "source": [
    "df_salario_minimo.rename(columns={'ref_area':'codigo_pais', 'ref_area.label':'pais', 'time':'anio', 'obs_value':'salario_minimo'}, inplace=True)"
   ]
  },
  {
   "cell_type": "code",
   "execution_count": 14,
   "metadata": {},
   "outputs": [],
   "source": [
    "df_salario_minimo = df_salario_minimo[(df_salario_minimo['anio'] >= 1990)]"
   ]
  },
  {
   "cell_type": "code",
   "execution_count": 43,
   "metadata": {},
   "outputs": [
    {
     "name": "stdout",
     "output_type": "stream",
     "text": [
      "<class 'pandas.core.frame.DataFrame'>\n",
      "Int64Index: 2939 entries, 0 to 2941\n",
      "Data columns (total 4 columns):\n",
      " #   Column          Non-Null Count  Dtype  \n",
      "---  ------          --------------  -----  \n",
      " 0   codigo_pais     2939 non-null   object \n",
      " 1   pais            2939 non-null   object \n",
      " 2   anio            2939 non-null   int64  \n",
      " 3   salario_minimo  2939 non-null   float64\n",
      "dtypes: float64(1), int64(1), object(2)\n",
      "memory usage: 114.8+ KB\n"
     ]
    }
   ],
   "source": [
    "df_salario_minimo.info()"
   ]
  },
  {
   "cell_type": "code",
   "execution_count": 18,
   "metadata": {},
   "outputs": [],
   "source": [
    "df_average_wages = pd.read_csv(r'migracion_charly\\average_wages.csv', sep=',', header=0)"
   ]
  },
  {
   "cell_type": "code",
   "execution_count": 19,
   "metadata": {},
   "outputs": [],
   "source": [
    "df_average_wages.drop('INDICATOR', axis=1, inplace=True)\n",
    "df_average_wages.drop('SUBJECT', axis=1, inplace=True)\n",
    "df_average_wages.drop('MEASURE', axis=1, inplace=True)\n",
    "df_average_wages.drop('FREQUENCY', axis=1, inplace=True)\n",
    "df_average_wages.drop('Flag Codes', axis=1, inplace=True)"
   ]
  },
  {
   "cell_type": "code",
   "execution_count": 20,
   "metadata": {},
   "outputs": [],
   "source": [
    "df_average_wages.rename(columns={'LOCATION':'codigo_pais', 'TIME':'anio', 'Value':'salario_promedio'}, inplace=True)"
   ]
  },
  {
   "cell_type": "code",
   "execution_count": 21,
   "metadata": {},
   "outputs": [
    {
     "data": {
      "text/html": [
       "<div>\n",
       "<style scoped>\n",
       "    .dataframe tbody tr th:only-of-type {\n",
       "        vertical-align: middle;\n",
       "    }\n",
       "\n",
       "    .dataframe tbody tr th {\n",
       "        vertical-align: top;\n",
       "    }\n",
       "\n",
       "    .dataframe thead th {\n",
       "        text-align: right;\n",
       "    }\n",
       "</style>\n",
       "<table border=\"1\" class=\"dataframe\">\n",
       "  <thead>\n",
       "    <tr style=\"text-align: right;\">\n",
       "      <th></th>\n",
       "      <th>codigo_pais</th>\n",
       "      <th>anio</th>\n",
       "      <th>salario_promedio</th>\n",
       "    </tr>\n",
       "  </thead>\n",
       "  <tbody>\n",
       "    <tr>\n",
       "      <th>0</th>\n",
       "      <td>AUS</td>\n",
       "      <td>1990</td>\n",
       "      <td>40519.083621</td>\n",
       "    </tr>\n",
       "    <tr>\n",
       "      <th>1</th>\n",
       "      <td>AUS</td>\n",
       "      <td>1991</td>\n",
       "      <td>40328.934866</td>\n",
       "    </tr>\n",
       "    <tr>\n",
       "      <th>2</th>\n",
       "      <td>AUS</td>\n",
       "      <td>1992</td>\n",
       "      <td>41135.798085</td>\n",
       "    </tr>\n",
       "    <tr>\n",
       "      <th>3</th>\n",
       "      <td>AUS</td>\n",
       "      <td>1993</td>\n",
       "      <td>41513.545516</td>\n",
       "    </tr>\n",
       "    <tr>\n",
       "      <th>4</th>\n",
       "      <td>AUS</td>\n",
       "      <td>1994</td>\n",
       "      <td>41789.766398</td>\n",
       "    </tr>\n",
       "  </tbody>\n",
       "</table>\n",
       "</div>"
      ],
      "text/plain": [
       "  codigo_pais  anio  salario_promedio\n",
       "0         AUS  1990      40519.083621\n",
       "1         AUS  1991      40328.934866\n",
       "2         AUS  1992      41135.798085\n",
       "3         AUS  1993      41513.545516\n",
       "4         AUS  1994      41789.766398"
      ]
     },
     "execution_count": 21,
     "metadata": {},
     "output_type": "execute_result"
    }
   ],
   "source": [
    "df_average_wages.head()"
   ]
  },
  {
   "cell_type": "code",
   "execution_count": 29,
   "metadata": {},
   "outputs": [],
   "source": [
    "df_wage_levels = pd.read_csv(r'migracion_charly\\wage_levels.csv', sep=',', header=0)"
   ]
  },
  {
   "cell_type": "code",
   "execution_count": 30,
   "metadata": {},
   "outputs": [],
   "source": [
    "df_wage_levels.drop('INDICATOR', axis=1, inplace=True)\n",
    "df_wage_levels.drop('MEASURE', axis=1, inplace=True)\n",
    "df_wage_levels.drop('FREQUENCY', axis=1, inplace=True)\n",
    "df_wage_levels.drop('Flag Codes', axis=1, inplace=True)"
   ]
  },
  {
   "cell_type": "code",
   "execution_count": 32,
   "metadata": {},
   "outputs": [],
   "source": [
    "df_wage_levels = df_wage_levels[(df_wage_levels['TIME'] >= 1990)]"
   ]
  },
  {
   "cell_type": "code",
   "execution_count": 33,
   "metadata": {},
   "outputs": [],
   "source": [
    "df_wage_levels_low = df_wage_levels[df_wage_levels['SUBJECT'] == 'LPAY'].rename(columns={'Value':'low_pay'}).drop(['SUBJECT'], axis=1)"
   ]
  },
  {
   "cell_type": "code",
   "execution_count": 34,
   "metadata": {},
   "outputs": [],
   "source": [
    "df_wage_levels_high = df_wage_levels[df_wage_levels['SUBJECT'] == 'HPAY'].rename(columns={'Value':'high_pay'}).drop(['SUBJECT'], axis=1)"
   ]
  },
  {
   "cell_type": "code",
   "execution_count": 37,
   "metadata": {},
   "outputs": [],
   "source": [
    "df_wage_levels_merged = pd.merge(df_wage_levels_high, df_wage_levels_low, on=['LOCATION','TIME'], how='outer')"
   ]
  },
  {
   "cell_type": "code",
   "execution_count": 38,
   "metadata": {},
   "outputs": [],
   "source": [
    "df_wage_levels_merged.rename(columns={'LOCATION':'codigo_pais', 'SUBJECT':'tipo', 'TIME': 'anio'}, inplace=True)"
   ]
  },
  {
   "cell_type": "code",
   "execution_count": 40,
   "metadata": {},
   "outputs": [
    {
     "data": {
      "text/html": [
       "<div>\n",
       "<style scoped>\n",
       "    .dataframe tbody tr th:only-of-type {\n",
       "        vertical-align: middle;\n",
       "    }\n",
       "\n",
       "    .dataframe tbody tr th {\n",
       "        vertical-align: top;\n",
       "    }\n",
       "\n",
       "    .dataframe thead th {\n",
       "        text-align: right;\n",
       "    }\n",
       "</style>\n",
       "<table border=\"1\" class=\"dataframe\">\n",
       "  <thead>\n",
       "    <tr style=\"text-align: right;\">\n",
       "      <th></th>\n",
       "      <th>codigo_pais</th>\n",
       "      <th>anio</th>\n",
       "      <th>high_pay</th>\n",
       "      <th>low_pay</th>\n",
       "    </tr>\n",
       "  </thead>\n",
       "  <tbody>\n",
       "    <tr>\n",
       "      <th>0</th>\n",
       "      <td>AUT</td>\n",
       "      <td>2004</td>\n",
       "      <td>19.678054</td>\n",
       "      <td>15.153088</td>\n",
       "    </tr>\n",
       "    <tr>\n",
       "      <th>1</th>\n",
       "      <td>AUT</td>\n",
       "      <td>2005</td>\n",
       "      <td>20.000020</td>\n",
       "      <td>15.275962</td>\n",
       "    </tr>\n",
       "    <tr>\n",
       "      <th>2</th>\n",
       "      <td>AUT</td>\n",
       "      <td>2006</td>\n",
       "      <td>20.203231</td>\n",
       "      <td>15.789915</td>\n",
       "    </tr>\n",
       "    <tr>\n",
       "      <th>3</th>\n",
       "      <td>AUT</td>\n",
       "      <td>2007</td>\n",
       "      <td>20.379933</td>\n",
       "      <td>16.193482</td>\n",
       "    </tr>\n",
       "    <tr>\n",
       "      <th>4</th>\n",
       "      <td>AUT</td>\n",
       "      <td>2008</td>\n",
       "      <td>20.455821</td>\n",
       "      <td>15.865556</td>\n",
       "    </tr>\n",
       "  </tbody>\n",
       "</table>\n",
       "</div>"
      ],
      "text/plain": [
       "  codigo_pais  anio   high_pay    low_pay\n",
       "0         AUT  2004  19.678054  15.153088\n",
       "1         AUT  2005  20.000020  15.275962\n",
       "2         AUT  2006  20.203231  15.789915\n",
       "3         AUT  2007  20.379933  16.193482\n",
       "4         AUT  2008  20.455821  15.865556"
      ]
     },
     "execution_count": 40,
     "metadata": {},
     "output_type": "execute_result"
    }
   ],
   "source": [
    "df_wage_levels_merged.head()"
   ]
  },
  {
   "cell_type": "code",
   "execution_count": 51,
   "metadata": {},
   "outputs": [],
   "source": [
    "merge1 = pd.merge(pib, df_salario_minimo, on=['codigo_pais','pais','anio'], how='outer')"
   ]
  },
  {
   "cell_type": "code",
   "execution_count": 53,
   "metadata": {},
   "outputs": [],
   "source": [
    "merge2 = pd.merge(merge1, df_average_wages, on=['codigo_pais','anio'], how='outer')"
   ]
  },
  {
   "cell_type": "code",
   "execution_count": 56,
   "metadata": {},
   "outputs": [],
   "source": [
    "fact_ind_economicos = pd.merge(merge2, df_wage_levels_merged, on=['codigo_pais','anio'], how='outer')"
   ]
  },
  {
   "cell_type": "code",
   "execution_count": 57,
   "metadata": {},
   "outputs": [
    {
     "data": {
      "text/html": [
       "<div>\n",
       "<style scoped>\n",
       "    .dataframe tbody tr th:only-of-type {\n",
       "        vertical-align: middle;\n",
       "    }\n",
       "\n",
       "    .dataframe tbody tr th {\n",
       "        vertical-align: top;\n",
       "    }\n",
       "\n",
       "    .dataframe thead th {\n",
       "        text-align: right;\n",
       "    }\n",
       "</style>\n",
       "<table border=\"1\" class=\"dataframe\">\n",
       "  <thead>\n",
       "    <tr style=\"text-align: right;\">\n",
       "      <th></th>\n",
       "      <th>pais</th>\n",
       "      <th>codigo_pais</th>\n",
       "      <th>anio</th>\n",
       "      <th>PIB</th>\n",
       "      <th>salario_minimo</th>\n",
       "      <th>salario_promedio</th>\n",
       "      <th>high_pay</th>\n",
       "      <th>low_pay</th>\n",
       "    </tr>\n",
       "  </thead>\n",
       "  <tbody>\n",
       "    <tr>\n",
       "      <th>0</th>\n",
       "      <td>Aruba</td>\n",
       "      <td>ABW</td>\n",
       "      <td>1990</td>\n",
       "      <td>2.195805</td>\n",
       "      <td>NaN</td>\n",
       "      <td>NaN</td>\n",
       "      <td>NaN</td>\n",
       "      <td>NaN</td>\n",
       "    </tr>\n",
       "    <tr>\n",
       "      <th>1</th>\n",
       "      <td>Afganistán</td>\n",
       "      <td>AFG</td>\n",
       "      <td>1990</td>\n",
       "      <td>0.000000</td>\n",
       "      <td>NaN</td>\n",
       "      <td>NaN</td>\n",
       "      <td>NaN</td>\n",
       "      <td>NaN</td>\n",
       "    </tr>\n",
       "    <tr>\n",
       "      <th>2</th>\n",
       "      <td>Angola</td>\n",
       "      <td>AGO</td>\n",
       "      <td>1990</td>\n",
       "      <td>-6.626409</td>\n",
       "      <td>NaN</td>\n",
       "      <td>NaN</td>\n",
       "      <td>NaN</td>\n",
       "      <td>NaN</td>\n",
       "    </tr>\n",
       "    <tr>\n",
       "      <th>3</th>\n",
       "      <td>Albania</td>\n",
       "      <td>ALB</td>\n",
       "      <td>1990</td>\n",
       "      <td>-11.187905</td>\n",
       "      <td>NaN</td>\n",
       "      <td>NaN</td>\n",
       "      <td>NaN</td>\n",
       "      <td>NaN</td>\n",
       "    </tr>\n",
       "    <tr>\n",
       "      <th>4</th>\n",
       "      <td>Andorra</td>\n",
       "      <td>AND</td>\n",
       "      <td>1990</td>\n",
       "      <td>0.042321</td>\n",
       "      <td>NaN</td>\n",
       "      <td>NaN</td>\n",
       "      <td>NaN</td>\n",
       "      <td>NaN</td>\n",
       "    </tr>\n",
       "  </tbody>\n",
       "</table>\n",
       "</div>"
      ],
      "text/plain": [
       "         pais codigo_pais  anio        PIB  salario_minimo  salario_promedio  \\\n",
       "0       Aruba         ABW  1990   2.195805             NaN               NaN   \n",
       "1  Afganistán         AFG  1990   0.000000             NaN               NaN   \n",
       "2      Angola         AGO  1990  -6.626409             NaN               NaN   \n",
       "3     Albania         ALB  1990 -11.187905             NaN               NaN   \n",
       "4     Andorra         AND  1990   0.042321             NaN               NaN   \n",
       "\n",
       "   high_pay  low_pay  \n",
       "0       NaN      NaN  \n",
       "1       NaN      NaN  \n",
       "2       NaN      NaN  \n",
       "3       NaN      NaN  \n",
       "4       NaN      NaN  "
      ]
     },
     "execution_count": 57,
     "metadata": {},
     "output_type": "execute_result"
    }
   ],
   "source": [
    "fact_ind_economicos.head()"
   ]
  }
 ],
 "metadata": {
  "kernelspec": {
   "display_name": "Python 3",
   "language": "python",
   "name": "python3"
  },
  "language_info": {
   "codemirror_mode": {
    "name": "ipython",
    "version": 3
   },
   "file_extension": ".py",
   "mimetype": "text/x-python",
   "name": "python",
   "nbconvert_exporter": "python",
   "pygments_lexer": "ipython3",
   "version": "3.11.1"
  },
  "orig_nbformat": 4,
  "vscode": {
   "interpreter": {
    "hash": "2ed8b01cc943fc452f3875585953f694a0a4e4a007a9ce4019ec5b05c1f98e94"
   }
  }
 },
 "nbformat": 4,
 "nbformat_minor": 2
}
