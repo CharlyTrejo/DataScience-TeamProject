{
 "cells": [
  {
   "cell_type": "code",
   "execution_count": 83,
   "metadata": {},
   "outputs": [],
   "source": [
    "import pandas as pd"
   ]
  },
  {
   "cell_type": "code",
   "execution_count": 84,
   "metadata": {},
   "outputs": [],
   "source": [
    "PIB= pd.read_csv(r'Pib.csv')"
   ]
  },
  {
   "cell_type": "code",
   "execution_count": 85,
   "metadata": {},
   "outputs": [],
   "source": [
    "PIB.drop(['Indicator Name', 'Indicator Code', 'Unnamed: 66'], axis=1, inplace= True)"
   ]
  },
  {
   "cell_type": "code",
   "execution_count": 86,
   "metadata": {},
   "outputs": [],
   "source": [
    "PIB.drop(columns=PIB.columns[2:32],axis=1,inplace= True)"
   ]
  },
  {
   "cell_type": "code",
   "execution_count": 87,
   "metadata": {},
   "outputs": [],
   "source": [
    "PIB.drop([1,3], axis=0, inplace=True)"
   ]
  },
  {
   "cell_type": "code",
   "execution_count": 88,
   "metadata": {},
   "outputs": [],
   "source": [
    "PIB.fillna(0, inplace= True)"
   ]
  },
  {
   "cell_type": "code",
   "execution_count": 89,
   "metadata": {},
   "outputs": [],
   "source": [
    "PIB.rename(columns={'Country Name':'pais','Country Code':'codigo_pais'}, inplace=True)"
   ]
  },
  {
   "cell_type": "code",
   "execution_count": 90,
   "metadata": {},
   "outputs": [],
   "source": [
    "pib = PIB.melt(id_vars=['pais','codigo_pais'], var_name='anio', value_name='PIB')"
   ]
  },
  {
   "cell_type": "code",
   "execution_count": 91,
   "metadata": {},
   "outputs": [],
   "source": [
    "pib['anio'] = pib['anio'].astype('int64')"
   ]
  },
  {
   "cell_type": "code",
   "execution_count": null,
   "metadata": {},
   "outputs": [],
   "source": [
    "paises = ['El mundo árabe', 'Europa Central y del Báltico', 'Estados pequeos del Caribe', 'Asia oriental y el Pacífico (excluido altos ingresos)', \n",
    "          'inicial del dividendo demográfico', 'Asia oriental y el Pacífico', 'Europa y Asia central (excluido altos ingresos)', 'Europa y Asia central', \n",
    "          'Zona del Euro', 'Unión Europea', 'Frágiles y situaciones de conflicto afectados', 'Ingreso mediano alto', 'Islas Vírgenes (EE.UU.)', 'Mundo',\n",
    "          'Países pobres muy endeudados (PPME)', 'Sólo BIRF', 'BIRF y la AIF', 'total de la AIF', 'mezcla de la AIF','Sólo AIF', 'Isla de Man', \n",
    "          'No clasificado', 'Islas Feroe', 'Ingreso alto']"
   ]
  },
  {
   "cell_type": "code",
   "execution_count": null,
   "metadata": {},
   "outputs": [],
   "source": [
    "indices = pib[pib['pais'].isin(paises)].index"
   ]
  },
  {
   "cell_type": "code",
   "execution_count": null,
   "metadata": {},
   "outputs": [],
   "source": [
    "pib.drop(indices, inplace=True)"
   ]
  },
  {
   "cell_type": "code",
   "execution_count": 92,
   "metadata": {},
   "outputs": [
    {
     "data": {
      "text/html": [
       "<div>\n",
       "<style scoped>\n",
       "    .dataframe tbody tr th:only-of-type {\n",
       "        vertical-align: middle;\n",
       "    }\n",
       "\n",
       "    .dataframe tbody tr th {\n",
       "        vertical-align: top;\n",
       "    }\n",
       "\n",
       "    .dataframe thead th {\n",
       "        text-align: right;\n",
       "    }\n",
       "</style>\n",
       "<table border=\"1\" class=\"dataframe\">\n",
       "  <thead>\n",
       "    <tr style=\"text-align: right;\">\n",
       "      <th></th>\n",
       "      <th>pais</th>\n",
       "      <th>codigo_pais</th>\n",
       "      <th>anio</th>\n",
       "      <th>PIB</th>\n",
       "    </tr>\n",
       "  </thead>\n",
       "  <tbody>\n",
       "    <tr>\n",
       "      <th>0</th>\n",
       "      <td>Aruba</td>\n",
       "      <td>ABW</td>\n",
       "      <td>1990</td>\n",
       "      <td>2.195805</td>\n",
       "    </tr>\n",
       "    <tr>\n",
       "      <th>1</th>\n",
       "      <td>Afganistán</td>\n",
       "      <td>AFG</td>\n",
       "      <td>1990</td>\n",
       "      <td>0.000000</td>\n",
       "    </tr>\n",
       "    <tr>\n",
       "      <th>2</th>\n",
       "      <td>Angola</td>\n",
       "      <td>AGO</td>\n",
       "      <td>1990</td>\n",
       "      <td>-6.626409</td>\n",
       "    </tr>\n",
       "    <tr>\n",
       "      <th>3</th>\n",
       "      <td>Albania</td>\n",
       "      <td>ALB</td>\n",
       "      <td>1990</td>\n",
       "      <td>-11.187905</td>\n",
       "    </tr>\n",
       "    <tr>\n",
       "      <th>4</th>\n",
       "      <td>Andorra</td>\n",
       "      <td>AND</td>\n",
       "      <td>1990</td>\n",
       "      <td>0.042321</td>\n",
       "    </tr>\n",
       "  </tbody>\n",
       "</table>\n",
       "</div>"
      ],
      "text/plain": [
       "         pais codigo_pais  anio        PIB\n",
       "0       Aruba         ABW  1990   2.195805\n",
       "1  Afganistán         AFG  1990   0.000000\n",
       "2      Angola         AGO  1990  -6.626409\n",
       "3     Albania         ALB  1990 -11.187905\n",
       "4     Andorra         AND  1990   0.042321"
      ]
     },
     "execution_count": 92,
     "metadata": {},
     "output_type": "execute_result"
    }
   ],
   "source": [
    "pib.head()"
   ]
  },
  {
   "cell_type": "code",
   "execution_count": 93,
   "metadata": {},
   "outputs": [],
   "source": [
    "df_salario_minimo = pd.read_csv(r'Datsets\\salario_minimo_mensual_bruto_anual_dolares.csv',sep=',', header=0)"
   ]
  },
  {
   "cell_type": "code",
   "execution_count": 94,
   "metadata": {},
   "outputs": [],
   "source": [
    "df_salario_minimo.drop('source', axis=1, inplace=True)\n",
    "df_salario_minimo.drop('source.label', axis=1, inplace=True)\n",
    "df_salario_minimo.drop('indicator', axis=1, inplace=True)\n",
    "df_salario_minimo.drop('indicator.label', axis=1, inplace=True)\n",
    "df_salario_minimo.drop('classif1', axis=1, inplace=True)\n",
    "df_salario_minimo.drop('classif1.label', axis=1, inplace=True)\n",
    "df_salario_minimo.drop('obs_status', axis=1, inplace=True)\n",
    "df_salario_minimo.drop('obs_status.label', axis=1, inplace=True)\n",
    "df_salario_minimo.drop('note_indicator', axis=1, inplace=True)\n",
    "df_salario_minimo.drop('note_indicator.label', axis=1, inplace=True)\n",
    "df_salario_minimo.drop('note_source', axis=1, inplace=True)\n",
    "df_salario_minimo.drop('note_source.label', axis=1, inplace=True)"
   ]
  },
  {
   "cell_type": "code",
   "execution_count": 95,
   "metadata": {},
   "outputs": [],
   "source": [
    "df_salario_minimo.rename(columns={'ref_area':'codigo_pais', 'ref_area.label':'pais', 'time':'anio', 'obs_value':'salario_minimo'}, inplace=True)"
   ]
  },
  {
   "cell_type": "code",
   "execution_count": 96,
   "metadata": {},
   "outputs": [],
   "source": [
    "df_salario_minimo = df_salario_minimo[(df_salario_minimo['anio'] >= 1990)]"
   ]
  },
  {
   "cell_type": "code",
   "execution_count": 97,
   "metadata": {},
   "outputs": [],
   "source": [
    "df_average_wages = pd.read_csv(r'Datsets\\average_wages.csv', sep=',', header=0)"
   ]
  },
  {
   "cell_type": "code",
   "execution_count": 98,
   "metadata": {},
   "outputs": [],
   "source": [
    "df_average_wages.drop('INDICATOR', axis=1, inplace=True)\n",
    "df_average_wages.drop('SUBJECT', axis=1, inplace=True)\n",
    "df_average_wages.drop('MEASURE', axis=1, inplace=True)\n",
    "df_average_wages.drop('FREQUENCY', axis=1, inplace=True)\n",
    "df_average_wages.drop('Flag Codes', axis=1, inplace=True)"
   ]
  },
  {
   "cell_type": "code",
   "execution_count": 99,
   "metadata": {},
   "outputs": [],
   "source": [
    "df_average_wages.rename(columns={'LOCATION':'codigo_pais', 'TIME':'anio', 'Value':'salario_promedio'}, inplace=True)"
   ]
  },
  {
   "cell_type": "code",
   "execution_count": null,
   "metadata": {},
   "outputs": [],
   "source": [
    "indices1 = df_average_wages[df_average_wages['codigo_pais'] == 'OECD'].index"
   ]
  },
  {
   "cell_type": "code",
   "execution_count": null,
   "metadata": {},
   "outputs": [],
   "source": [
    "df_average_wages.drop(indices1, inplace=True)"
   ]
  },
  {
   "cell_type": "code",
   "execution_count": 100,
   "metadata": {},
   "outputs": [
    {
     "data": {
      "text/html": [
       "<div>\n",
       "<style scoped>\n",
       "    .dataframe tbody tr th:only-of-type {\n",
       "        vertical-align: middle;\n",
       "    }\n",
       "\n",
       "    .dataframe tbody tr th {\n",
       "        vertical-align: top;\n",
       "    }\n",
       "\n",
       "    .dataframe thead th {\n",
       "        text-align: right;\n",
       "    }\n",
       "</style>\n",
       "<table border=\"1\" class=\"dataframe\">\n",
       "  <thead>\n",
       "    <tr style=\"text-align: right;\">\n",
       "      <th></th>\n",
       "      <th>codigo_pais</th>\n",
       "      <th>anio</th>\n",
       "      <th>salario_promedio</th>\n",
       "    </tr>\n",
       "  </thead>\n",
       "  <tbody>\n",
       "    <tr>\n",
       "      <th>0</th>\n",
       "      <td>AUS</td>\n",
       "      <td>1990</td>\n",
       "      <td>40519.083621</td>\n",
       "    </tr>\n",
       "    <tr>\n",
       "      <th>1</th>\n",
       "      <td>AUS</td>\n",
       "      <td>1991</td>\n",
       "      <td>40328.934866</td>\n",
       "    </tr>\n",
       "    <tr>\n",
       "      <th>2</th>\n",
       "      <td>AUS</td>\n",
       "      <td>1992</td>\n",
       "      <td>41135.798085</td>\n",
       "    </tr>\n",
       "    <tr>\n",
       "      <th>3</th>\n",
       "      <td>AUS</td>\n",
       "      <td>1993</td>\n",
       "      <td>41513.545516</td>\n",
       "    </tr>\n",
       "    <tr>\n",
       "      <th>4</th>\n",
       "      <td>AUS</td>\n",
       "      <td>1994</td>\n",
       "      <td>41789.766398</td>\n",
       "    </tr>\n",
       "  </tbody>\n",
       "</table>\n",
       "</div>"
      ],
      "text/plain": [
       "  codigo_pais  anio  salario_promedio\n",
       "0         AUS  1990      40519.083621\n",
       "1         AUS  1991      40328.934866\n",
       "2         AUS  1992      41135.798085\n",
       "3         AUS  1993      41513.545516\n",
       "4         AUS  1994      41789.766398"
      ]
     },
     "execution_count": 100,
     "metadata": {},
     "output_type": "execute_result"
    }
   ],
   "source": [
    "df_average_wages.head()"
   ]
  },
  {
   "cell_type": "code",
   "execution_count": 101,
   "metadata": {},
   "outputs": [],
   "source": [
    "df_wage_levels = pd.read_csv(r'Datsets\\wage_levels.csv', sep=',', header=0)"
   ]
  },
  {
   "cell_type": "code",
   "execution_count": 102,
   "metadata": {},
   "outputs": [],
   "source": [
    "df_wage_levels.drop('INDICATOR', axis=1, inplace=True)\n",
    "df_wage_levels.drop('MEASURE', axis=1, inplace=True)\n",
    "df_wage_levels.drop('FREQUENCY', axis=1, inplace=True)\n",
    "df_wage_levels.drop('Flag Codes', axis=1, inplace=True)"
   ]
  },
  {
   "cell_type": "code",
   "execution_count": 103,
   "metadata": {},
   "outputs": [],
   "source": [
    "df_wage_levels = df_wage_levels[(df_wage_levels['TIME'] >= 1990)]"
   ]
  },
  {
   "cell_type": "code",
   "execution_count": 104,
   "metadata": {},
   "outputs": [],
   "source": [
    "df_wage_levels_low = df_wage_levels[df_wage_levels['SUBJECT'] == 'LPAY'].rename(columns={'Value':'ingresos_bajos'}).drop(['SUBJECT'], axis=1)"
   ]
  },
  {
   "cell_type": "code",
   "execution_count": 105,
   "metadata": {},
   "outputs": [],
   "source": [
    "df_wage_levels_high = df_wage_levels[df_wage_levels['SUBJECT'] == 'HPAY'].rename(columns={'Value':'ingresos_altos'}).drop(['SUBJECT'], axis=1)"
   ]
  },
  {
   "cell_type": "code",
   "execution_count": 106,
   "metadata": {},
   "outputs": [],
   "source": [
    "df_wage_levels_merged = pd.merge(df_wage_levels_high, df_wage_levels_low, on=['LOCATION','TIME'], how='outer')"
   ]
  },
  {
   "cell_type": "code",
   "execution_count": 107,
   "metadata": {},
   "outputs": [],
   "source": [
    "df_wage_levels_merged.rename(columns={'LOCATION':'codigo_pais', 'SUBJECT':'tipo', 'TIME': 'anio'}, inplace=True)"
   ]
  },
  {
   "cell_type": "code",
   "execution_count": null,
   "metadata": {},
   "outputs": [],
   "source": [
    "indices2 = df_wage_levels_merged[(df_wage_levels_merged['codigo_pais'] == 'EU27') | (df_wage_levels_merged['codigo_pais'] == 'OECD')].index"
   ]
  },
  {
   "cell_type": "code",
   "execution_count": null,
   "metadata": {},
   "outputs": [],
   "source": [
    "df_wage_levels_merged.drop(indices2, inplace=True)"
   ]
  },
  {
   "cell_type": "code",
   "execution_count": 109,
   "metadata": {},
   "outputs": [],
   "source": [
    "agricultura =pd.read_csv(r'Datsets\\empleos_agricultura.csv')"
   ]
  },
  {
   "cell_type": "code",
   "execution_count": 110,
   "metadata": {},
   "outputs": [],
   "source": [
    "agricultura.drop(['Indicator Name','Indicator Code',\"1960\",\"1961\",\"1962\",\"1963\",\"1964\",\"1965\",\"1966\",\"1967\",\"1968\",\"1969\",\"1970\",\"1971\",\"1972\",\"1973\",\"1974\",\"1975\",\"1976\",\"1977\",\"1978\",\"1979\",\"1980\",\"1981\",\"1982\",\"1983\",\"1984\",\"1985\",\"1986\",\"1987\",\"1988\",\"1989\",'1990','2020','2021','Unnamed: 66'], axis=1, inplace= True)"
   ]
  },
  {
   "cell_type": "code",
   "execution_count": 111,
   "metadata": {},
   "outputs": [],
   "source": [
    "agricultura = agricultura.melt(id_vars=['Country Name','Country Code'], var_name='anio', value_name='%empleo_agricultura')"
   ]
  },
  {
   "cell_type": "code",
   "execution_count": 112,
   "metadata": {},
   "outputs": [],
   "source": [
    "agricultura.rename(columns={'Country Name':'pais','Country Code':'codigo_pais'}, inplace=True)"
   ]
  },
  {
   "cell_type": "code",
   "execution_count": null,
   "metadata": {},
   "outputs": [],
   "source": [
    "agricultura.dropna(subset='pais', inplace=True)\n",
    "agricultura.dropna(subset='%empleo_agricultura', inplace=True)"
   ]
  },
  {
   "cell_type": "code",
   "execution_count": 113,
   "metadata": {},
   "outputs": [],
   "source": [
    "agricultura['anio'] = agricultura['anio'].astype('int64')"
   ]
  },
  {
   "cell_type": "code",
   "execution_count": null,
   "metadata": {},
   "outputs": [],
   "source": [
    "indices3 = agricultura[agricultura['pais'].isin(paises)].index"
   ]
  },
  {
   "cell_type": "code",
   "execution_count": null,
   "metadata": {},
   "outputs": [],
   "source": [
    "agricultura.drop(indices3, inplace=True)"
   ]
  },
  {
   "cell_type": "code",
   "execution_count": 115,
   "metadata": {},
   "outputs": [],
   "source": [
    "industria = pd.read_csv(r'Datsets\\empleos_industria.csv')"
   ]
  },
  {
   "cell_type": "code",
   "execution_count": 116,
   "metadata": {},
   "outputs": [],
   "source": [
    "industria.drop(['Indicator Name','Indicator Code',\"1960\",\"1961\",\"1962\",\"1963\",\"1964\",\"1965\",\"1966\",\"1967\",\"1968\",\"1969\",\"1970\",\"1971\",\"1972\",\"1973\",\"1974\",\"1975\",\"1976\",\"1977\",\"1978\",\"1979\",\"1980\",\"1981\",\"1982\",\"1983\",\"1984\",\"1985\",\"1986\",\"1987\",\"1988\",\"1989\",'1990','2020','2021','Unnamed: 66'], axis=1, inplace= True)"
   ]
  },
  {
   "cell_type": "code",
   "execution_count": 117,
   "metadata": {},
   "outputs": [],
   "source": [
    "industria = industria.melt(id_vars=['Country Name','Country Code'], var_name='anio', value_name='%empleo_industria')"
   ]
  },
  {
   "cell_type": "code",
   "execution_count": 118,
   "metadata": {},
   "outputs": [],
   "source": [
    "industria.rename(columns={'Country Name':'pais','Country Code':'codigo_pais'}, inplace=True)"
   ]
  },
  {
   "cell_type": "code",
   "execution_count": null,
   "metadata": {},
   "outputs": [],
   "source": [
    "industria.dropna(subset='pais', inplace=True)\n",
    "industria.dropna(subset='%empleo_industria', inplace=True)"
   ]
  },
  {
   "cell_type": "code",
   "execution_count": 119,
   "metadata": {},
   "outputs": [],
   "source": [
    "industria['anio'] = industria['anio'].astype('int64')"
   ]
  },
  {
   "cell_type": "code",
   "execution_count": null,
   "metadata": {},
   "outputs": [],
   "source": [
    "indices4 = industria[industria['pais'].isin(paises)].index"
   ]
  },
  {
   "cell_type": "code",
   "execution_count": null,
   "metadata": {},
   "outputs": [],
   "source": [
    "industria.drop(indices4, inplace=True)"
   ]
  },
  {
   "cell_type": "code",
   "execution_count": 120,
   "metadata": {},
   "outputs": [
    {
     "data": {
      "text/html": [
       "<div>\n",
       "<style scoped>\n",
       "    .dataframe tbody tr th:only-of-type {\n",
       "        vertical-align: middle;\n",
       "    }\n",
       "\n",
       "    .dataframe tbody tr th {\n",
       "        vertical-align: top;\n",
       "    }\n",
       "\n",
       "    .dataframe thead th {\n",
       "        text-align: right;\n",
       "    }\n",
       "</style>\n",
       "<table border=\"1\" class=\"dataframe\">\n",
       "  <thead>\n",
       "    <tr style=\"text-align: right;\">\n",
       "      <th></th>\n",
       "      <th>pais</th>\n",
       "      <th>codigo_pais</th>\n",
       "      <th>anio</th>\n",
       "      <th>%empleo_industria</th>\n",
       "    </tr>\n",
       "  </thead>\n",
       "  <tbody>\n",
       "    <tr>\n",
       "      <th>0</th>\n",
       "      <td>Aruba</td>\n",
       "      <td>ABW</td>\n",
       "      <td>1991</td>\n",
       "      <td>NaN</td>\n",
       "    </tr>\n",
       "    <tr>\n",
       "      <th>1</th>\n",
       "      <td>NaN</td>\n",
       "      <td>AFE</td>\n",
       "      <td>1991</td>\n",
       "      <td>10.018941</td>\n",
       "    </tr>\n",
       "    <tr>\n",
       "      <th>2</th>\n",
       "      <td>Afganistán</td>\n",
       "      <td>AFG</td>\n",
       "      <td>1991</td>\n",
       "      <td>12.430000</td>\n",
       "    </tr>\n",
       "    <tr>\n",
       "      <th>3</th>\n",
       "      <td>NaN</td>\n",
       "      <td>AFW</td>\n",
       "      <td>1991</td>\n",
       "      <td>11.787986</td>\n",
       "    </tr>\n",
       "    <tr>\n",
       "      <th>4</th>\n",
       "      <td>Angola</td>\n",
       "      <td>AGO</td>\n",
       "      <td>1991</td>\n",
       "      <td>8.880000</td>\n",
       "    </tr>\n",
       "  </tbody>\n",
       "</table>\n",
       "</div>"
      ],
      "text/plain": [
       "         pais codigo_pais  anio  %empleo_industria\n",
       "0       Aruba         ABW  1991                NaN\n",
       "1         NaN         AFE  1991          10.018941\n",
       "2  Afganistán         AFG  1991          12.430000\n",
       "3         NaN         AFW  1991          11.787986\n",
       "4      Angola         AGO  1991           8.880000"
      ]
     },
     "execution_count": 120,
     "metadata": {},
     "output_type": "execute_result"
    }
   ],
   "source": [
    "industria.head()"
   ]
  },
  {
   "cell_type": "code",
   "execution_count": 121,
   "metadata": {},
   "outputs": [],
   "source": [
    "servicio = pd.read_csv(r'Datsets\\empleos_servicio.csv')"
   ]
  },
  {
   "cell_type": "code",
   "execution_count": 122,
   "metadata": {},
   "outputs": [],
   "source": [
    "servicio.drop(['Indicator Name','Indicator Code',\"1960\",\"1961\",\"1962\",\"1963\",\"1964\",\"1965\",\"1966\",\"1967\",\"1968\",\"1969\",\"1970\",\"1971\",\"1972\",\"1973\",\"1974\",\"1975\",\"1976\",\"1977\",\"1978\",\"1979\",\"1980\",\"1981\",\"1982\",\"1983\",\"1984\",\"1985\",\"1986\",\"1987\",\"1988\",\"1989\",'1990','2020','2021','Unnamed: 66'], axis=1, inplace= True)"
   ]
  },
  {
   "cell_type": "code",
   "execution_count": 123,
   "metadata": {},
   "outputs": [],
   "source": [
    "servicio = servicio.melt(id_vars=['Country Name','Country Code'], var_name='anio', value_name='%empleo_servicio')"
   ]
  },
  {
   "cell_type": "code",
   "execution_count": 124,
   "metadata": {},
   "outputs": [],
   "source": [
    "servicio.rename(columns={'Country Name':'pais','Country Code':'codigo_pais'}, inplace=True)"
   ]
  },
  {
   "cell_type": "code",
   "execution_count": null,
   "metadata": {},
   "outputs": [],
   "source": [
    "servicio.dropna(subset='pais', inplace=True)\n",
    "servicio.dropna(subset='%empleo_servicio', inplace=True)"
   ]
  },
  {
   "cell_type": "code",
   "execution_count": 125,
   "metadata": {},
   "outputs": [],
   "source": [
    "servicio['anio'] = servicio['anio'].astype('int64')"
   ]
  },
  {
   "cell_type": "code",
   "execution_count": null,
   "metadata": {},
   "outputs": [],
   "source": [
    "indices5 = servicio[servicio['pais'].isin(paises)].index"
   ]
  },
  {
   "cell_type": "code",
   "execution_count": null,
   "metadata": {},
   "outputs": [],
   "source": [
    "servicio.drop(indices5, inplace=True)"
   ]
  },
  {
   "cell_type": "code",
   "execution_count": 127,
   "metadata": {},
   "outputs": [],
   "source": [
    "merge1 = pd.merge(pib, df_salario_minimo, on=['codigo_pais','anio'], how='outer')"
   ]
  },
  {
   "cell_type": "code",
   "execution_count": null,
   "metadata": {},
   "outputs": [],
   "source": [
    "merge1['pais_x'].fillna(merge1['pais_y'], inplace=True)"
   ]
  },
  {
   "cell_type": "code",
   "execution_count": null,
   "metadata": {},
   "outputs": [],
   "source": [
    "merge1.drop('pais_y', axis=1, inplace=True)"
   ]
  },
  {
   "cell_type": "code",
   "execution_count": 128,
   "metadata": {},
   "outputs": [],
   "source": [
    "merge2 = pd.merge(merge1, df_average_wages, on=['codigo_pais','anio'], how='outer')"
   ]
  },
  {
   "cell_type": "code",
   "execution_count": 129,
   "metadata": {},
   "outputs": [],
   "source": [
    "merge3 = pd.merge(merge2, df_wage_levels_merged, on=['codigo_pais','anio'], how='outer')"
   ]
  },
  {
   "cell_type": "code",
   "execution_count": 130,
   "metadata": {},
   "outputs": [],
   "source": [
    "merge4 =pd.merge(merge3, agricultura, on=['codigo_pais','anio'], how='outer')"
   ]
  },
  {
   "cell_type": "code",
   "execution_count": null,
   "metadata": {},
   "outputs": [],
   "source": [
    "merge4.drop('pais', axis=1, inplace=True)"
   ]
  },
  {
   "cell_type": "code",
   "execution_count": 131,
   "metadata": {},
   "outputs": [],
   "source": [
    "merge5 = pd.merge(merge4, industria, on=['codigo_pais','anio'], how='outer')"
   ]
  },
  {
   "cell_type": "code",
   "execution_count": null,
   "metadata": {},
   "outputs": [],
   "source": [
    "merge5.drop('pais', axis=1, inplace=True)"
   ]
  },
  {
   "cell_type": "code",
   "execution_count": 132,
   "metadata": {},
   "outputs": [],
   "source": [
    "fact_ind_economicos = pd.merge(merge5, servicio, on=['codigo_pais','anio'], how='outer')"
   ]
  },
  {
   "cell_type": "code",
   "execution_count": null,
   "metadata": {},
   "outputs": [],
   "source": [
    "fact_ind_economicos.drop('pais', axis=1, inplace=True)"
   ]
  },
  {
   "cell_type": "code",
   "execution_count": null,
   "metadata": {},
   "outputs": [],
   "source": [
    "fact_ind_economicos.sort_values(by=['codigo_pais', 'anio'], inplace=True)"
   ]
  },
  {
   "cell_type": "code",
   "execution_count": null,
   "metadata": {},
   "outputs": [],
   "source": [
    "fact_ind_economicos.reset_index(drop=True, inplace=True)"
   ]
  }
 ],
 "metadata": {
  "kernelspec": {
   "display_name": "Python 3",
   "language": "python",
   "name": "python3"
  },
  "language_info": {
   "codemirror_mode": {
    "name": "ipython",
    "version": 3
   },
   "file_extension": ".py",
   "mimetype": "text/x-python",
   "name": "python",
   "nbconvert_exporter": "python",
   "pygments_lexer": "ipython3",
   "version": "3.11.1"
  },
  "orig_nbformat": 4,
  "vscode": {
   "interpreter": {
    "hash": "2ed8b01cc943fc452f3875585953f694a0a4e4a007a9ce4019ec5b05c1f98e94"
   }
  }
 },
 "nbformat": 4,
 "nbformat_minor": 2
}
