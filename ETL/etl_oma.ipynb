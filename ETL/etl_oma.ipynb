{
 "cells": [
  {
   "attachments": {},
   "cell_type": "markdown",
   "metadata": {},
   "source": [
    " ### <center> ***ETL*** </center>\n",
    " ---\n",
    " #### <center>"
   ]
  },
  {
   "cell_type": "code",
   "execution_count": 1,
   "metadata": {},
   "outputs": [],
   "source": [
    "import pandas as pd"
   ]
  },
  {
   "attachments": {},
   "cell_type": "markdown",
   "metadata": {},
   "source": [
    "**Tabla Gini**"
   ]
  },
  {
   "cell_type": "code",
   "execution_count": 2,
   "metadata": {},
   "outputs": [
    {
     "data": {
      "text/html": [
       "<div>\n",
       "<style scoped>\n",
       "    .dataframe tbody tr th:only-of-type {\n",
       "        vertical-align: middle;\n",
       "    }\n",
       "\n",
       "    .dataframe tbody tr th {\n",
       "        vertical-align: top;\n",
       "    }\n",
       "\n",
       "    .dataframe thead th {\n",
       "        text-align: right;\n",
       "    }\n",
       "</style>\n",
       "<table border=\"1\" class=\"dataframe\">\n",
       "  <thead>\n",
       "    <tr style=\"text-align: right;\">\n",
       "      <th></th>\n",
       "      <th>Entity</th>\n",
       "      <th>Code</th>\n",
       "      <th>Year</th>\n",
       "      <th>Gini coefficient</th>\n",
       "    </tr>\n",
       "  </thead>\n",
       "  <tbody>\n",
       "    <tr>\n",
       "      <th>0</th>\n",
       "      <td>Albania</td>\n",
       "      <td>ALB</td>\n",
       "      <td>1996</td>\n",
       "      <td>0.270103</td>\n",
       "    </tr>\n",
       "    <tr>\n",
       "      <th>1</th>\n",
       "      <td>Albania</td>\n",
       "      <td>ALB</td>\n",
       "      <td>2002</td>\n",
       "      <td>0.317390</td>\n",
       "    </tr>\n",
       "  </tbody>\n",
       "</table>\n",
       "</div>"
      ],
      "text/plain": [
       "    Entity Code  Year  Gini coefficient\n",
       "0  Albania  ALB  1996          0.270103\n",
       "1  Albania  ALB  2002          0.317390"
      ]
     },
     "execution_count": 2,
     "metadata": {},
     "output_type": "execute_result"
    }
   ],
   "source": [
    "gini= pd.read_csv(r'gini.csv')\n",
    "gini.head(2)"
   ]
  },
  {
   "cell_type": "code",
   "execution_count": 3,
   "metadata": {},
   "outputs": [],
   "source": [
    "gini.rename(columns={'Entity':'pais','Code':'codigo_pais', 'Year':'anio', 'Gini coefficient': 'valor'}, inplace=True)"
   ]
  },
  {
   "cell_type": "code",
   "execution_count": 5,
   "metadata": {},
   "outputs": [],
   "source": [
    "gini.fillna(0, inplace= True)"
   ]
  },
  {
   "attachments": {},
   "cell_type": "markdown",
   "metadata": {},
   "source": [
    "**TABLA PIB**"
   ]
  },
  {
   "cell_type": "code",
   "execution_count": null,
   "metadata": {},
   "outputs": [],
   "source": [
    "PIB= pd.read_csv(r'Pib.csv')\n",
    "PIB.head(2)"
   ]
  },
  {
   "cell_type": "code",
   "execution_count": 3,
   "metadata": {},
   "outputs": [],
   "source": [
    "PIB.drop(['Indicator Name', 'Indicator Code', 'Unnamed: 66'], axis=1, inplace= True)"
   ]
  },
  {
   "cell_type": "code",
   "execution_count": 5,
   "metadata": {},
   "outputs": [],
   "source": [
    "PIB.drop(columns=PIB.columns[2:32],axis=1,inplace= True)"
   ]
  },
  {
   "cell_type": "code",
   "execution_count": 16,
   "metadata": {},
   "outputs": [],
   "source": [
    "PIB.drop([1,3], axis=0, inplace=True)"
   ]
  },
  {
   "cell_type": "code",
   "execution_count": 20,
   "metadata": {},
   "outputs": [],
   "source": [
    "PIB.fillna(0, inplace= True)"
   ]
  },
  {
   "cell_type": "code",
   "execution_count": 23,
   "metadata": {},
   "outputs": [],
   "source": [
    "PIB.rename(columns={'Country Name':'pais','Country Code':'codigo_pais'}, inplace=True)"
   ]
  },
  {
   "cell_type": "code",
   "execution_count": 24,
   "metadata": {},
   "outputs": [
    {
     "data": {
      "text/html": [
       "<div>\n",
       "<style scoped>\n",
       "    .dataframe tbody tr th:only-of-type {\n",
       "        vertical-align: middle;\n",
       "    }\n",
       "\n",
       "    .dataframe tbody tr th {\n",
       "        vertical-align: top;\n",
       "    }\n",
       "\n",
       "    .dataframe thead th {\n",
       "        text-align: right;\n",
       "    }\n",
       "</style>\n",
       "<table border=\"1\" class=\"dataframe\">\n",
       "  <thead>\n",
       "    <tr style=\"text-align: right;\">\n",
       "      <th></th>\n",
       "      <th>pais</th>\n",
       "      <th>codigo_pais</th>\n",
       "      <th>1990</th>\n",
       "      <th>1991</th>\n",
       "      <th>1992</th>\n",
       "      <th>1993</th>\n",
       "      <th>1994</th>\n",
       "      <th>1995</th>\n",
       "      <th>1996</th>\n",
       "      <th>1997</th>\n",
       "      <th>...</th>\n",
       "      <th>2012</th>\n",
       "      <th>2013</th>\n",
       "      <th>2014</th>\n",
       "      <th>2015</th>\n",
       "      <th>2016</th>\n",
       "      <th>2017</th>\n",
       "      <th>2018</th>\n",
       "      <th>2019</th>\n",
       "      <th>2020</th>\n",
       "      <th>2021</th>\n",
       "    </tr>\n",
       "  </thead>\n",
       "  <tbody>\n",
       "    <tr>\n",
       "      <th>0</th>\n",
       "      <td>Aruba</td>\n",
       "      <td>ABW</td>\n",
       "      <td>2.195805</td>\n",
       "      <td>4.539317</td>\n",
       "      <td>2.370642</td>\n",
       "      <td>4.092615</td>\n",
       "      <td>4.800352</td>\n",
       "      <td>-0.567202</td>\n",
       "      <td>-1.830024</td>\n",
       "      <td>3.854744</td>\n",
       "      <td>...</td>\n",
       "      <td>-1.833977</td>\n",
       "      <td>5.635318</td>\n",
       "      <td>-0.709567</td>\n",
       "      <td>2.885166</td>\n",
       "      <td>1.515938</td>\n",
       "      <td>4.917139</td>\n",
       "      <td>4.738331</td>\n",
       "      <td>0.181216</td>\n",
       "      <td>-18.698325</td>\n",
       "      <td>17.225300</td>\n",
       "    </tr>\n",
       "    <tr>\n",
       "      <th>2</th>\n",
       "      <td>Afganistán</td>\n",
       "      <td>AFG</td>\n",
       "      <td>0.000000</td>\n",
       "      <td>0.000000</td>\n",
       "      <td>0.000000</td>\n",
       "      <td>0.000000</td>\n",
       "      <td>0.000000</td>\n",
       "      <td>0.000000</td>\n",
       "      <td>0.000000</td>\n",
       "      <td>0.000000</td>\n",
       "      <td>...</td>\n",
       "      <td>8.247144</td>\n",
       "      <td>2.002522</td>\n",
       "      <td>-0.964803</td>\n",
       "      <td>-1.666416</td>\n",
       "      <td>-0.345802</td>\n",
       "      <td>-0.253594</td>\n",
       "      <td>-1.688577</td>\n",
       "      <td>0.932833</td>\n",
       "      <td>-5.364666</td>\n",
       "      <td>-22.965296</td>\n",
       "    </tr>\n",
       "    <tr>\n",
       "      <th>4</th>\n",
       "      <td>Angola</td>\n",
       "      <td>AGO</td>\n",
       "      <td>-6.626409</td>\n",
       "      <td>-2.312502</td>\n",
       "      <td>-8.848294</td>\n",
       "      <td>-26.349124</td>\n",
       "      <td>-1.850621</td>\n",
       "      <td>11.278422</td>\n",
       "      <td>9.825458</td>\n",
       "      <td>3.755519</td>\n",
       "      <td>...</td>\n",
       "      <td>4.536024</td>\n",
       "      <td>1.101887</td>\n",
       "      <td>1.028262</td>\n",
       "      <td>-2.646420</td>\n",
       "      <td>-6.011783</td>\n",
       "      <td>-3.633446</td>\n",
       "      <td>-4.676622</td>\n",
       "      <td>-4.014917</td>\n",
       "      <td>-8.635446</td>\n",
       "      <td>-2.050717</td>\n",
       "    </tr>\n",
       "    <tr>\n",
       "      <th>5</th>\n",
       "      <td>Albania</td>\n",
       "      <td>ALB</td>\n",
       "      <td>-11.187905</td>\n",
       "      <td>-27.566821</td>\n",
       "      <td>-6.622551</td>\n",
       "      <td>10.229949</td>\n",
       "      <td>8.969762</td>\n",
       "      <td>14.024496</td>\n",
       "      <td>9.780180</td>\n",
       "      <td>-10.361105</td>\n",
       "      <td>...</td>\n",
       "      <td>1.584873</td>\n",
       "      <td>1.187234</td>\n",
       "      <td>1.985388</td>\n",
       "      <td>2.516827</td>\n",
       "      <td>3.480293</td>\n",
       "      <td>3.897741</td>\n",
       "      <td>4.276326</td>\n",
       "      <td>2.523894</td>\n",
       "      <td>-2.925821</td>\n",
       "      <td>9.526027</td>\n",
       "    </tr>\n",
       "    <tr>\n",
       "      <th>6</th>\n",
       "      <td>Andorra</td>\n",
       "      <td>AND</td>\n",
       "      <td>0.042321</td>\n",
       "      <td>-0.904014</td>\n",
       "      <td>-2.328613</td>\n",
       "      <td>-4.165030</td>\n",
       "      <td>-0.771998</td>\n",
       "      <td>-0.330384</td>\n",
       "      <td>2.661056</td>\n",
       "      <td>8.165548</td>\n",
       "      <td>...</td>\n",
       "      <td>-5.571256</td>\n",
       "      <td>-4.026027</td>\n",
       "      <td>2.140939</td>\n",
       "      <td>1.257416</td>\n",
       "      <td>2.574505</td>\n",
       "      <td>-1.416579</td>\n",
       "      <td>-0.003870</td>\n",
       "      <td>0.238297</td>\n",
       "      <td>-12.735078</td>\n",
       "      <td>7.110481</td>\n",
       "    </tr>\n",
       "  </tbody>\n",
       "</table>\n",
       "<p>5 rows × 34 columns</p>\n",
       "</div>"
      ],
      "text/plain": [
       "         pais codigo_pais       1990       1991      1992       1993  \\\n",
       "0       Aruba         ABW   2.195805   4.539317  2.370642   4.092615   \n",
       "2  Afganistán         AFG   0.000000   0.000000  0.000000   0.000000   \n",
       "4      Angola         AGO  -6.626409  -2.312502 -8.848294 -26.349124   \n",
       "5     Albania         ALB -11.187905 -27.566821 -6.622551  10.229949   \n",
       "6     Andorra         AND   0.042321  -0.904014 -2.328613  -4.165030   \n",
       "\n",
       "       1994       1995      1996       1997  ...      2012      2013  \\\n",
       "0  4.800352  -0.567202 -1.830024   3.854744  ... -1.833977  5.635318   \n",
       "2  0.000000   0.000000  0.000000   0.000000  ...  8.247144  2.002522   \n",
       "4 -1.850621  11.278422  9.825458   3.755519  ...  4.536024  1.101887   \n",
       "5  8.969762  14.024496  9.780180 -10.361105  ...  1.584873  1.187234   \n",
       "6 -0.771998  -0.330384  2.661056   8.165548  ... -5.571256 -4.026027   \n",
       "\n",
       "       2014      2015      2016      2017      2018      2019       2020  \\\n",
       "0 -0.709567  2.885166  1.515938  4.917139  4.738331  0.181216 -18.698325   \n",
       "2 -0.964803 -1.666416 -0.345802 -0.253594 -1.688577  0.932833  -5.364666   \n",
       "4  1.028262 -2.646420 -6.011783 -3.633446 -4.676622 -4.014917  -8.635446   \n",
       "5  1.985388  2.516827  3.480293  3.897741  4.276326  2.523894  -2.925821   \n",
       "6  2.140939  1.257416  2.574505 -1.416579 -0.003870  0.238297 -12.735078   \n",
       "\n",
       "        2021  \n",
       "0  17.225300  \n",
       "2 -22.965296  \n",
       "4  -2.050717  \n",
       "5   9.526027  \n",
       "6   7.110481  \n",
       "\n",
       "[5 rows x 34 columns]"
      ]
     },
     "execution_count": 24,
     "metadata": {},
     "output_type": "execute_result"
    }
   ],
   "source": [
    "PIB.head()"
   ]
  },
  {
   "attachments": {},
   "cell_type": "markdown",
   "metadata": {},
   "source": [
    "**Tabla Empleo por sector**"
   ]
  },
  {
   "cell_type": "code",
   "execution_count": null,
   "metadata": {},
   "outputs": [],
   "source": [
    "empleo_sector= pd.read_csv(r'Employment_for_sector.csv', sep= ';')\n",
    "empleo_sector.head(2)"
   ]
  },
  {
   "cell_type": "code",
   "execution_count": 44,
   "metadata": {},
   "outputs": [],
   "source": [
    "empleo_sector.drop(['Series Code', '1990 [YR1990]'], axis=1, inplace= True)"
   ]
  },
  {
   "cell_type": "code",
   "execution_count": 46,
   "metadata": {},
   "outputs": [],
   "source": [
    "empleo_sector.drop(empleo_sector.index[1596:1601], axis=0, inplace=True)"
   ]
  },
  {
   "cell_type": "code",
   "execution_count": 48,
   "metadata": {},
   "outputs": [],
   "source": [
    "empleo_sector.rename(columns={'Series Name':'sector',\n",
    "                              'Country Name':'pais', \n",
    "                              'Country Code':'codigo_pais',\n",
    "                              '1990 [YR1990]':'1990', '2000 [YR2000]':'2000', '2012 [YR2012]':'2012',\n",
    "                              '2013 [YR2013]':'2013', '2014 [YR2014]':'2014', '2015 [YR2015]':'2015',\n",
    "                              '2016 [YR2016]':'2016', '2017 [YR2017]':'2017', '2018 [YR2018]':'2018',\n",
    "                              '2019 [YR2019]':'2019', '2020 [YR2020]':'2020', '2021 [YR2021]':'2021'}, inplace=True)"
   ]
  },
  {
   "cell_type": "code",
   "execution_count": 51,
   "metadata": {},
   "outputs": [],
   "source": [
    "empleo_sector.replace({\"..\": 0}, inplace= True)"
   ]
  },
  {
   "cell_type": "code",
   "execution_count": null,
   "metadata": {},
   "outputs": [],
   "source": [
    "empleo_sector.head()"
   ]
  },
  {
   "attachments": {},
   "cell_type": "markdown",
   "metadata": {},
   "source": [
    "**Tabla Industria migracion**"
   ]
  },
  {
   "cell_type": "code",
   "execution_count": null,
   "metadata": {},
   "outputs": [],
   "source": [
    "industria= pd.read_csv(r'industry_migration_public.csv')\n",
    "industria.head(2)"
   ]
  },
  {
   "cell_type": "code",
   "execution_count": 60,
   "metadata": {},
   "outputs": [],
   "source": [
    "industria.drop(['wb_income', 'wb_region', 'isic_section_index','industry_id'], axis=1, inplace=True )"
   ]
  },
  {
   "cell_type": "code",
   "execution_count": 63,
   "metadata": {},
   "outputs": [],
   "source": [
    "industria.drop(columns=industria.columns[9:26],axis=1,inplace= True)"
   ]
  },
  {
   "cell_type": "code",
   "execution_count": 65,
   "metadata": {},
   "outputs": [],
   "source": [
    "industria.rename(columns={'country_code ':'codigo_pais','country_name ':'pais',\n",
    "                          'isic_section_name':'sector', 'industry_name':'industria',\n",
    "                          'net_per_10K_2015': '2015', 'net_per_10K_2016': '2016', 'net_per_10K_2017': '2017',\n",
    "                          'net_per_10K_2018': '2018', 'net_per_10K_2019': '2019'}, inplace=True)"
   ]
  },
  {
   "attachments": {},
   "cell_type": "markdown",
   "metadata": {},
   "source": [
    "**Tabla de habilidades migration**"
   ]
  },
  {
   "cell_type": "code",
   "execution_count": 68,
   "metadata": {},
   "outputs": [
    {
     "data": {
      "text/html": [
       "<div>\n",
       "<style scoped>\n",
       "    .dataframe tbody tr th:only-of-type {\n",
       "        vertical-align: middle;\n",
       "    }\n",
       "\n",
       "    .dataframe tbody tr th {\n",
       "        vertical-align: top;\n",
       "    }\n",
       "\n",
       "    .dataframe thead th {\n",
       "        text-align: right;\n",
       "    }\n",
       "</style>\n",
       "<table border=\"1\" class=\"dataframe\">\n",
       "  <thead>\n",
       "    <tr style=\"text-align: right;\">\n",
       "      <th></th>\n",
       "      <th>country_code</th>\n",
       "      <th>country_name</th>\n",
       "      <th>wb_income</th>\n",
       "      <th>wb_region</th>\n",
       "      <th>skill_group_id</th>\n",
       "      <th>skill_group_category</th>\n",
       "      <th>skill_group_name</th>\n",
       "      <th>net_per_10K_2015</th>\n",
       "      <th>net_per_10K_2016</th>\n",
       "      <th>net_per_10K_2017</th>\n",
       "      <th>...</th>\n",
       "      <th>Unnamed: 19</th>\n",
       "      <th>Unnamed: 20</th>\n",
       "      <th>Unnamed: 21</th>\n",
       "      <th>Unnamed: 22</th>\n",
       "      <th>Unnamed: 23</th>\n",
       "      <th>Unnamed: 24</th>\n",
       "      <th>Unnamed: 25</th>\n",
       "      <th>Unnamed: 26</th>\n",
       "      <th>Unnamed: 27</th>\n",
       "      <th>Unnamed: 28</th>\n",
       "    </tr>\n",
       "  </thead>\n",
       "  <tbody>\n",
       "    <tr>\n",
       "      <th>0</th>\n",
       "      <td>af</td>\n",
       "      <td>Afghanistan</td>\n",
       "      <td>Low income</td>\n",
       "      <td>South Asia</td>\n",
       "      <td>2549.0</td>\n",
       "      <td>Tech Skills</td>\n",
       "      <td>Information Management</td>\n",
       "      <td>-791.59</td>\n",
       "      <td>-705.88</td>\n",
       "      <td>-550.04</td>\n",
       "      <td>...</td>\n",
       "      <td>NaN</td>\n",
       "      <td>NaN</td>\n",
       "      <td>NaN</td>\n",
       "      <td>NaN</td>\n",
       "      <td>NaN</td>\n",
       "      <td>NaN</td>\n",
       "      <td>NaN</td>\n",
       "      <td>NaN</td>\n",
       "      <td>NaN</td>\n",
       "      <td>NaN</td>\n",
       "    </tr>\n",
       "    <tr>\n",
       "      <th>1</th>\n",
       "      <td>af</td>\n",
       "      <td>Afghanistan</td>\n",
       "      <td>Low income</td>\n",
       "      <td>South Asia</td>\n",
       "      <td>2608.0</td>\n",
       "      <td>Business Skills</td>\n",
       "      <td>Operational Efficiency</td>\n",
       "      <td>-1610.25</td>\n",
       "      <td>-933.55</td>\n",
       "      <td>-776.06</td>\n",
       "      <td>...</td>\n",
       "      <td>NaN</td>\n",
       "      <td>NaN</td>\n",
       "      <td>NaN</td>\n",
       "      <td>NaN</td>\n",
       "      <td>NaN</td>\n",
       "      <td>NaN</td>\n",
       "      <td>NaN</td>\n",
       "      <td>NaN</td>\n",
       "      <td>NaN</td>\n",
       "      <td>NaN</td>\n",
       "    </tr>\n",
       "  </tbody>\n",
       "</table>\n",
       "<p>2 rows × 29 columns</p>\n",
       "</div>"
      ],
      "text/plain": [
       "  country_code country_name   wb_income   wb_region  skill_group_id  \\\n",
       "0           af  Afghanistan  Low income  South Asia          2549.0   \n",
       "1           af  Afghanistan  Low income  South Asia          2608.0   \n",
       "\n",
       "  skill_group_category        skill_group_name  net_per_10K_2015  \\\n",
       "0          Tech Skills  Information Management           -791.59   \n",
       "1      Business Skills  Operational Efficiency          -1610.25   \n",
       "\n",
       "   net_per_10K_2016  net_per_10K_2017  ...  Unnamed: 19  Unnamed: 20  \\\n",
       "0           -705.88           -550.04  ...          NaN          NaN   \n",
       "1           -933.55           -776.06  ...          NaN          NaN   \n",
       "\n",
       "   Unnamed: 21  Unnamed: 22  Unnamed: 23  Unnamed: 24  Unnamed: 25  \\\n",
       "0          NaN          NaN          NaN          NaN          NaN   \n",
       "1          NaN          NaN          NaN          NaN          NaN   \n",
       "\n",
       "   Unnamed: 26  Unnamed: 27  Unnamed: 28  \n",
       "0          NaN          NaN          NaN  \n",
       "1          NaN          NaN          NaN  \n",
       "\n",
       "[2 rows x 29 columns]"
      ]
     },
     "execution_count": 68,
     "metadata": {},
     "output_type": "execute_result"
    }
   ],
   "source": [
    "habilidades= pd.read_csv(r'skill_migration_public.csv')\n",
    "habilidades.head(2)"
   ]
  },
  {
   "cell_type": "code",
   "execution_count": 70,
   "metadata": {},
   "outputs": [],
   "source": [
    "habilidades.drop(['wb_income', 'wb_region', 'skill_group_id'], axis=1, inplace=True )"
   ]
  },
  {
   "cell_type": "code",
   "execution_count": 74,
   "metadata": {},
   "outputs": [],
   "source": [
    "habilidades.drop(columns=habilidades.columns[9:26],axis=1,inplace= True)"
   ]
  },
  {
   "cell_type": "code",
   "execution_count": 76,
   "metadata": {},
   "outputs": [],
   "source": [
    "habilidades.rename(columns={'country_code ':'codigo_pais','country_name ':'pais',\n",
    "                          'skill_group_category':'categoria', 'skill_group_name':'habilidad',\n",
    "                          'net_per_10K_2015': '2015', 'net_per_10K_2016': '2016', 'net_per_10K_2017': '2017',\n",
    "                          'net_per_10K_2018': '2018', 'net_per_10K_2019': '2019'}, inplace=True)"
   ]
  },
  {
   "cell_type": "code",
   "execution_count": 81,
   "metadata": {},
   "outputs": [],
   "source": [
    "habilidades= habilidades.drop_duplicates()"
   ]
  },
  {
   "attachments": {},
   "cell_type": "markdown",
   "metadata": {},
   "source": [
    "**Tabla de empleo, desempleo y participacion**"
   ]
  },
  {
   "cell_type": "code",
   "execution_count": 142,
   "metadata": {},
   "outputs": [
    {
     "data": {
      "text/html": [
       "<div>\n",
       "<style scoped>\n",
       "    .dataframe tbody tr th:only-of-type {\n",
       "        vertical-align: middle;\n",
       "    }\n",
       "\n",
       "    .dataframe tbody tr th {\n",
       "        vertical-align: top;\n",
       "    }\n",
       "\n",
       "    .dataframe thead th {\n",
       "        text-align: right;\n",
       "    }\n",
       "</style>\n",
       "<table border=\"1\" class=\"dataframe\">\n",
       "  <thead>\n",
       "    <tr style=\"text-align: right;\">\n",
       "      <th></th>\n",
       "      <th>COUNTRY</th>\n",
       "      <th>Country</th>\n",
       "      <th>BIRTH</th>\n",
       "      <th>Place of birth</th>\n",
       "      <th>GENDER</th>\n",
       "      <th>Gender</th>\n",
       "      <th>RATE</th>\n",
       "      <th>Rate</th>\n",
       "      <th>YEAR</th>\n",
       "      <th>Year</th>\n",
       "      <th>Unit Code</th>\n",
       "      <th>Unit</th>\n",
       "      <th>PowerCode Code</th>\n",
       "      <th>PowerCode</th>\n",
       "      <th>Reference Period Code</th>\n",
       "      <th>Reference Period</th>\n",
       "      <th>Value</th>\n",
       "      <th>Flag Codes</th>\n",
       "      <th>Flags</th>\n",
       "    </tr>\n",
       "  </thead>\n",
       "  <tbody>\n",
       "    <tr>\n",
       "      <th>0</th>\n",
       "      <td>AUS</td>\n",
       "      <td>Australia</td>\n",
       "      <td>FB</td>\n",
       "      <td>Foreign-born</td>\n",
       "      <td>MEN</td>\n",
       "      <td>Men</td>\n",
       "      <td>N_RATE</td>\n",
       "      <td>Employment rate</td>\n",
       "      <td>2000</td>\n",
       "      <td>2000</td>\n",
       "      <td>PC</td>\n",
       "      <td>Percentage</td>\n",
       "      <td>0</td>\n",
       "      <td>Units</td>\n",
       "      <td>NaN</td>\n",
       "      <td>NaN</td>\n",
       "      <td>74.0</td>\n",
       "      <td>NaN</td>\n",
       "      <td>NaN</td>\n",
       "    </tr>\n",
       "    <tr>\n",
       "      <th>1</th>\n",
       "      <td>AUS</td>\n",
       "      <td>Australia</td>\n",
       "      <td>FB</td>\n",
       "      <td>Foreign-born</td>\n",
       "      <td>MEN</td>\n",
       "      <td>Men</td>\n",
       "      <td>N_RATE</td>\n",
       "      <td>Employment rate</td>\n",
       "      <td>2001</td>\n",
       "      <td>2001</td>\n",
       "      <td>PC</td>\n",
       "      <td>Percentage</td>\n",
       "      <td>0</td>\n",
       "      <td>Units</td>\n",
       "      <td>NaN</td>\n",
       "      <td>NaN</td>\n",
       "      <td>73.9</td>\n",
       "      <td>NaN</td>\n",
       "      <td>NaN</td>\n",
       "    </tr>\n",
       "  </tbody>\n",
       "</table>\n",
       "</div>"
      ],
      "text/plain": [
       "  COUNTRY    Country BIRTH Place of birth GENDER Gender    RATE  \\\n",
       "0     AUS  Australia    FB   Foreign-born    MEN    Men  N_RATE   \n",
       "1     AUS  Australia    FB   Foreign-born    MEN    Men  N_RATE   \n",
       "\n",
       "              Rate  YEAR  Year Unit Code        Unit  PowerCode Code  \\\n",
       "0  Employment rate  2000  2000        PC  Percentage               0   \n",
       "1  Employment rate  2001  2001        PC  Percentage               0   \n",
       "\n",
       "  PowerCode  Reference Period Code  Reference Period  Value  Flag Codes  Flags  \n",
       "0     Units                    NaN               NaN   74.0         NaN    NaN  \n",
       "1     Units                    NaN               NaN   73.9         NaN    NaN  "
      ]
     },
     "execution_count": 142,
     "metadata": {},
     "output_type": "execute_result"
    }
   ],
   "source": [
    "Porcentaje_empleo_desempleo_participacion= pd.read_csv(r'Employment, unemployment, and participation rates by place of birth and sex.csv')\n",
    "Porcentaje_empleo_desempleo_participacion.head(2)"
   ]
  },
  {
   "cell_type": "code",
   "execution_count": 143,
   "metadata": {},
   "outputs": [],
   "source": [
    "Porcentaje_empleo_desempleo_participacion.drop(['BIRTH', 'GENDER', 'RATE', 'YEAR', 'Flag Codes', 'Flags'], axis=1, inplace= True)"
   ]
  },
  {
   "cell_type": "code",
   "execution_count": 144,
   "metadata": {},
   "outputs": [],
   "source": [
    "Porcentaje_empleo_desempleo_participacion.drop(columns=Porcentaje_empleo_desempleo_participacion.columns[6:12],axis=1,inplace= True)"
   ]
  },
  {
   "cell_type": "code",
   "execution_count": 145,
   "metadata": {},
   "outputs": [],
   "source": [
    "Porcentaje_empleo_desempleo_participacion.rename(columns={'COUNTRY':'codigo_pais','Country ':'pais',\n",
    "                          'Place of birth':'lugar_de_nacimiento', 'Gender':'genero',\n",
    "                          'Rate': 'referencia_tasas', 'Year': 'anio', 'Value': 'valor'}, inplace=True)"
   ]
  },
  {
   "cell_type": "code",
   "execution_count": null,
   "metadata": {},
   "outputs": [],
   "source": [
    "Porcentaje_empleo_desempleo_participacion= Porcentaje_empleo_desempleo_participacion[(Porcentaje_empleo_desempleo_participacion['genero']== 'Total')]\n",
    "Porcentaje_empleo_desempleo_participacion.head(2)"
   ]
  },
  {
   "cell_type": "code",
   "execution_count": 148,
   "metadata": {},
   "outputs": [],
   "source": [
    "Porcentaje_empleo_desempleo_participacion.drop(['genero'], axis=1, inplace= True)"
   ]
  },
  {
   "attachments": {},
   "cell_type": "markdown",
   "metadata": {},
   "source": [
    "**Tabla de Tasa de participacion**"
   ]
  },
  {
   "cell_type": "code",
   "execution_count": 106,
   "metadata": {},
   "outputs": [
    {
     "data": {
      "text/html": [
       "<div>\n",
       "<style scoped>\n",
       "    .dataframe tbody tr th:only-of-type {\n",
       "        vertical-align: middle;\n",
       "    }\n",
       "\n",
       "    .dataframe tbody tr th {\n",
       "        vertical-align: top;\n",
       "    }\n",
       "\n",
       "    .dataframe thead th {\n",
       "        text-align: right;\n",
       "    }\n",
       "</style>\n",
       "<table border=\"1\" class=\"dataframe\">\n",
       "  <thead>\n",
       "    <tr style=\"text-align: right;\">\n",
       "      <th></th>\n",
       "      <th>ref_area</th>\n",
       "      <th>ref_area.label</th>\n",
       "      <th>source</th>\n",
       "      <th>source.label</th>\n",
       "      <th>indicator</th>\n",
       "      <th>indicator.label</th>\n",
       "      <th>sex</th>\n",
       "      <th>sex.label</th>\n",
       "      <th>classif1</th>\n",
       "      <th>classif1.label</th>\n",
       "      <th>...</th>\n",
       "      <th>time</th>\n",
       "      <th>obs_value</th>\n",
       "      <th>obs_status</th>\n",
       "      <th>obs_status.label</th>\n",
       "      <th>note_classif</th>\n",
       "      <th>note_classif.label</th>\n",
       "      <th>note_indicator</th>\n",
       "      <th>note_indicator.label</th>\n",
       "      <th>note_source</th>\n",
       "      <th>note_source.label</th>\n",
       "    </tr>\n",
       "  </thead>\n",
       "  <tbody>\n",
       "    <tr>\n",
       "      <th>0</th>\n",
       "      <td>AFG</td>\n",
       "      <td>Afganistán</td>\n",
       "      <td>BB:6361</td>\n",
       "      <td>EIGH - Encuesta de Condiciones de Vida</td>\n",
       "      <td>MST_TEAP_SEX_AGE_CBR_RT</td>\n",
       "      <td>Tasa de participación en la fuerza de trabajo ...</td>\n",
       "      <td>SEX_T</td>\n",
       "      <td>Sexo: Total</td>\n",
       "      <td>AGE_YTHADULT_YGE15</td>\n",
       "      <td>Edad (Jóvenes, adultos): 15+</td>\n",
       "      <td>...</td>\n",
       "      <td>2014</td>\n",
       "      <td>51.7</td>\n",
       "      <td>NaN</td>\n",
       "      <td>NaN</td>\n",
       "      <td>NaN</td>\n",
       "      <td>NaN</td>\n",
       "      <td>NaN</td>\n",
       "      <td>NaN</td>\n",
       "      <td>R1:3513</td>\n",
       "      <td>Repositorio: OIT-STATISTICS - Procesamiento de...</td>\n",
       "    </tr>\n",
       "    <tr>\n",
       "      <th>1</th>\n",
       "      <td>AFG</td>\n",
       "      <td>Afganistán</td>\n",
       "      <td>BB:6361</td>\n",
       "      <td>EIGH - Encuesta de Condiciones de Vida</td>\n",
       "      <td>MST_TEAP_SEX_AGE_CBR_RT</td>\n",
       "      <td>Tasa de participación en la fuerza de trabajo ...</td>\n",
       "      <td>SEX_T</td>\n",
       "      <td>Sexo: Total</td>\n",
       "      <td>AGE_YTHADULT_YGE15</td>\n",
       "      <td>Edad (Jóvenes, adultos): 15+</td>\n",
       "      <td>...</td>\n",
       "      <td>2014</td>\n",
       "      <td>55.1</td>\n",
       "      <td>NaN</td>\n",
       "      <td>NaN</td>\n",
       "      <td>NaN</td>\n",
       "      <td>NaN</td>\n",
       "      <td>NaN</td>\n",
       "      <td>NaN</td>\n",
       "      <td>R1:3513</td>\n",
       "      <td>Repositorio: OIT-STATISTICS - Procesamiento de...</td>\n",
       "    </tr>\n",
       "  </tbody>\n",
       "</table>\n",
       "<p>2 rows × 22 columns</p>\n",
       "</div>"
      ],
      "text/plain": [
       "  ref_area ref_area.label   source                            source.label  \\\n",
       "0      AFG     Afganistán  BB:6361  EIGH - Encuesta de Condiciones de Vida   \n",
       "1      AFG     Afganistán  BB:6361  EIGH - Encuesta de Condiciones de Vida   \n",
       "\n",
       "                 indicator                                    indicator.label  \\\n",
       "0  MST_TEAP_SEX_AGE_CBR_RT  Tasa de participación en la fuerza de trabajo ...   \n",
       "1  MST_TEAP_SEX_AGE_CBR_RT  Tasa de participación en la fuerza de trabajo ...   \n",
       "\n",
       "     sex    sex.label            classif1                classif1.label  ...  \\\n",
       "0  SEX_T  Sexo: Total  AGE_YTHADULT_YGE15  Edad (Jóvenes, adultos): 15+  ...   \n",
       "1  SEX_T  Sexo: Total  AGE_YTHADULT_YGE15  Edad (Jóvenes, adultos): 15+  ...   \n",
       "\n",
       "   time obs_value  obs_status  obs_status.label note_classif  \\\n",
       "0  2014      51.7         NaN               NaN          NaN   \n",
       "1  2014      55.1         NaN               NaN          NaN   \n",
       "\n",
       "  note_classif.label note_indicator note_indicator.label note_source  \\\n",
       "0                NaN            NaN                  NaN     R1:3513   \n",
       "1                NaN            NaN                  NaN     R1:3513   \n",
       "\n",
       "                                   note_source.label  \n",
       "0  Repositorio: OIT-STATISTICS - Procesamiento de...  \n",
       "1  Repositorio: OIT-STATISTICS - Procesamiento de...  \n",
       "\n",
       "[2 rows x 22 columns]"
      ]
     },
     "execution_count": 106,
     "metadata": {},
     "output_type": "execute_result"
    }
   ],
   "source": [
    "participacion= pd.read_csv(r'Tasa de participación en la fuerza de trabajo.csv')\n",
    "participacion.head(2)"
   ]
  },
  {
   "cell_type": "code",
   "execution_count": 107,
   "metadata": {},
   "outputs": [],
   "source": [
    "participacion.drop(['source', 'source.label', 'indicator', 'indicator.label','sex', 'sex.label', 'classif1', 'classif2'], axis=1, inplace= True)"
   ]
  },
  {
   "cell_type": "code",
   "execution_count": 109,
   "metadata": {},
   "outputs": [],
   "source": [
    "participacion.drop(columns=participacion.columns[6:15],axis=1,inplace= True)"
   ]
  },
  {
   "cell_type": "code",
   "execution_count": 112,
   "metadata": {},
   "outputs": [],
   "source": [
    "participacion.rename(columns={'ref_area':'codigo_pais','ref_area.label':'pais',\n",
    "                          'classif1.label':'edad', 'classif2.label':'lugar_de_nacimiento',\n",
    "                          'time': 'anio', 'obs_value': 'valor'}, inplace=True)"
   ]
  },
  {
   "cell_type": "code",
   "execution_count": null,
   "metadata": {},
   "outputs": [],
   "source": [
    "participacion= participacion[(participacion['edad']== 'Edad (Tramos agregados): Total')]\n",
    "participacion"
   ]
  },
  {
   "cell_type": "code",
   "execution_count": 136,
   "metadata": {},
   "outputs": [],
   "source": [
    "participacion.drop(['edad'], axis=1, inplace=True)"
   ]
  },
  {
   "attachments": {},
   "cell_type": "markdown",
   "metadata": {},
   "source": [
    "**Tabla de migracion neta banco mundial**"
   ]
  },
  {
   "cell_type": "code",
   "execution_count": 156,
   "metadata": {},
   "outputs": [
    {
     "data": {
      "text/html": [
       "<div>\n",
       "<style scoped>\n",
       "    .dataframe tbody tr th:only-of-type {\n",
       "        vertical-align: middle;\n",
       "    }\n",
       "\n",
       "    .dataframe tbody tr th {\n",
       "        vertical-align: top;\n",
       "    }\n",
       "\n",
       "    .dataframe thead th {\n",
       "        text-align: right;\n",
       "    }\n",
       "</style>\n",
       "<table border=\"1\" class=\"dataframe\">\n",
       "  <thead>\n",
       "    <tr style=\"text-align: right;\">\n",
       "      <th></th>\n",
       "      <th>Country Name</th>\n",
       "      <th>Country Code</th>\n",
       "      <th>Indicator Name</th>\n",
       "      <th>Indicator Code</th>\n",
       "      <th>1960</th>\n",
       "      <th>1961</th>\n",
       "      <th>1962</th>\n",
       "      <th>1963</th>\n",
       "      <th>1964</th>\n",
       "      <th>1965</th>\n",
       "      <th>...</th>\n",
       "      <th>2013</th>\n",
       "      <th>2014</th>\n",
       "      <th>2015</th>\n",
       "      <th>2016</th>\n",
       "      <th>2017</th>\n",
       "      <th>2018</th>\n",
       "      <th>2019</th>\n",
       "      <th>2020</th>\n",
       "      <th>2021</th>\n",
       "      <th>Unnamed: 66</th>\n",
       "    </tr>\n",
       "  </thead>\n",
       "  <tbody>\n",
       "    <tr>\n",
       "      <th>0</th>\n",
       "      <td>Aruba</td>\n",
       "      <td>ABW</td>\n",
       "      <td>Net migration</td>\n",
       "      <td>SM.POP.NETM</td>\n",
       "      <td>0.0</td>\n",
       "      <td>-569.0</td>\n",
       "      <td>-609.0</td>\n",
       "      <td>-646.0</td>\n",
       "      <td>-684.0</td>\n",
       "      <td>-726.0</td>\n",
       "      <td>...</td>\n",
       "      <td>134.0</td>\n",
       "      <td>88.0</td>\n",
       "      <td>177.0</td>\n",
       "      <td>170.0</td>\n",
       "      <td>218.0</td>\n",
       "      <td>367.0</td>\n",
       "      <td>412.0</td>\n",
       "      <td>0.0</td>\n",
       "      <td>501.0</td>\n",
       "      <td>NaN</td>\n",
       "    </tr>\n",
       "    <tr>\n",
       "      <th>1</th>\n",
       "      <td>Africa Eastern and Southern</td>\n",
       "      <td>AFE</td>\n",
       "      <td>Net migration</td>\n",
       "      <td>SM.POP.NETM</td>\n",
       "      <td>-90849.0</td>\n",
       "      <td>-1348.0</td>\n",
       "      <td>-24259.0</td>\n",
       "      <td>-16266.0</td>\n",
       "      <td>37452.0</td>\n",
       "      <td>11041.0</td>\n",
       "      <td>...</td>\n",
       "      <td>-92842.0</td>\n",
       "      <td>-199608.0</td>\n",
       "      <td>394925.0</td>\n",
       "      <td>-864708.0</td>\n",
       "      <td>-343075.0</td>\n",
       "      <td>-366105.0</td>\n",
       "      <td>-187410.0</td>\n",
       "      <td>-48955.0</td>\n",
       "      <td>-179444.0</td>\n",
       "      <td>NaN</td>\n",
       "    </tr>\n",
       "  </tbody>\n",
       "</table>\n",
       "<p>2 rows × 67 columns</p>\n",
       "</div>"
      ],
      "text/plain": [
       "                  Country Name Country Code Indicator Name Indicator Code  \\\n",
       "0                        Aruba          ABW  Net migration    SM.POP.NETM   \n",
       "1  Africa Eastern and Southern          AFE  Net migration    SM.POP.NETM   \n",
       "\n",
       "      1960    1961     1962     1963     1964     1965  ...     2013  \\\n",
       "0      0.0  -569.0   -609.0   -646.0   -684.0   -726.0  ...    134.0   \n",
       "1 -90849.0 -1348.0 -24259.0 -16266.0  37452.0  11041.0  ... -92842.0   \n",
       "\n",
       "       2014      2015      2016      2017      2018      2019     2020  \\\n",
       "0      88.0     177.0     170.0     218.0     367.0     412.0      0.0   \n",
       "1 -199608.0  394925.0 -864708.0 -343075.0 -366105.0 -187410.0 -48955.0   \n",
       "\n",
       "       2021  Unnamed: 66  \n",
       "0     501.0          NaN  \n",
       "1 -179444.0          NaN  \n",
       "\n",
       "[2 rows x 67 columns]"
      ]
     },
     "execution_count": 156,
     "metadata": {},
     "output_type": "execute_result"
    }
   ],
   "source": [
    "migracion_neta= pd.read_csv(r'migracion_neta.csv')\n",
    "migracion_neta.head(2)"
   ]
  },
  {
   "cell_type": "code",
   "execution_count": 157,
   "metadata": {},
   "outputs": [],
   "source": [
    "migracion_neta.drop(['Indicator Name', 'Indicator Code', 'Unnamed: 66'], axis=1, inplace= True)"
   ]
  },
  {
   "cell_type": "code",
   "execution_count": 162,
   "metadata": {},
   "outputs": [
    {
     "data": {
      "text/html": [
       "<div>\n",
       "<style scoped>\n",
       "    .dataframe tbody tr th:only-of-type {\n",
       "        vertical-align: middle;\n",
       "    }\n",
       "\n",
       "    .dataframe tbody tr th {\n",
       "        vertical-align: top;\n",
       "    }\n",
       "\n",
       "    .dataframe thead th {\n",
       "        text-align: right;\n",
       "    }\n",
       "</style>\n",
       "<table border=\"1\" class=\"dataframe\">\n",
       "  <thead>\n",
       "    <tr style=\"text-align: right;\">\n",
       "      <th></th>\n",
       "      <th>pais</th>\n",
       "      <th>codigo_pais</th>\n",
       "      <th>1990</th>\n",
       "      <th>1991</th>\n",
       "      <th>1992</th>\n",
       "      <th>1993</th>\n",
       "      <th>1994</th>\n",
       "      <th>1995</th>\n",
       "      <th>1996</th>\n",
       "      <th>1997</th>\n",
       "      <th>...</th>\n",
       "      <th>2012</th>\n",
       "      <th>2013</th>\n",
       "      <th>2014</th>\n",
       "      <th>2015</th>\n",
       "      <th>2016</th>\n",
       "      <th>2017</th>\n",
       "      <th>2018</th>\n",
       "      <th>2019</th>\n",
       "      <th>2020</th>\n",
       "      <th>2021</th>\n",
       "    </tr>\n",
       "  </thead>\n",
       "  <tbody>\n",
       "    <tr>\n",
       "      <th>0</th>\n",
       "      <td>Aruba</td>\n",
       "      <td>ABW</td>\n",
       "      <td>879.0</td>\n",
       "      <td>1946.0</td>\n",
       "      <td>1294.0</td>\n",
       "      <td>1662.0</td>\n",
       "      <td>1668.0</td>\n",
       "      <td>1598.0</td>\n",
       "      <td>1636.0</td>\n",
       "      <td>1656.0</td>\n",
       "      <td>...</td>\n",
       "      <td>229.0</td>\n",
       "      <td>134.0</td>\n",
       "      <td>88.0</td>\n",
       "      <td>177.0</td>\n",
       "      <td>170.0</td>\n",
       "      <td>218.0</td>\n",
       "      <td>367.0</td>\n",
       "      <td>412.0</td>\n",
       "      <td>0.0</td>\n",
       "      <td>501.0</td>\n",
       "    </tr>\n",
       "    <tr>\n",
       "      <th>1</th>\n",
       "      <td>Africa Eastern and Southern</td>\n",
       "      <td>AFE</td>\n",
       "      <td>22815.0</td>\n",
       "      <td>-511160.0</td>\n",
       "      <td>-556663.0</td>\n",
       "      <td>-156997.0</td>\n",
       "      <td>-391945.0</td>\n",
       "      <td>-243945.0</td>\n",
       "      <td>-427138.0</td>\n",
       "      <td>-813478.0</td>\n",
       "      <td>...</td>\n",
       "      <td>-285231.0</td>\n",
       "      <td>-92842.0</td>\n",
       "      <td>-199608.0</td>\n",
       "      <td>394925.0</td>\n",
       "      <td>-864708.0</td>\n",
       "      <td>-343075.0</td>\n",
       "      <td>-366105.0</td>\n",
       "      <td>-187410.0</td>\n",
       "      <td>-48955.0</td>\n",
       "      <td>-179444.0</td>\n",
       "    </tr>\n",
       "  </tbody>\n",
       "</table>\n",
       "<p>2 rows × 34 columns</p>\n",
       "</div>"
      ],
      "text/plain": [
       "                          pais codigo_pais     1990      1991      1992  \\\n",
       "0                        Aruba         ABW    879.0    1946.0    1294.0   \n",
       "1  Africa Eastern and Southern         AFE  22815.0 -511160.0 -556663.0   \n",
       "\n",
       "       1993      1994      1995      1996      1997  ...      2012     2013  \\\n",
       "0    1662.0    1668.0    1598.0    1636.0    1656.0  ...     229.0    134.0   \n",
       "1 -156997.0 -391945.0 -243945.0 -427138.0 -813478.0  ... -285231.0 -92842.0   \n",
       "\n",
       "       2014      2015      2016      2017      2018      2019     2020  \\\n",
       "0      88.0     177.0     170.0     218.0     367.0     412.0      0.0   \n",
       "1 -199608.0  394925.0 -864708.0 -343075.0 -366105.0 -187410.0 -48955.0   \n",
       "\n",
       "       2021  \n",
       "0     501.0  \n",
       "1 -179444.0  \n",
       "\n",
       "[2 rows x 34 columns]"
      ]
     },
     "execution_count": 162,
     "metadata": {},
     "output_type": "execute_result"
    }
   ],
   "source": [
    "migracion_neta.head(2)"
   ]
  },
  {
   "cell_type": "code",
   "execution_count": 159,
   "metadata": {},
   "outputs": [],
   "source": [
    "migracion_neta.drop(columns=migracion_neta.columns[2:32],axis=1,inplace= True)"
   ]
  },
  {
   "cell_type": "code",
   "execution_count": 161,
   "metadata": {},
   "outputs": [],
   "source": [
    "migracion_neta.rename(columns={'Country Name':'pais','Country Code':'codigo_pais'}, inplace=True)"
   ]
  },
  {
   "cell_type": "code",
   "execution_count": 174,
   "metadata": {},
   "outputs": [],
   "source": [
    "migracion_neta.drop([110], axis=0, inplace=True)"
   ]
  }
 ],
 "metadata": {
  "kernelspec": {
   "display_name": "Python 3",
   "language": "python",
   "name": "python3"
  },
  "language_info": {
   "codemirror_mode": {
    "name": "ipython",
    "version": 3
   },
   "file_extension": ".py",
   "mimetype": "text/x-python",
   "name": "python",
   "nbconvert_exporter": "python",
   "pygments_lexer": "ipython3",
   "version": "3.10.6"
  },
  "orig_nbformat": 4,
  "vscode": {
   "interpreter": {
    "hash": "0e8c5f23fb510477d5fd12bb1fd390b47d8bdccc66b73a6f44117f30d4426fae"
   }
  }
 },
 "nbformat": 4,
 "nbformat_minor": 2
}
