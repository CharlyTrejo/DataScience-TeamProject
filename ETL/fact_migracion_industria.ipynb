{
 "cells": [
  {
   "cell_type": "code",
   "execution_count": 7,
   "metadata": {},
   "outputs": [],
   "source": [
    "import pandas as pd"
   ]
  },
  {
   "cell_type": "code",
   "execution_count": 8,
   "metadata": {},
   "outputs": [],
   "source": [
    "industria= pd.read_csv(r'Etl/industry_migration_public.csv')"
   ]
  },
  {
   "cell_type": "code",
   "execution_count": 9,
   "metadata": {},
   "outputs": [],
   "source": [
    "industria.drop(['wb_income', 'wb_region', 'isic_section_index','industry_id'], axis=1, inplace=True )"
   ]
  },
  {
   "cell_type": "code",
   "execution_count": 10,
   "metadata": {},
   "outputs": [],
   "source": [
    "industria.drop(columns=industria.columns[9:26],axis=1,inplace= True)"
   ]
  },
  {
   "cell_type": "code",
   "execution_count": 11,
   "metadata": {},
   "outputs": [],
   "source": [
    "industria.rename(columns={'country_code':'codigo_pais','country_name':'pais',\n",
    "                          'isic_section_name':'sector', 'industry_name':'industria',\n",
    "                          'net_per_10K_2015': '2015', 'net_per_10K_2016': '2016', 'net_per_10K_2017': '2017',\n",
    "                          'net_per_10K_2018': '2018', 'net_per_10K_2019': '2019'}, inplace=True)"
   ]
  },
  {
   "cell_type": "code",
   "execution_count": 12,
   "metadata": {},
   "outputs": [
    {
     "data": {
      "text/html": [
       "<div>\n",
       "<style scoped>\n",
       "    .dataframe tbody tr th:only-of-type {\n",
       "        vertical-align: middle;\n",
       "    }\n",
       "\n",
       "    .dataframe tbody tr th {\n",
       "        vertical-align: top;\n",
       "    }\n",
       "\n",
       "    .dataframe thead th {\n",
       "        text-align: right;\n",
       "    }\n",
       "</style>\n",
       "<table border=\"1\" class=\"dataframe\">\n",
       "  <thead>\n",
       "    <tr style=\"text-align: right;\">\n",
       "      <th></th>\n",
       "      <th>codigo_pais</th>\n",
       "      <th>pais</th>\n",
       "      <th>sector</th>\n",
       "      <th>industria</th>\n",
       "      <th>2015</th>\n",
       "      <th>2016</th>\n",
       "      <th>2017</th>\n",
       "      <th>2018</th>\n",
       "      <th>2019</th>\n",
       "    </tr>\n",
       "  </thead>\n",
       "  <tbody>\n",
       "    <tr>\n",
       "      <th>0</th>\n",
       "      <td>ae</td>\n",
       "      <td>United Arab Emirates</td>\n",
       "      <td>Manufacturing</td>\n",
       "      <td>Defense &amp; Space</td>\n",
       "      <td>378.74</td>\n",
       "      <td>127.94</td>\n",
       "      <td>8.20</td>\n",
       "      <td>68.51</td>\n",
       "      <td>49.55</td>\n",
       "    </tr>\n",
       "    <tr>\n",
       "      <th>1</th>\n",
       "      <td>ae</td>\n",
       "      <td>United Arab Emirates</td>\n",
       "      <td>Information and communication</td>\n",
       "      <td>Computer Hardware</td>\n",
       "      <td>100.97</td>\n",
       "      <td>358.14</td>\n",
       "      <td>112.98</td>\n",
       "      <td>149.57</td>\n",
       "      <td>182.22</td>\n",
       "    </tr>\n",
       "    <tr>\n",
       "      <th>2</th>\n",
       "      <td>ae</td>\n",
       "      <td>United Arab Emirates</td>\n",
       "      <td>Information and communication</td>\n",
       "      <td>Computer Software</td>\n",
       "      <td>1079.36</td>\n",
       "      <td>848.15</td>\n",
       "      <td>596.48</td>\n",
       "      <td>409.18</td>\n",
       "      <td>407.41</td>\n",
       "    </tr>\n",
       "    <tr>\n",
       "      <th>3</th>\n",
       "      <td>ae</td>\n",
       "      <td>United Arab Emirates</td>\n",
       "      <td>Information and communication</td>\n",
       "      <td>Computer Networking</td>\n",
       "      <td>401.46</td>\n",
       "      <td>447.39</td>\n",
       "      <td>163.99</td>\n",
       "      <td>236.69</td>\n",
       "      <td>188.07</td>\n",
       "    </tr>\n",
       "    <tr>\n",
       "      <th>4</th>\n",
       "      <td>ae</td>\n",
       "      <td>United Arab Emirates</td>\n",
       "      <td>Information and communication</td>\n",
       "      <td>Internet</td>\n",
       "      <td>1840.33</td>\n",
       "      <td>1368.42</td>\n",
       "      <td>877.71</td>\n",
       "      <td>852.39</td>\n",
       "      <td>519.40</td>\n",
       "    </tr>\n",
       "  </tbody>\n",
       "</table>\n",
       "</div>"
      ],
      "text/plain": [
       "  codigo_pais                  pais                         sector  \\\n",
       "0          ae  United Arab Emirates                  Manufacturing   \n",
       "1          ae  United Arab Emirates  Information and communication   \n",
       "2          ae  United Arab Emirates  Information and communication   \n",
       "3          ae  United Arab Emirates  Information and communication   \n",
       "4          ae  United Arab Emirates  Information and communication   \n",
       "\n",
       "             industria     2015     2016    2017    2018    2019  \n",
       "0      Defense & Space   378.74   127.94    8.20   68.51   49.55  \n",
       "1    Computer Hardware   100.97   358.14  112.98  149.57  182.22  \n",
       "2    Computer Software  1079.36   848.15  596.48  409.18  407.41  \n",
       "3  Computer Networking   401.46   447.39  163.99  236.69  188.07  \n",
       "4             Internet  1840.33  1368.42  877.71  852.39  519.40  "
      ]
     },
     "execution_count": 12,
     "metadata": {},
     "output_type": "execute_result"
    }
   ],
   "source": [
    "industria.head()"
   ]
  }
 ],
 "metadata": {
  "kernelspec": {
   "display_name": "Python 3",
   "language": "python",
   "name": "python3"
  },
  "language_info": {
   "codemirror_mode": {
    "name": "ipython",
    "version": 3
   },
   "file_extension": ".py",
   "mimetype": "text/x-python",
   "name": "python",
   "nbconvert_exporter": "python",
   "pygments_lexer": "ipython3",
   "version": "3.11.1"
  },
  "orig_nbformat": 4,
  "vscode": {
   "interpreter": {
    "hash": "2ed8b01cc943fc452f3875585953f694a0a4e4a007a9ce4019ec5b05c1f98e94"
   }
  }
 },
 "nbformat": 4,
 "nbformat_minor": 2
}
