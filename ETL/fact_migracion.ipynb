{
 "cells": [
  {
   "cell_type": "code",
   "execution_count": 1,
   "metadata": {},
   "outputs": [],
   "source": [
    "import pandas as pd "
   ]
  },
  {
   "cell_type": "code",
   "execution_count": 2,
   "metadata": {},
   "outputs": [],
   "source": [
    "migracion_neta= pd.read_csv(r'Etl\\migracion_neta.csv')"
   ]
  },
  {
   "cell_type": "code",
   "execution_count": 3,
   "metadata": {},
   "outputs": [],
   "source": [
    "migracion_neta.drop(['Indicator Name', 'Indicator Code', 'Unnamed: 66'], axis=1, inplace= True)"
   ]
  },
  {
   "cell_type": "code",
   "execution_count": 4,
   "metadata": {},
   "outputs": [],
   "source": [
    "migracion_neta.drop(columns=migracion_neta.columns[2:32],axis=1,inplace= True)"
   ]
  },
  {
   "cell_type": "code",
   "execution_count": 5,
   "metadata": {},
   "outputs": [],
   "source": [
    "migracion_neta.rename(columns={'Country Name':'pais','Country Code':'codigo_pais'}, inplace=True)"
   ]
  },
  {
   "cell_type": "code",
   "execution_count": 6,
   "metadata": {},
   "outputs": [],
   "source": [
    "lista_remover = [\"AFE\", \"AFW\", \"ARB\", \"CEB\", \"CSS\", \"EAR\", \"ECA\", \"EAP\", \"EAS\", \"ECS\", \"EMU\", \"EUU\", \"FCS\", \"HIC\", \"HPC\", \"IBD\", \"IBT\", \"IDA\", \"IDB\", \"IDX\", \"INX\", \"LAC\", \"LCN\", \"LDC\", \"LIC\", \"LMC\", \"LMY\", \"LTE\", \"MIC\", \"NAC\", \"OED\", \"OSS\", \"PRE\", \"PSS\", \"PST\", \"SAS\", \"SSA\", \"SSF\", \"SST\", \"TEA\", \"TEC\", \"TLA\", \"TMN\", \"TSA\", \"TSS\", \"UMC\", \"WLD\" , \"MEA\", \"MNA\"]"
   ]
  },
  {
   "cell_type": "code",
   "execution_count": null,
   "metadata": {},
   "outputs": [],
   "source": [
    "indices = migracion_neta[migracion_neta['codigo_pais'].isin(lista_remover)].index"
   ]
  },
  {
   "cell_type": "code",
   "execution_count": null,
   "metadata": {},
   "outputs": [],
   "source": [
    "migracion_neta.drop(indices, inplace=True)"
   ]
  },
  {
   "cell_type": "code",
   "execution_count": 7,
   "metadata": {},
   "outputs": [],
   "source": [
    "migracion = migracion_neta.melt(id_vars=['pais','codigo_pais'], var_name='anio', value_name='migracion_neta')"
   ]
  }
 ],
 "metadata": {
  "kernelspec": {
   "display_name": "Python 3",
   "language": "python",
   "name": "python3"
  },
  "language_info": {
   "codemirror_mode": {
    "name": "ipython",
    "version": 3
   },
   "file_extension": ".py",
   "mimetype": "text/x-python",
   "name": "python",
   "nbconvert_exporter": "python",
   "pygments_lexer": "ipython3",
   "version": "3.11.1"
  },
  "orig_nbformat": 4,
  "vscode": {
   "interpreter": {
    "hash": "2ed8b01cc943fc452f3875585953f694a0a4e4a007a9ce4019ec5b05c1f98e94"
   }
  }
 },
 "nbformat": 4,
 "nbformat_minor": 2
}
