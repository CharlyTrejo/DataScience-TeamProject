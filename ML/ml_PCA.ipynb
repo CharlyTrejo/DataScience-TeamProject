{
 "cells": [
  {
   "cell_type": "code",
   "execution_count": 1,
   "metadata": {},
   "outputs": [],
   "source": [
    "import pandas as pd\n",
    "import missingno as msno\n",
    "import seaborn as sns\n",
    "import datetime as dt\n",
    "from datetime import datetime\n",
    "df_migration_pre = pd.read_csv(\"dataset_migration.csv\")\n",
    "df_hdi_pre = pd.read_csv(\"HDI_Index.csv\")"
   ]
  },
  {
   "cell_type": "code",
   "execution_count": 2,
   "metadata": {},
   "outputs": [],
   "source": [
    "def dateto_ordinal(df,date_column):\n",
    "    #Función para convertir fecha a tipo ordinal\n",
    "    df['Fecha_Numerico']=df[date_column].map(dt.datetime.toordinal)\n",
    "    return df\n",
    "\n",
    "def country_code_num(df):\n",
    "    #Funcion para crear diccionario codigo pais y \"label_encoder\"\n",
    "    country_code = df[\"Country Code\"].unique()\n",
    "    country_code = country_code.tolist()\n",
    "    country_code_c = {}\n",
    "    keys = country_code\n",
    "    values = range(1, len(keys)+1)\n",
    "    for key, value in zip(keys, values):\n",
    "        country_code_c[key] = value\n",
    "    #Add new column Country_code_num\n",
    "    df[\"country_code_c\"] = df[\"Country Code\"].map(country_code_c)\n",
    "    #Funcion para crear diccionario id pais y \"label_encoder\"\n",
    "    num_country_code = {v: k for k, v in country_code_c.items()}\n",
    "    return df\n",
    "\n",
    "def clearna (df):\n",
    "    #Funcion para eliminar registros nulos\n",
    "    df.dropna(inplace=True)\n",
    "    return df\n",
    "\n",
    "def dropcolumns_for_ml(df):\n",
    "    #Funcion para dejar columnas de tipo float para el modelo de ml\n",
    "    df = df.drop([\"Country Code\",\"Year\",\"Unemployment Advanced Education (%)\",\"Unemployment Intermediate Education (%)\", \"Unemployment Basic Education (%)\",\"Labor Taxes and Contributions (%)\",\"Social Protection and Labor Programs (%)\",\"Poverty Rate (%)\"],axis=1)\n",
    "    return df\n",
    "\n",
    "def dropcolumns(df):\n",
    "    #Funcion para eliminar columnas\n",
    "    df = df.drop([\"Unemployment Advanced Education (%)\",\"Unemployment Intermediate Education (%)\", \"Unemployment Basic Education (%)\",\"Labor Taxes and Contributions (%)\",\"Social Protection and Labor Programs (%)\",\"Poverty Rate (%)\"],axis=1)\n",
    "    return df\n",
    "\n",
    "def preprodata(df_migration,df_hdi):\n",
    "    #Funcion para preprocesamiento de datos\n",
    "    #unir dataframes\n",
    "    df = df_migration.merge(df_hdi, how=\"left\", on=[\"Country Name\", \"Country Code\", \"Year\"])\n",
    "    #eliminar columnas redundanes o que no tienen importancia en el modelo\n",
    "    df.drop([\"Unnamed: 0_x\",\"Unnamed: 0_y\"], axis= 1, inplace=True)\n",
    "    df.drop(\"PIB Growth (%)\", axis= 1, inplace=True)\n",
    "    #Convertir year as date\n",
    "    df[\"Year\"] = pd.to_datetime(df[\"Year\"].astype(str),format= \"%Y\")\n",
    "    df= dateto_ordinal(df,\"Year\")\n",
    "    df = country_code_num(df)\n",
    "    df_ml = df\n",
    "    df = dropcolumns(df)\n",
    "    df = clearna(df)\n",
    "    df_ml = dropcolumns_for_ml(df_ml)\n",
    "    df_ml = clearna(df_ml)\n",
    "    return df_ml , df\n",
    "\n",
    "def country_reduce(df,list_country):\n",
    "    mask = df[\"Country Name\"].isin(list_country)\n",
    "    df_filtered = df[mask]\n",
    "    return df_filtered\n",
    "\n",
    "#Función para convertir año a número ordinal\n",
    "def convert_year_to_ordinal(year_input):\n",
    "    year_num = datetime.strptime(year_input,'%Y').toordinal()\n",
    "    return year_num\n",
    "\n",
    "def year_filter(df,year_str):\n",
    "    year_num = convert_year_to_ordinal(year_str)\n",
    "    mask = df[\"Fecha_Numerico\"] == year_num \n",
    "    df_filtered = df[mask]\n",
    "    return df_filtered"
   ]
  },
  {
   "cell_type": "code",
   "execution_count": 3,
   "metadata": {},
   "outputs": [],
   "source": [
    "#Lista de paises para el modelo ML paises receptores y emisores en conjunto\n",
    "country_list =['Afganistán','Francia','China','Canadá','India','España',\n",
    "                'México','Alemania','Venezuela','Italia','Pakistán','Estados Unidos',\n",
    "               'Ucrania','Arabia Saudita','Bangladesh','Australia','República Árabe Siria',\t\n",
    "               'Reino Unido','Yemen, Rep. del','Federación de Rusia']\n",
    "\n",
    "#Ejecución función de preprocesamiento\n",
    "dfm_total_ml, dfm_total = preprodata(df_migration_pre,df_hdi_pre)\n",
    "dfm_ml = country_reduce(dfm_total_ml,country_list)\n",
    "dfm_total = country_reduce(dfm_total,country_list)"
   ]
  },
  {
   "cell_type": "code",
   "execution_count": 4,
   "metadata": {},
   "outputs": [
    {
     "name": "stdout",
     "output_type": "stream",
     "text": [
      "Australia                21\n",
      "Italia                   21\n",
      "Estados Unidos           21\n",
      "Ucrania                  21\n",
      "República Árabe Siria    21\n",
      "Arabia Saudita           21\n",
      "Federación de Rusia      21\n",
      "Pakistán                 21\n",
      "Bangladesh               21\n",
      "México                   21\n",
      "India                    21\n",
      "Reino Unido              21\n",
      "Francia                  21\n",
      "España                   21\n",
      "Alemania                 21\n",
      "China                    21\n",
      "Canadá                   21\n",
      "Yemen, Rep. del          19\n",
      "Afganistán               19\n",
      "Venezuela                15\n",
      "Name: Country Name, dtype: int64\n",
      "<class 'pandas.core.frame.DataFrame'>\n",
      "Int64Index: 410 entries, 10 to 4543\n",
      "Data columns (total 7 columns):\n",
      " #   Column                   Non-Null Count  Dtype  \n",
      "---  ------                   --------------  -----  \n",
      " 0   Country Name             410 non-null    object \n",
      " 1   Net Migration            410 non-null    float64\n",
      " 2   PIB per Capita           410 non-null    float64\n",
      " 3   Total Unemployment (%)   410 non-null    float64\n",
      " 4   human_development_index  410 non-null    float64\n",
      " 5   Fecha_Numerico           410 non-null    int64  \n",
      " 6   country_code_c           410 non-null    int64  \n",
      "dtypes: float64(4), int64(2), object(1)\n",
      "memory usage: 25.6+ KB\n",
      "None\n",
      "<class 'pandas.core.frame.DataFrame'>\n",
      "Int64Index: 410 entries, 10 to 4543\n",
      "Data columns (total 9 columns):\n",
      " #   Column                   Non-Null Count  Dtype         \n",
      "---  ------                   --------------  -----         \n",
      " 0   Country Name             410 non-null    object        \n",
      " 1   Country Code             410 non-null    object        \n",
      " 2   Year                     410 non-null    datetime64[ns]\n",
      " 3   Net Migration            410 non-null    float64       \n",
      " 4   PIB per Capita           410 non-null    float64       \n",
      " 5   Total Unemployment (%)   410 non-null    float64       \n",
      " 6   human_development_index  410 non-null    float64       \n",
      " 7   Fecha_Numerico           410 non-null    int64         \n",
      " 8   country_code_c           410 non-null    int64         \n",
      "dtypes: datetime64[ns](1), float64(4), int64(2), object(2)\n",
      "memory usage: 32.0+ KB\n",
      "None\n"
     ]
    }
   ],
   "source": [
    "print(dfm_ml[\"Country Name\"].value_counts())\n",
    "print(dfm_ml.info())\n",
    "print(dfm_total.info())"
   ]
  },
  {
   "cell_type": "code",
   "execution_count": 5,
   "metadata": {},
   "outputs": [
    {
     "name": "stdout",
     "output_type": "stream",
     "text": [
      "<class 'pandas.core.frame.DataFrame'>\n",
      "Int64Index: 410 entries, 10 to 4543\n",
      "Data columns (total 7 columns):\n",
      " #   Column                   Non-Null Count  Dtype  \n",
      "---  ------                   --------------  -----  \n",
      " 0   Country Name             410 non-null    object \n",
      " 1   Net Migration            410 non-null    float64\n",
      " 2   PIB per Capita           410 non-null    float64\n",
      " 3   Total Unemployment (%)   410 non-null    float64\n",
      " 4   human_development_index  410 non-null    float64\n",
      " 5   Fecha_Numerico           410 non-null    int64  \n",
      " 6   country_code_c           410 non-null    int64  \n",
      "dtypes: float64(4), int64(2), object(1)\n",
      "memory usage: 25.6+ KB\n",
      "None\n"
     ]
    }
   ],
   "source": [
    "print(dfm_ml.info())"
   ]
  },
  {
   "cell_type": "code",
   "execution_count": 16,
   "metadata": {},
   "outputs": [
    {
     "name": "stdout",
     "output_type": "stream",
     "text": [
      "[[6.36533321e-01 1.92728025e-02 2.28882840e-01 9.11262799e-01\n",
      "  4.24528302e-02]\n",
      " [4.94867360e-01 2.31628712e-03 1.11716620e-01 2.09897611e-01\n",
      "  7.54716981e-02]\n",
      " [6.61000131e-01 3.46594450e-02 2.50291938e-01 9.01023891e-01\n",
      "  1.46226415e-01]\n",
      " ...\n",
      " [6.79140030e-01 3.38004347e-04 3.83690148e-01 3.66894198e-01\n",
      "  8.72641509e-01]\n",
      " [6.06945675e-01 7.14612692e-03 3.39898790e-01 7.04778157e-01\n",
      "  9.43396226e-01]\n",
      " [7.86711553e-01 9.85007219e-01 2.97781243e-01 9.52218430e-01\n",
      "  9.52830189e-01]]\n",
      "[[-0.50535918  0.07069784 -0.07808376 -0.08470844 -0.02754675]\n",
      " [-0.26946712 -0.56217959  0.18071474 -0.03072102 -0.05945055]\n",
      " [-0.40301415  0.10283155 -0.08194773 -0.06084598 -0.03626964]\n",
      " ...\n",
      " [ 0.45087    -0.15963336 -0.07383951  0.11414408 -0.09612182]\n",
      " [ 0.41980243  0.12154769 -0.15771631 -0.05093909  0.01356915]\n",
      " [ 0.35315887  0.73439608  0.53990649  0.3162864   0.23731236]]\n",
      "[[-0.01911631  0.00138839  0.02921069 -0.29239431  0.95565943]\n",
      " [ 0.31705918  0.35403744  0.01427512  0.83971426  0.26231117]\n",
      " [ 0.06049513  0.75652829 -0.56846225 -0.30815307 -0.07679613]\n",
      " [ 0.37210748  0.41601779  0.76790424 -0.2955146  -0.10704868]\n",
      " [-0.8700485   0.35951316  0.29345648  0.16461572  0.02347005]]\n",
      "range(0, 5)\n"
     ]
    },
    {
     "data": {
      "image/png": "[encoded data removed]",
      "text/plain": [
       "<Figure size 640x480 with 1 Axes>"
      ]
     },
     "metadata": {},
     "output_type": "display_data"
    },
    {
     "name": "stdout",
     "output_type": "stream",
     "text": [
      "[[-0.50535918  0.07069784 -0.07808376 -0.08470844 -0.02754675]\n",
      " [-0.26946712 -0.56217959  0.18071474 -0.03072102 -0.05945055]\n",
      " [-0.40301415  0.10283155 -0.08194773 -0.06084598 -0.03626964]\n",
      " ...\n",
      " [ 0.45087    -0.15963336 -0.07383951  0.11414408 -0.09612182]\n",
      " [ 0.41980243  0.12154769 -0.15771631 -0.05093909  0.01356915]\n",
      " [ 0.35315887  0.73439608  0.53990649  0.3162864   0.23731236]]\n"
     ]
    }
   ],
   "source": [
    "#Función para ejecutar modelo no supervisado\n",
    "\n",
    "def func_scaler(df):\n",
    "    X_in = df.drop([\"Fecha_Numerico\",\"Country Name\"],axis=1).values\n",
    "    #Escalar X\n",
    "    #Escalado de todos los features Min_Max scaler\n",
    "    # Import MinMaxScaler\n",
    "    from sklearn.preprocessing import MinMaxScaler\n",
    "    # Instantiate MinMaxScaler\n",
    "    MM_scaler = MinMaxScaler()\n",
    "    # Fit MM_scaler to the data\n",
    "    MM_scaler.fit(X_in)\n",
    "    #Escalado de todos los features Min_Max scaler\n",
    "    X = MM_scaler.transform(X_in)\n",
    "    return X\n",
    "\n",
    "def func_PCA(X_in):\n",
    "    from sklearn.decomposition import PCA\n",
    "    import matplotlib.pyplot as plt\n",
    "    model=PCA()\n",
    "    model.fit(X_in)\n",
    "    X_transformed = model.transform(X_in)\n",
    "    print(X_transformed)\n",
    "    print(model.components_)\n",
    "    features = range(model.n_components_)\n",
    "    print(features)\n",
    "    plt.bar(features, model.explained_variance_)\n",
    "    plt.xticks(features)\n",
    "    plt.ylabel('variance')\n",
    "    plt.xlabel('PCA feature')\n",
    "    plt.show()\n",
    "    return model, X_transformed\n",
    "\n",
    "X = func_scaler(dfm_ml)\n",
    "print(X)\n",
    "pca, X_new = func_PCA(X)\n",
    "print(X_new)\n"
   ]
  }
 ],
 "metadata": {
  "kernelspec": {
   "display_name": "Python 3",
   "language": "python",
   "name": "python3"
  },
  "language_info": {
   "codemirror_mode": {
    "name": "ipython",
    "version": 3
   },
   "file_extension": ".py",
   "mimetype": "text/x-python",
   "name": "python",
   "nbconvert_exporter": "python",
   "pygments_lexer": "ipython3",
   "version": "3.10.7"
  },
  "orig_nbformat": 4,
  "vscode": {
   "interpreter": {
    "hash": "e913b7897ac30ba1cf0615ffc95e0dcac655edcf15ece0252fa093eec079069f"
   }
  }
 },
 "nbformat": 4,
 "nbformat_minor": 2
}
