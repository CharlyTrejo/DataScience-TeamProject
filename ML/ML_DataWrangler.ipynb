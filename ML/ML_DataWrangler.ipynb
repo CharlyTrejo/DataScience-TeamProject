{
 "cells": [
  {
   "cell_type": "code",
   "execution_count": 987,
   "metadata": {},
   "outputs": [],
   "source": [
    "import pandas as pd\n",
    "import numpy as np"
   ]
  },
  {
   "cell_type": "code",
   "execution_count": 988,
   "metadata": {},
   "outputs": [],
   "source": [
    "fact_ind_economicos = pd.read_csv(r'C:\\Users\\music\\OneDrive\\Escritorio\\Data_Science\\TeamProject\\DataScience-TeamProject\\tablas\\fact_ind_economicos.csv')"
   ]
  },
  {
   "cell_type": "code",
   "execution_count": 989,
   "metadata": {},
   "outputs": [
    {
     "name": "stdout",
     "output_type": "stream",
     "text": [
      "<class 'pandas.core.frame.DataFrame'>\n",
      "RangeIndex: 6909 entries, 0 to 6908\n",
      "Data columns (total 11 columns):\n",
      " #   Column               Non-Null Count  Dtype  \n",
      "---  ------               --------------  -----  \n",
      " 0   pais_x               6909 non-null   object \n",
      " 1   codigo_pais          6909 non-null   object \n",
      " 2   anio                 6909 non-null   int64  \n",
      " 3   PIB                  6848 non-null   float64\n",
      " 4   salario_minimo       2939 non-null   float64\n",
      " 5   salario_promedio     1047 non-null   float64\n",
      " 6   ingresos_altos       339 non-null    float64\n",
      " 7   ingresos_bajos       611 non-null    float64\n",
      " 8   %empleo_agricultura  5394 non-null   float64\n",
      " 9   %empleo_industria    5394 non-null   float64\n",
      " 10  %empleo_servicio     5394 non-null   float64\n",
      "dtypes: float64(8), int64(1), object(2)\n",
      "memory usage: 593.9+ KB\n"
     ]
    }
   ],
   "source": [
    "fact_ind_economicos.info()"
   ]
  },
  {
   "cell_type": "code",
   "execution_count": 990,
   "metadata": {},
   "outputs": [],
   "source": [
    "dict_sp_aut = dict(zip(fact_ind_economicos[fact_ind_economicos['pais_x'] == 'Austria']['anio'], \n",
    "                       (fact_ind_economicos[fact_ind_economicos['pais_x'] == 'Austria']['salario_promedio']/70)))"
   ]
  },
  {
   "cell_type": "code",
   "execution_count": 991,
   "metadata": {},
   "outputs": [],
   "source": [
    "fact_ind_economicos.loc[(fact_ind_economicos['codigo_pais'] == 'AUT'),\n",
    "                        'salario_minimo'] = fact_ind_economicos.loc[(fact_ind_economicos['codigo_pais'] == 'AUT'),\n",
    "                                                                    'anio'].map(dict_sp_aut)"
   ]
  },
  {
   "cell_type": "code",
   "execution_count": 992,
   "metadata": {},
   "outputs": [],
   "source": [
    "dict_sp_che = dict(zip(fact_ind_economicos[fact_ind_economicos['pais_x'] == 'Suiza']['anio'], \n",
    "                       (fact_ind_economicos[fact_ind_economicos['pais_x'] == 'Suiza']['salario_promedio']/70)))"
   ]
  },
  {
   "cell_type": "code",
   "execution_count": 993,
   "metadata": {},
   "outputs": [],
   "source": [
    "fact_ind_economicos.loc[(fact_ind_economicos['codigo_pais'] == 'CHE'),\n",
    "                        'salario_minimo'] = fact_ind_economicos.loc[(fact_ind_economicos['codigo_pais'] == 'CHE'),\n",
    "                                                                    'anio'].map(dict_sp_che)"
   ]
  },
  {
   "cell_type": "code",
   "execution_count": 994,
   "metadata": {},
   "outputs": [],
   "source": [
    "dict_sp_dnk = dict(zip(fact_ind_economicos[fact_ind_economicos['pais_x'] == 'Dinamarca']['anio'], \n",
    "                       (fact_ind_economicos[fact_ind_economicos['pais_x'] == 'Dinamarca']['salario_promedio']/70)))"
   ]
  },
  {
   "cell_type": "code",
   "execution_count": 995,
   "metadata": {},
   "outputs": [],
   "source": [
    "fact_ind_economicos.loc[(fact_ind_economicos['codigo_pais'] == 'DNK'),\n",
    "                        'salario_minimo'] = fact_ind_economicos.loc[(fact_ind_economicos['codigo_pais'] == 'DNK'),\n",
    "                                                                    'anio'].map(dict_sp_dnk)"
   ]
  },
  {
   "cell_type": "code",
   "execution_count": 996,
   "metadata": {},
   "outputs": [],
   "source": [
    "dict_sp_fin = dict(zip(fact_ind_economicos[fact_ind_economicos['pais_x'] == 'Finlandia']['anio'], \n",
    "                       (fact_ind_economicos[fact_ind_economicos['pais_x'] == 'Finlandia']['salario_promedio']/70)))"
   ]
  },
  {
   "cell_type": "code",
   "execution_count": 997,
   "metadata": {},
   "outputs": [],
   "source": [
    "fact_ind_economicos.loc[(fact_ind_economicos['codigo_pais'] == 'FIN'),\n",
    "                        'salario_minimo'] = fact_ind_economicos.loc[(fact_ind_economicos['codigo_pais'] == 'FIN'),\n",
    "                                                                    'anio'].map(dict_sp_fin)"
   ]
  },
  {
   "cell_type": "code",
   "execution_count": 998,
   "metadata": {},
   "outputs": [],
   "source": [
    "dict_sp_isl = dict(zip(fact_ind_economicos[fact_ind_economicos['pais_x'] == 'Islandia']['anio'], \n",
    "                       (fact_ind_economicos[fact_ind_economicos['pais_x'] == 'Islandia']['salario_promedio']/70)))"
   ]
  },
  {
   "cell_type": "code",
   "execution_count": 999,
   "metadata": {},
   "outputs": [],
   "source": [
    "fact_ind_economicos.loc[(fact_ind_economicos['codigo_pais'] == 'ISL'),\n",
    "                        'salario_minimo'] = fact_ind_economicos.loc[(fact_ind_economicos['codigo_pais'] == 'ISL'),\n",
    "                                                                    'anio'].map(dict_sp_isl)"
   ]
  },
  {
   "cell_type": "code",
   "execution_count": 1000,
   "metadata": {},
   "outputs": [],
   "source": [
    "dict_sp_ita = dict(zip(fact_ind_economicos[fact_ind_economicos['pais_x'] == 'Italia']['anio'], \n",
    "                       (fact_ind_economicos[fact_ind_economicos['pais_x'] == 'Italia']['salario_promedio']/70)))"
   ]
  },
  {
   "cell_type": "code",
   "execution_count": 1001,
   "metadata": {},
   "outputs": [],
   "source": [
    "fact_ind_economicos.loc[(fact_ind_economicos['codigo_pais'] == 'ITA'),\n",
    "                        'salario_minimo'] = fact_ind_economicos.loc[(fact_ind_economicos['codigo_pais'] == 'ITA'),\n",
    "                                                                    'anio'].map(dict_sp_ita)"
   ]
  },
  {
   "cell_type": "code",
   "execution_count": 1002,
   "metadata": {},
   "outputs": [],
   "source": [
    "dict_sp_swe = dict(zip(fact_ind_economicos[fact_ind_economicos['pais_x'] == 'Suecia']['anio'], \n",
    "                       (fact_ind_economicos[fact_ind_economicos['pais_x'] == 'Suecia']['salario_promedio']/70)))"
   ]
  },
  {
   "cell_type": "code",
   "execution_count": 1003,
   "metadata": {},
   "outputs": [],
   "source": [
    "fact_ind_economicos.loc[(fact_ind_economicos['codigo_pais'] == 'SWE'),\n",
    "                        'salario_minimo'] = fact_ind_economicos.loc[(fact_ind_economicos['codigo_pais'] == 'SWE'),\n",
    "                                                                    'anio'].map(dict_sp_swe)"
   ]
  },
  {
   "cell_type": "code",
   "execution_count": 1004,
   "metadata": {},
   "outputs": [],
   "source": [
    "dict_sp_mex = dict(zip(fact_ind_economicos[fact_ind_economicos['pais_x'] == 'México']['anio'], \n",
    "                       (fact_ind_economicos[fact_ind_economicos['pais_x'] == 'México']['salario_promedio']/70)))"
   ]
  },
  {
   "cell_type": "code",
   "execution_count": 1005,
   "metadata": {},
   "outputs": [],
   "source": [
    "fact_ind_economicos.loc[(fact_ind_economicos['codigo_pais'] == 'MEX'),\n",
    "                        'salario_minimo'] = fact_ind_economicos.loc[(fact_ind_economicos['codigo_pais'] == 'MEX'),\n",
    "                                                                    'anio'].map(dict_sp_mex)"
   ]
  },
  {
   "cell_type": "code",
   "execution_count": 1006,
   "metadata": {},
   "outputs": [],
   "source": [
    "dict_sm_chl = {2003:150.34, 2004:156.00, 2005:165.75, 2006:175.50, 2007:187.20, 2008:206.70, 2009:214.50, 2010:223.60, \n",
    "               2011:236.60, 2012:250.90, 2013:273.00, 2014:293.15, 2015:313.30, 2016:334.75, 2017:351.00, 2018:374.40}"
   ]
  },
  {
   "cell_type": "code",
   "execution_count": 1007,
   "metadata": {},
   "outputs": [],
   "source": [
    "fact_ind_economicos.loc[(fact_ind_economicos['codigo_pais'] == 'CHL'),\n",
    "                        'salario_minimo'] = fact_ind_economicos.loc[(fact_ind_economicos['codigo_pais'] == 'CHL'),\n",
    "                                                                    'anio'].map(dict_sm_chl)"
   ]
  },
  {
   "cell_type": "code",
   "execution_count": 1008,
   "metadata": {},
   "outputs": [],
   "source": [
    "dict_sm_hnd = {2014:317.59871, 2015:317.59871, 2016:347.919235, 2017:378.23976, 2018:399.04316, 2019:424.58165}"
   ]
  },
  {
   "cell_type": "code",
   "execution_count": 1009,
   "metadata": {},
   "outputs": [],
   "source": [
    "fact_ind_economicos.loc[(fact_ind_economicos['codigo_pais'] == 'HND'),\n",
    "                        'salario_minimo'] = fact_ind_economicos.loc[(fact_ind_economicos['codigo_pais'] == 'HND'),\n",
    "                                                                    'anio'].map(dict_sm_hnd)"
   ]
  },
  {
   "cell_type": "code",
   "execution_count": 1010,
   "metadata": {},
   "outputs": [],
   "source": [
    "dict_sm_nic = {2013:94.07691, 2014:98.90775, 2015:109.69533, 2016:126.36648, 2017:131.57883, 2018:144.13059, 2019:151.62525}"
   ]
  },
  {
   "cell_type": "code",
   "execution_count": 1011,
   "metadata": {},
   "outputs": [],
   "source": [
    "fact_ind_economicos.loc[(fact_ind_economicos['codigo_pais'] == 'NIC'),\n",
    "                        'salario_minimo'] = fact_ind_economicos.loc[(fact_ind_economicos['codigo_pais'] == 'NIC'),\n",
    "                                                                    'anio'].map(dict_sm_nic)"
   ]
  },
  {
   "cell_type": "code",
   "execution_count": 1012,
   "metadata": {},
   "outputs": [],
   "source": [
    "dict_sm_pry = {2014:232.15248, 2015:255.3677, 2016:275.03098, 2017:285.75722, 2018:295.75868, 2019:295.75868}"
   ]
  },
  {
   "cell_type": "code",
   "execution_count": 1013,
   "metadata": {},
   "outputs": [],
   "source": [
    "fact_ind_economicos.loc[(fact_ind_economicos['codigo_pais'] == 'PRY'),\n",
    "                        'salario_minimo'] = fact_ind_economicos.loc[(fact_ind_economicos['codigo_pais'] == 'PRY'),\n",
    "                                                                   'anio'].map(dict_sm_pry)"
   ]
  },
  {
   "cell_type": "code",
   "execution_count": 1014,
   "metadata": {},
   "outputs": [],
   "source": [
    "fact_ind_economicos.loc[(fact_ind_economicos['codigo_pais'] == 'NOR'),\n",
    "                        'salario_minimo'] = fact_ind_economicos.loc[(fact_ind_economicos['codigo_pais'] == 'NOR'),\n",
    "                                                                    'anio'].map(dict_sp_swe)"
   ]
  },
  {
   "cell_type": "code",
   "execution_count": 1015,
   "metadata": {},
   "outputs": [],
   "source": [
    "dict_sm_per = dict(zip(fact_ind_economicos[fact_ind_economicos['pais_x'] == 'Perú']['anio'], fact_ind_economicos[fact_ind_economicos['pais_x'] == 'Perú']['salario_minimo']))"
   ]
  },
  {
   "cell_type": "code",
   "execution_count": 1016,
   "metadata": {},
   "outputs": [],
   "source": [
    "fact_ind_economicos.loc[(fact_ind_economicos['codigo_pais'] == 'ECU'),\n",
    "                        'salario_minimo'] = fact_ind_economicos.loc[(fact_ind_economicos['codigo_pais'] == 'ECU'),\n",
    "                                                                    'anio'].map(dict_sm_per)"
   ]
  },
  {
   "cell_type": "code",
   "execution_count": 1017,
   "metadata": {},
   "outputs": [],
   "source": [
    "dict_sm_zmb = dict(zip(fact_ind_economicos[fact_ind_economicos['pais_x'] == 'Zambia']['anio'], \n",
    "                       fact_ind_economicos[fact_ind_economicos['pais_x'] == 'Zambia']['salario_minimo']))"
   ]
  },
  {
   "cell_type": "code",
   "execution_count": 1018,
   "metadata": {},
   "outputs": [],
   "source": [
    "fact_ind_economicos.loc[(fact_ind_economicos['codigo_pais'] == 'ZWE'),\n",
    "                        'salario_minimo'] = fact_ind_economicos.loc[(fact_ind_economicos['codigo_pais'] == 'ZWE'),\n",
    "                                                                    'anio'].map(dict_sm_zmb)"
   ]
  },
  {
   "cell_type": "code",
   "execution_count": 1019,
   "metadata": {},
   "outputs": [],
   "source": [
    "fact_ind_economicos.loc[(fact_ind_economicos['pais_x'] == 'Emiratos Árabes Unidos'),'salario_minimo'] = 108.9\n",
    "fact_ind_economicos.loc[(fact_ind_economicos['pais_x'] == 'República Dominicana'),'salario_minimo'] = 343.92\n",
    "fact_ind_economicos.loc[(fact_ind_economicos['pais_x'] == 'Liberia'),'salario_minimo'] = 165\n",
    "fact_ind_economicos.loc[(fact_ind_economicos['pais_x'] == 'Namibia'),'salario_minimo'] = 105.06\n",
    "fact_ind_economicos.loc[(fact_ind_economicos['pais_x'] == 'Panamá'),'salario_minimo'] = 576\n",
    "fact_ind_economicos.loc[(fact_ind_economicos['pais_x'] == 'Puerto Rico'),'salario_minimo'] = 880\n",
    "fact_ind_economicos.loc[(fact_ind_economicos['pais_x'] == 'El Salvador'),'salario_minimo'] = 365\n",
    "fact_ind_economicos.loc[(fact_ind_economicos['pais_x'] == 'Turkmenistán'),'salario_minimo'] = 331.09\n",
    "fact_ind_economicos.loc[(fact_ind_economicos['pais_x'] == 'Uruguay'),'salario_minimo'] = 537.07\n",
    "fact_ind_economicos.loc[(fact_ind_economicos['pais_x'] == 'Venezuela'),'salario_minimo'] = 746\n",
    "fact_ind_economicos.loc[(fact_ind_economicos['pais_x'] == 'Yemen, Rep. del'),'salario_minimo'] = 83.88"
   ]
  },
  {
   "cell_type": "code",
   "execution_count": 1020,
   "metadata": {},
   "outputs": [],
   "source": [
    "fact_ind_economicos.drop(['ingresos_altos', 'ingresos_bajos','salario_promedio'], axis=1, inplace=True)"
   ]
  },
  {
   "cell_type": "code",
   "execution_count": 1021,
   "metadata": {},
   "outputs": [],
   "source": [
    "fact_ind_economicos = fact_ind_economicos[(fact_ind_economicos['anio'] <= 2019) & (fact_ind_economicos['anio'] > 1990)]"
   ]
  },
  {
   "cell_type": "code",
   "execution_count": 1022,
   "metadata": {},
   "outputs": [],
   "source": [
    "remover = ['ABW', 'AND', 'ASM', 'ATG', 'BMU', 'BRB', 'CHI', 'CUW', 'CYM', 'DJI', 'DMA', 'FSM', 'GIB', 'GRD', 'GRL', 'KIR', 'KNA', 'LIE', 'MAF', 'MCO', \n",
    "           'MDA', 'MHL', 'MNP', 'NCL', 'NRU', 'PLW', 'PRK', 'SMR', 'SOM', 'SSD', 'STP', 'SXM', 'SYC', 'TCA', 'TLS', 'TUV', 'VGB', 'XKX', 'OWID_KOS', \n",
    "           'OWID_SML', 'OWID_ZAN', 'TWN', 'FRO', 'IMN', 'VIR','PYF','MAC','BRN','GUM','TON','LCA','PSE','WSM','VCT', 'BHS', 'ERI', 'QAT', 'SGP', 'CUB',\n",
    "           'BHR', 'KWT', 'OMN','PRI']"
   ]
  },
  {
   "cell_type": "code",
   "execution_count": 1023,
   "metadata": {},
   "outputs": [],
   "source": [
    "indices = fact_ind_economicos[fact_ind_economicos['codigo_pais'].isin(remover)].index\n",
    "fact_ind_economicos.drop(indices, inplace=True)"
   ]
  },
  {
   "cell_type": "code",
   "execution_count": 1024,
   "metadata": {},
   "outputs": [],
   "source": [
    "fact_ind_economicos['PIB'].replace(to_replace=0, value=np.nan, inplace=True)"
   ]
  },
  {
   "cell_type": "code",
   "execution_count": 1025,
   "metadata": {},
   "outputs": [],
   "source": [
    "fact_ind_economicos['PIB'] = fact_ind_economicos.groupby('codigo_pais')['PIB'].fillna(method='bfill')\n",
    "fact_ind_economicos['PIB'] = fact_ind_economicos.groupby('codigo_pais')['PIB'].fillna(method='ffill')"
   ]
  },
  {
   "cell_type": "code",
   "execution_count": 1026,
   "metadata": {},
   "outputs": [],
   "source": [
    "fact_ind_economicos['salario_minimo'] = fact_ind_economicos.groupby('codigo_pais')['salario_minimo'].fillna(method='bfill')\n",
    "fact_ind_economicos['salario_minimo'] = fact_ind_economicos.groupby('codigo_pais')['salario_minimo'].fillna(method='ffill')"
   ]
  },
  {
   "cell_type": "code",
   "execution_count": 1027,
   "metadata": {},
   "outputs": [
    {
     "name": "stdout",
     "output_type": "stream",
     "text": [
      "<class 'pandas.core.frame.DataFrame'>\n",
      "Int64Index: 4582 entries, 33 to 6906\n",
      "Data columns (total 8 columns):\n",
      " #   Column               Non-Null Count  Dtype  \n",
      "---  ------               --------------  -----  \n",
      " 0   pais_x               4582 non-null   object \n",
      " 1   codigo_pais          4582 non-null   object \n",
      " 2   anio                 4582 non-null   int64  \n",
      " 3   PIB                  4582 non-null   float64\n",
      " 4   salario_minimo       4582 non-null   float64\n",
      " 5   %empleo_agricultura  4582 non-null   float64\n",
      " 6   %empleo_industria    4582 non-null   float64\n",
      " 7   %empleo_servicio     4582 non-null   float64\n",
      "dtypes: float64(5), int64(1), object(2)\n",
      "memory usage: 322.2+ KB\n"
     ]
    }
   ],
   "source": [
    "fact_ind_economicos.info()"
   ]
  },
  {
   "cell_type": "code",
   "execution_count": 1028,
   "metadata": {},
   "outputs": [],
   "source": [
    "fact_ind_sociopolitico = pd.read_csv(r'C:\\Users\\music\\OneDrive\\Escritorio\\Data_Science\\TeamProject\\DataScience-TeamProject\\tablas\\fact_ind_sociopolitico.csv')"
   ]
  },
  {
   "cell_type": "code",
   "execution_count": 1029,
   "metadata": {},
   "outputs": [
    {
     "name": "stdout",
     "output_type": "stream",
     "text": [
      "<class 'pandas.core.frame.DataFrame'>\n",
      "RangeIndex: 5659 entries, 0 to 5658\n",
      "Data columns (total 8 columns):\n",
      " #   Column                 Non-Null Count  Dtype  \n",
      "---  ------                 --------------  -----  \n",
      " 0   codigo_pais            5659 non-null   object \n",
      " 1   pais_x                 5659 non-null   object \n",
      " 2   anio                   5659 non-null   int64  \n",
      " 3   derechos_laborales     715 non-null    float64\n",
      " 4   derechos_humanos       5646 non-null   float64\n",
      " 5   Gini coefficient       1850 non-null   float64\n",
      " 6   wage_gap_employee      672 non-null    float64\n",
      " 7   wage_gap_selfemployed  444 non-null    float64\n",
      "dtypes: float64(5), int64(1), object(2)\n",
      "memory usage: 353.8+ KB\n"
     ]
    }
   ],
   "source": [
    "fact_ind_sociopolitico.info()"
   ]
  },
  {
   "cell_type": "code",
   "execution_count": 1030,
   "metadata": {},
   "outputs": [],
   "source": [
    "fact_ind_sociopolitico = fact_ind_sociopolitico[(fact_ind_sociopolitico['anio'] <= 2019) & (fact_ind_sociopolitico['anio'] > 1990)]"
   ]
  },
  {
   "cell_type": "code",
   "execution_count": 1031,
   "metadata": {},
   "outputs": [],
   "source": [
    "indices2 = fact_ind_sociopolitico[fact_ind_sociopolitico['codigo_pais'].isin(remover)].index\n",
    "fact_ind_sociopolitico.drop(indices2, inplace=True)"
   ]
  },
  {
   "cell_type": "code",
   "execution_count": 1032,
   "metadata": {},
   "outputs": [],
   "source": [
    "fact_ind_sociopolitico.drop(['wage_gap_employee', 'wage_gap_selfemployed', 'derechos_laborales'], axis=1, inplace=True)"
   ]
  },
  {
   "cell_type": "code",
   "execution_count": 1033,
   "metadata": {},
   "outputs": [],
   "source": [
    "fact_ind_sociopolitico['Gini coefficient'] = fact_ind_sociopolitico.groupby('codigo_pais')['Gini coefficient'].fillna(method='bfill')\n",
    "fact_ind_sociopolitico['Gini coefficient'] = fact_ind_sociopolitico.groupby('codigo_pais')['Gini coefficient'].fillna(method='ffill')"
   ]
  },
  {
   "cell_type": "code",
   "execution_count": 1034,
   "metadata": {},
   "outputs": [],
   "source": [
    "dict_dh = dict(zip(fact_ind_sociopolitico[fact_ind_sociopolitico['pais_x'] == 'Guatemala']['anio'], \n",
    "                   fact_ind_sociopolitico[fact_ind_sociopolitico['pais_x'] == 'Guatemala']['derechos_humanos']))"
   ]
  },
  {
   "cell_type": "code",
   "execution_count": 1035,
   "metadata": {},
   "outputs": [],
   "source": [
    "fact_ind_sociopolitico.loc[(fact_ind_sociopolitico['codigo_pais'] == 'BLZ'),\n",
    "                           'derechos_humanos'] = fact_ind_sociopolitico.loc[(fact_ind_sociopolitico['codigo_pais'] == 'BLZ'),'anio'].map(dict_dh)"
   ]
  },
  {
   "cell_type": "code",
   "execution_count": 1036,
   "metadata": {},
   "outputs": [],
   "source": [
    "fact_ind_sociopolitico.loc[(fact_ind_sociopolitico['pais_x'] == 'Afghanistan'), 'Gini coefficient'] = 0.72\n",
    "fact_ind_sociopolitico.loc[(fact_ind_sociopolitico['pais_x'] == 'Hong Kong'), 'Gini coefficient'] = 0.46\n",
    "fact_ind_sociopolitico.loc[(fact_ind_sociopolitico['pais_x'] == 'Camboya'), 'Gini coefficient'] = 0.69\n",
    "fact_ind_sociopolitico.loc[(fact_ind_sociopolitico['pais_x'] == 'Libia'), 'Gini coefficient'] = 0.69\n",
    "fact_ind_sociopolitico.loc[(fact_ind_sociopolitico['pais_x'] == 'New Zealand'), 'Gini coefficient'] = 0.67\n",
    "fact_ind_sociopolitico.loc[(fact_ind_sociopolitico['pais_x'] == 'Qatar'), 'Gini coefficient'] = 0.59\n",
    "fact_ind_sociopolitico.loc[(fact_ind_sociopolitico['pais_x'] == 'Saudi Arabia'), 'Gini coefficient'] = 0.54"
   ]
  },
  {
   "cell_type": "code",
   "execution_count": 1037,
   "metadata": {},
   "outputs": [],
   "source": [
    "dict_gini_cmr = dict(zip(fact_ind_sociopolitico[fact_ind_sociopolitico['pais_x'] == 'Cameroon']['anio'], \n",
    "                   fact_ind_sociopolitico[fact_ind_sociopolitico['pais_x'] == 'Cameroon']['Gini coefficient']))"
   ]
  },
  {
   "cell_type": "code",
   "execution_count": 1038,
   "metadata": {},
   "outputs": [],
   "source": [
    "fact_ind_sociopolitico.loc[(fact_ind_sociopolitico['codigo_pais'] == 'GNQ'),\n",
    "                           'Gini coefficient'] = fact_ind_sociopolitico.loc[(fact_ind_sociopolitico['codigo_pais'] == 'GNQ'),'anio'].map(dict_gini_cmr)"
   ]
  },
  {
   "cell_type": "code",
   "execution_count": 1039,
   "metadata": {},
   "outputs": [],
   "source": [
    "fact_ind_sociopolitico.drop(['pais_x'], axis=1, inplace=True)"
   ]
  },
  {
   "cell_type": "code",
   "execution_count": 1040,
   "metadata": {},
   "outputs": [],
   "source": [
    "fact_migracion_neta = pd.read_csv(r'C:\\Users\\music\\OneDrive\\Escritorio\\Data_Science\\TeamProject\\DataScience-TeamProject\\tablas\\fact_migracion_neta.csv')"
   ]
  },
  {
   "cell_type": "code",
   "execution_count": 1041,
   "metadata": {},
   "outputs": [],
   "source": [
    "fact_migracion_neta = fact_migracion_neta[(fact_migracion_neta['anio'] <= 2019) & (fact_migracion_neta['anio'] > 1990)]"
   ]
  },
  {
   "cell_type": "code",
   "execution_count": 1042,
   "metadata": {},
   "outputs": [],
   "source": [
    "indices3 = fact_migracion_neta[fact_migracion_neta['codigo_pais'].isin(remover)].index\n",
    "fact_migracion_neta.drop(indices3, inplace=True)"
   ]
  },
  {
   "cell_type": "code",
   "execution_count": 1043,
   "metadata": {},
   "outputs": [],
   "source": [
    "fact_migracion_neta.drop(['pais'], axis=1, inplace=True)"
   ]
  },
  {
   "cell_type": "code",
   "execution_count": 1044,
   "metadata": {},
   "outputs": [],
   "source": [
    "merge1 = pd.merge(fact_ind_economicos,fact_ind_sociopolitico, on=['codigo_pais','anio'], how='outer')"
   ]
  },
  {
   "cell_type": "code",
   "execution_count": 1045,
   "metadata": {},
   "outputs": [],
   "source": [
    "merge2 = pd.merge(merge1, fact_migracion_neta, on=['codigo_pais','anio'], how='outer')"
   ]
  },
  {
   "cell_type": "code",
   "execution_count": 1046,
   "metadata": {},
   "outputs": [],
   "source": [
    "merge2['derechos_humanos'] = merge2.groupby('codigo_pais')['derechos_humanos'].fillna(method='bfill')\n",
    "merge2['derechos_humanos'] = merge2.groupby('codigo_pais')['derechos_humanos'].fillna(method='ffill')"
   ]
  },
  {
   "cell_type": "code",
   "execution_count": 1047,
   "metadata": {},
   "outputs": [],
   "source": [
    "merge2['Gini coefficient'] = merge2.groupby('codigo_pais')['Gini coefficient'].fillna(method='bfill')\n",
    "merge2['Gini coefficient'] = merge2.groupby('codigo_pais')['Gini coefficient'].fillna(method='ffill')"
   ]
  },
  {
   "cell_type": "code",
   "execution_count": 1048,
   "metadata": {},
   "outputs": [
    {
     "name": "stdout",
     "output_type": "stream",
     "text": [
      "<class 'pandas.core.frame.DataFrame'>\n",
      "Int64Index: 4582 entries, 0 to 4581\n",
      "Data columns (total 11 columns):\n",
      " #   Column               Non-Null Count  Dtype  \n",
      "---  ------               --------------  -----  \n",
      " 0   pais_x               4582 non-null   object \n",
      " 1   codigo_pais          4582 non-null   object \n",
      " 2   anio                 4582 non-null   int64  \n",
      " 3   PIB                  4582 non-null   float64\n",
      " 4   salario_minimo       4582 non-null   float64\n",
      " 5   %empleo_agricultura  4582 non-null   float64\n",
      " 6   %empleo_industria    4582 non-null   float64\n",
      " 7   %empleo_servicio     4582 non-null   float64\n",
      " 8   derechos_humanos     4582 non-null   float64\n",
      " 9   Gini coefficient     4582 non-null   float64\n",
      " 10  migracion_neta       4582 non-null   float64\n",
      "dtypes: float64(8), int64(1), object(2)\n",
      "memory usage: 429.6+ KB\n"
     ]
    }
   ],
   "source": [
    "merge2.info()"
   ]
  },
  {
   "cell_type": "code",
   "execution_count": 1049,
   "metadata": {},
   "outputs": [],
   "source": [
    "#merge2.to_csv('df_ml.csv', index=False)"
   ]
  }
 ],
 "metadata": {
  "kernelspec": {
   "display_name": "Python 3",
   "language": "python",
   "name": "python3"
  },
  "language_info": {
   "codemirror_mode": {
    "name": "ipython",
    "version": 3
   },
   "file_extension": ".py",
   "mimetype": "text/x-python",
   "name": "python",
   "nbconvert_exporter": "python",
   "pygments_lexer": "ipython3",
   "version": "3.11.1"
  },
  "orig_nbformat": 4,
  "vscode": {
   "interpreter": {
    "hash": "2ed8b01cc943fc452f3875585953f694a0a4e4a007a9ce4019ec5b05c1f98e94"
   }
  }
 },
 "nbformat": 4,
 "nbformat_minor": 2
}
