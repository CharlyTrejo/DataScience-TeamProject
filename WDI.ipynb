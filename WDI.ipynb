{
 "cells": [
  {
   "cell_type": "code",
   "execution_count": 1,
   "metadata": {},
   "outputs": [],
   "source": [
    "import pandas as pd\n",
    "import numpy as np\n",
    "import matplotlib.pyplot as plt\n",
    "import seaborn as sns\n",
    "sns.set()"
   ]
  },
  {
   "attachments": {},
   "cell_type": "markdown",
   "metadata": {},
   "source": [
    "Cargamos dataset de \"World Development Indicators\""
   ]
  },
  {
   "cell_type": "code",
   "execution_count": 4,
   "metadata": {},
   "outputs": [],
   "source": [
    "df = pd.read_csv(\"dataset/world development indicators/WDIData.csv\", usecols=[\"Country Name\", \"Country Code\", \"Indicator Name\", \"Indicator Code\", \"2000\", \"2001\", \"2002\", \"2003\", \"2004\", \"2005\", \"2006\", \"2007\", \"2008\", \"2009\", \"2010\", \"2011\", \"2012\", \"2013\", \"2014\", \"2015\", \"2016\", \"2017\", \"2018\", \"2019\", \"2020\"])"
   ]
  },
  {
   "cell_type": "code",
   "execution_count": 5,
   "metadata": {},
   "outputs": [
    {
     "data": {
      "text/html": [
       "<div>\n",
       "<style scoped>\n",
       "    .dataframe tbody tr th:only-of-type {\n",
       "        vertical-align: middle;\n",
       "    }\n",
       "\n",
       "    .dataframe tbody tr th {\n",
       "        vertical-align: top;\n",
       "    }\n",
       "\n",
       "    .dataframe thead th {\n",
       "        text-align: right;\n",
       "    }\n",
       "</style>\n",
       "<table border=\"1\" class=\"dataframe\">\n",
       "  <thead>\n",
       "    <tr style=\"text-align: right;\">\n",
       "      <th></th>\n",
       "      <th>Country Name</th>\n",
       "      <th>Country Code</th>\n",
       "      <th>Indicator Name</th>\n",
       "      <th>Indicator Code</th>\n",
       "      <th>2000</th>\n",
       "      <th>2001</th>\n",
       "      <th>2002</th>\n",
       "      <th>2003</th>\n",
       "      <th>2004</th>\n",
       "      <th>2005</th>\n",
       "      <th>...</th>\n",
       "      <th>2011</th>\n",
       "      <th>2012</th>\n",
       "      <th>2013</th>\n",
       "      <th>2014</th>\n",
       "      <th>2015</th>\n",
       "      <th>2016</th>\n",
       "      <th>2017</th>\n",
       "      <th>2018</th>\n",
       "      <th>2019</th>\n",
       "      <th>2020</th>\n",
       "    </tr>\n",
       "  </thead>\n",
       "  <tbody>\n",
       "    <tr>\n",
       "      <th>0</th>\n",
       "      <td>Africa Eastern and Southern</td>\n",
       "      <td>AFE</td>\n",
       "      <td>Access to clean fuels and technologies for coo...</td>\n",
       "      <td>EG.CFT.ACCS.ZS</td>\n",
       "      <td>11.569626</td>\n",
       "      <td>11.915139</td>\n",
       "      <td>12.256994</td>\n",
       "      <td>12.603469</td>\n",
       "      <td>12.966106</td>\n",
       "      <td>13.374963</td>\n",
       "      <td>...</td>\n",
       "      <td>16.027165</td>\n",
       "      <td>16.433999</td>\n",
       "      <td>16.789043</td>\n",
       "      <td>17.196986</td>\n",
       "      <td>17.597176</td>\n",
       "      <td>18.034249</td>\n",
       "      <td>18.345878</td>\n",
       "      <td>18.695306</td>\n",
       "      <td>19.149942</td>\n",
       "      <td>19.501837</td>\n",
       "    </tr>\n",
       "    <tr>\n",
       "      <th>1</th>\n",
       "      <td>Africa Eastern and Southern</td>\n",
       "      <td>AFE</td>\n",
       "      <td>Access to clean fuels and technologies for coo...</td>\n",
       "      <td>EG.CFT.ACCS.RU.ZS</td>\n",
       "      <td>3.545501</td>\n",
       "      <td>3.730781</td>\n",
       "      <td>3.877017</td>\n",
       "      <td>4.093474</td>\n",
       "      <td>4.324172</td>\n",
       "      <td>4.536031</td>\n",
       "      <td>...</td>\n",
       "      <td>5.991364</td>\n",
       "      <td>6.196543</td>\n",
       "      <td>6.397917</td>\n",
       "      <td>6.580066</td>\n",
       "      <td>6.786218</td>\n",
       "      <td>6.941323</td>\n",
       "      <td>7.096843</td>\n",
       "      <td>7.254828</td>\n",
       "      <td>7.460783</td>\n",
       "      <td>7.599289</td>\n",
       "    </tr>\n",
       "    <tr>\n",
       "      <th>2</th>\n",
       "      <td>Africa Eastern and Southern</td>\n",
       "      <td>AFE</td>\n",
       "      <td>Access to clean fuels and technologies for coo...</td>\n",
       "      <td>EG.CFT.ACCS.UR.ZS</td>\n",
       "      <td>32.566135</td>\n",
       "      <td>32.876863</td>\n",
       "      <td>33.279040</td>\n",
       "      <td>33.779835</td>\n",
       "      <td>34.264898</td>\n",
       "      <td>34.743929</td>\n",
       "      <td>...</td>\n",
       "      <td>37.183958</td>\n",
       "      <td>37.434876</td>\n",
       "      <td>37.660864</td>\n",
       "      <td>37.857526</td>\n",
       "      <td>38.204173</td>\n",
       "      <td>38.303515</td>\n",
       "      <td>38.421813</td>\n",
       "      <td>38.482409</td>\n",
       "      <td>38.692053</td>\n",
       "      <td>38.793983</td>\n",
       "    </tr>\n",
       "    <tr>\n",
       "      <th>3</th>\n",
       "      <td>Africa Eastern and Southern</td>\n",
       "      <td>AFE</td>\n",
       "      <td>Access to electricity (% of population)</td>\n",
       "      <td>EG.ELC.ACCS.ZS</td>\n",
       "      <td>19.957930</td>\n",
       "      <td>19.986220</td>\n",
       "      <td>21.601503</td>\n",
       "      <td>22.548307</td>\n",
       "      <td>23.815880</td>\n",
       "      <td>23.481156</td>\n",
       "      <td>...</td>\n",
       "      <td>28.948628</td>\n",
       "      <td>31.682318</td>\n",
       "      <td>31.610692</td>\n",
       "      <td>31.824950</td>\n",
       "      <td>33.744405</td>\n",
       "      <td>38.733352</td>\n",
       "      <td>40.092163</td>\n",
       "      <td>42.880977</td>\n",
       "      <td>44.073912</td>\n",
       "      <td>45.609604</td>\n",
       "    </tr>\n",
       "    <tr>\n",
       "      <th>4</th>\n",
       "      <td>Africa Eastern and Southern</td>\n",
       "      <td>AFE</td>\n",
       "      <td>Access to electricity, rural (% of rural popul...</td>\n",
       "      <td>EG.ELC.ACCS.RU.ZS</td>\n",
       "      <td>8.623110</td>\n",
       "      <td>NaN</td>\n",
       "      <td>NaN</td>\n",
       "      <td>9.773262</td>\n",
       "      <td>10.961530</td>\n",
       "      <td>10.398347</td>\n",
       "      <td>...</td>\n",
       "      <td>16.139425</td>\n",
       "      <td>19.307850</td>\n",
       "      <td>18.535523</td>\n",
       "      <td>17.485006</td>\n",
       "      <td>16.329765</td>\n",
       "      <td>24.372504</td>\n",
       "      <td>25.153292</td>\n",
       "      <td>27.227391</td>\n",
       "      <td>29.383000</td>\n",
       "      <td>30.163364</td>\n",
       "    </tr>\n",
       "  </tbody>\n",
       "</table>\n",
       "<p>5 rows × 25 columns</p>\n",
       "</div>"
      ],
      "text/plain": [
       "                  Country Name Country Code  \\\n",
       "0  Africa Eastern and Southern          AFE   \n",
       "1  Africa Eastern and Southern          AFE   \n",
       "2  Africa Eastern and Southern          AFE   \n",
       "3  Africa Eastern and Southern          AFE   \n",
       "4  Africa Eastern and Southern          AFE   \n",
       "\n",
       "                                      Indicator Name     Indicator Code  \\\n",
       "0  Access to clean fuels and technologies for coo...     EG.CFT.ACCS.ZS   \n",
       "1  Access to clean fuels and technologies for coo...  EG.CFT.ACCS.RU.ZS   \n",
       "2  Access to clean fuels and technologies for coo...  EG.CFT.ACCS.UR.ZS   \n",
       "3            Access to electricity (% of population)     EG.ELC.ACCS.ZS   \n",
       "4  Access to electricity, rural (% of rural popul...  EG.ELC.ACCS.RU.ZS   \n",
       "\n",
       "        2000       2001       2002       2003       2004       2005  ...  \\\n",
       "0  11.569626  11.915139  12.256994  12.603469  12.966106  13.374963  ...   \n",
       "1   3.545501   3.730781   3.877017   4.093474   4.324172   4.536031  ...   \n",
       "2  32.566135  32.876863  33.279040  33.779835  34.264898  34.743929  ...   \n",
       "3  19.957930  19.986220  21.601503  22.548307  23.815880  23.481156  ...   \n",
       "4   8.623110        NaN        NaN   9.773262  10.961530  10.398347  ...   \n",
       "\n",
       "        2011       2012       2013       2014       2015       2016  \\\n",
       "0  16.027165  16.433999  16.789043  17.196986  17.597176  18.034249   \n",
       "1   5.991364   6.196543   6.397917   6.580066   6.786218   6.941323   \n",
       "2  37.183958  37.434876  37.660864  37.857526  38.204173  38.303515   \n",
       "3  28.948628  31.682318  31.610692  31.824950  33.744405  38.733352   \n",
       "4  16.139425  19.307850  18.535523  17.485006  16.329765  24.372504   \n",
       "\n",
       "        2017       2018       2019       2020  \n",
       "0  18.345878  18.695306  19.149942  19.501837  \n",
       "1   7.096843   7.254828   7.460783   7.599289  \n",
       "2  38.421813  38.482409  38.692053  38.793983  \n",
       "3  40.092163  42.880977  44.073912  45.609604  \n",
       "4  25.153292  27.227391  29.383000  30.163364  \n",
       "\n",
       "[5 rows x 25 columns]"
      ]
     },
     "execution_count": 5,
     "metadata": {},
     "output_type": "execute_result"
    }
   ],
   "source": [
    "df.head()"
   ]
  },
  {
   "cell_type": "code",
   "execution_count": 6,
   "metadata": {},
   "outputs": [
    {
     "data": {
      "text/plain": [
       "(383572, 25)"
      ]
     },
     "execution_count": 6,
     "metadata": {},
     "output_type": "execute_result"
    }
   ],
   "source": [
    "df.shape"
   ]
  },
  {
   "attachments": {},
   "cell_type": "markdown",
   "metadata": {},
   "source": [
    "Indicadores de interés para el proyecto:"
   ]
  },
  {
   "cell_type": "code",
   "execution_count": 8,
   "metadata": {},
   "outputs": [],
   "source": [
    "indicadores = [\"Adequacy of social insurance programs (% of total welfare of beneficiary households)\", \n",
    "            \"Adequacy of social protection and labor programs (% of total welfare of beneficiary households)\",\n",
    "            \"Adequacy of social safety net programs (% of total welfare of beneficiary households)\",\n",
    "            \"Adequacy of unemployment benefits and ALMP (% of total welfare of beneficiary households)\",\n",
    "            \"Adjusted net national income per capita (current US$)\",\n",
    "            \"CPIA policies for social inclusion/equity cluster average (1=low to 6=high)\",\n",
    "            \"CPIA transparency, accountability, and corruption in the public sector rating (1=low to 6=high)\",\n",
    "            \"Compensation of employees (% of expense)\",\n",
    "            \"Employment in agriculture (% of total employment) (modeled ILO estimate)\",\n",
    "            \"Employment in industry (% of total employment) (modeled ILO estimate)\",\n",
    "            \"Employment in services (% of total employment) (modeled ILO estimate)\",\n",
    "            \"Employment to population ratio, 15+, total (%) (national estimate)\",\n",
    "            \"Inflation, consumer prices (annual %)\",\n",
    "            \"Intentional homicides (per 100,000 people)\",\n",
    "            \"International migrant stock, total\",\n",
    "            \"Labor tax and contributions (% of commercial profits)\",\n",
    "            \"Labor force, total\",\n",
    "            \"Part time employment, total (% of total employment)\",\n",
    "            \"Tax revenue (% of GDP)\",\n",
    "            \"Taxes on income, profits and capital gains (% of revenue)\",\n",
    "            \"Unemployment with advanced education (% of total labor force with advanced education)\",\n",
    "            \"Unemployment with basic education (% of total labor force with basic education)\",\n",
    "            \"Unemployment with intermediate education (% of total labor force with intermediate education)\",\n",
    "            \"Unemployment, total (% of total labor force) (national estimate)\",\n",
    "            \"Wage and salaried workers, total (% of total employment) (modeled ILO estimate)\",\n",
    "            \"GDP per capita (current US$)\",\n",
    "            \"GDP growth (annual %)\"]"
   ]
  },
  {
   "attachments": {},
   "cell_type": "markdown",
   "metadata": {},
   "source": [
    "Filtramos por esos indicadores"
   ]
  },
  {
   "cell_type": "code",
   "execution_count": 13,
   "metadata": {},
   "outputs": [],
   "source": [
    "df_filtro = df[df[\"Indicator Name\"].isin(indicadores)]"
   ]
  },
  {
   "cell_type": "code",
   "execution_count": 14,
   "metadata": {},
   "outputs": [
    {
     "data": {
      "text/plain": [
       "(7182, 25)"
      ]
     },
     "execution_count": 14,
     "metadata": {},
     "output_type": "execute_result"
    }
   ],
   "source": [
    "df_filtro.shape"
   ]
  },
  {
   "attachments": {},
   "cell_type": "markdown",
   "metadata": {},
   "source": [
    "Valores nulos"
   ]
  },
  {
   "cell_type": "code",
   "execution_count": 15,
   "metadata": {},
   "outputs": [
    {
     "data": {
      "text/plain": [
       "Country Name         0\n",
       "Country Code         0\n",
       "Indicator Name       0\n",
       "Indicator Code       0\n",
       "2000              3916\n",
       "2001              4121\n",
       "2002              4049\n",
       "2003              4045\n",
       "2004              4001\n",
       "2005              3176\n",
       "2006              3400\n",
       "2007              3382\n",
       "2008              3292\n",
       "2009              3192\n",
       "2010              2823\n",
       "2011              3104\n",
       "2012              2951\n",
       "2013              3110\n",
       "2014              2976\n",
       "2015              2755\n",
       "2016              3057\n",
       "2017              3037\n",
       "2018              3108\n",
       "2019              3126\n",
       "2020              4588\n",
       "dtype: int64"
      ]
     },
     "execution_count": 15,
     "metadata": {},
     "output_type": "execute_result"
    }
   ],
   "source": [
    "df_filtro.isna().sum()"
   ]
  },
  {
   "attachments": {},
   "cell_type": "markdown",
   "metadata": {},
   "source": [
    "Valores duplicados (no posee)"
   ]
  },
  {
   "cell_type": "code",
   "execution_count": 18,
   "metadata": {},
   "outputs": [
    {
     "data": {
      "text/plain": [
       "False    7182\n",
       "dtype: int64"
      ]
     },
     "execution_count": 18,
     "metadata": {},
     "output_type": "execute_result"
    }
   ],
   "source": [
    "df_filtro.duplicated().value_counts()"
   ]
  },
  {
   "cell_type": "code",
   "execution_count": null,
   "metadata": {},
   "outputs": [],
   "source": []
  }
 ],
 "metadata": {
  "kernelspec": {
   "display_name": "Python 3",
   "language": "python",
   "name": "python3"
  },
  "language_info": {
   "codemirror_mode": {
    "name": "ipython",
    "version": 3
   },
   "file_extension": ".py",
   "mimetype": "text/x-python",
   "name": "python",
   "nbconvert_exporter": "python",
   "pygments_lexer": "ipython3",
   "version": "3.10.9"
  },
  "orig_nbformat": 4,
  "vscode": {
   "interpreter": {
    "hash": "42153c4c753c9b011111c714d0476e53a03e7d305dd65353e4e91ed368c332d6"
   }
  }
 },
 "nbformat": 4,
 "nbformat_minor": 2
}
